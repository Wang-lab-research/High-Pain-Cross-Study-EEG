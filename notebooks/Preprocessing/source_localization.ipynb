{
 "cells": [
  {
   "cell_type": "markdown",
   "metadata": {},
   "source": [
    "# Compute source time course (STC) from Raw and Epochs data"
   ]
  },
  {
   "cell_type": "code",
   "execution_count": 1,
   "metadata": {},
   "outputs": [
    {
     "name": "stdout",
     "output_type": "stream",
     "text": [
      "imported src module\n",
      "imported preprocessing module\n",
      "imported utils module\n",
      "imported configs module\n",
      "0 files missing from root.txt in /home/wanglab/mne_data/MNE-fsaverage-data\n",
      "0 files missing from bem.txt in /home/wanglab/mne_data/MNE-fsaverage-data/fsaverage\n",
      "Total subjects: 43\n",
      "{'chronic_low_back_pain': ['018', '022', '024', '031', '032', '034', '036', '039', '040', '045', '046', '052', '020', '021', '023', '029', '037', '041', '042', '044', '048', '049', '050', '056', 'C10', 'C11', 'C12', 'C13', 'C14', 'C15', 'C16', 'C17', 'C18', 'C19', 'C2.', 'C24', 'C25', 'C26', 'C27', 'C3.', 'C6.', 'C7.', 'C9.']}\n"
     ]
    }
   ],
   "source": [
    "import sys\n",
    "import os\n",
    "src_path = os.path.dirname(os.path.abspath(\"../../src\"))\n",
    "sys.path.append(src_path)\n",
    "from src.preprocessing.classes import Subject\n",
    "from src.utils.config import Config\n",
    "import src.configs.config as configs\n",
    "import src.preprocessing.sl_utils as sl_utils \n",
    "from autoreject import AutoReject\n",
    "\n",
    "# Load in subject IDs and paths from CFGLog\n",
    "config = Config.from_json(configs.CFGLog)\n",
    "RANDOM_STATE = config.parameters.random_seed\n",
    "\n",
    "CLBP_CP_subject_ids = config.data.chronic_low_back_pain.subject_ids.CP\n",
    "CLBP_HC_subject_ids = config.data.chronic_low_back_pain.subject_ids.HC\n",
    "\n",
    "# CLBP already processed\n",
    "clbp_processed_path = config.data.chronic_low_back_pain.processed_path\n",
    "\n",
    "# Define preprocessing parameters\n",
    "# Combine all subject IDs into dict separated by group\n",
    "sub_ids = {\n",
    "    \"chronic_low_back_pain\": CLBP_CP_subject_ids + CLBP_HC_subject_ids\n",
    "}\n",
    "\n",
    "print(f\"Total subjects: {len(sub_ids['chronic_low_back_pain'])}\")\n",
    "print(sub_ids)\n",
    "\n",
    "event_id = configs.CFGLog['parameters']['event_id']\n",
    "# tmin, tmax = config.parameters.tmin, config.parameters.tmax\n",
    "\n",
    "average_dipoles = True"
   ]
  },
  {
   "cell_type": "code",
   "execution_count": 2,
   "metadata": {},
   "outputs": [],
   "source": [
    "sub_ids = {\n",
    "    \"chronic_low_back_pain\": ['039']\n",
    "}"
   ]
  },
  {
   "cell_type": "code",
   "execution_count": 3,
   "metadata": {},
   "outputs": [
    {
     "name": "stderr",
     "output_type": "stream",
     "text": [
      "/tmp/ipykernel_37769/869727834.py:6: RuntimeWarning: An average reference projection was already added. The data has been left untouched.\n",
      "  subject.eyes_open.set_eeg_reference(ref_channels='average',\n",
      "/tmp/ipykernel_37769/869727834.py:11: RuntimeWarning: An average reference projection was already added. The data has been left untouched.\n",
      "  subject.epochs.set_eeg_reference(ref_channels='average',\n"
     ]
    },
    {
     "name": "stdout",
     "output_type": "stream",
     "text": [
      "Loaded epochs for subject 039\n",
      "Saved stc_epochs to /home/wanglab/Documents/George_Kenefati_6.20.24-Present/High-Pain-Cross-Study-EEG/data/preprocessed/039_stc_epochs.pkl.\n",
      "*stc_epochs shape =  (48, 12, 1801)\n",
      "Saving stc.mat for 039 in region: rostralanteriorcingulate-lh\n",
      "*stc_epochs_i shape =  (48, 1801)\n",
      "Saving stc.mat for 039 in region: caudalanteriorcingulate-lh\n",
      "*stc_epochs_i shape =  (48, 1801)\n",
      "Saving stc.mat for 039 in region: postcentral-lh\n",
      "*stc_epochs_i shape =  (48, 1801)\n",
      "Saving stc.mat for 039 in region: insula-lh\n",
      "*stc_epochs_i shape =  (48, 1801)\n",
      "Saving stc.mat for 039 in region: superiorfrontal-lh\n",
      "*stc_epochs_i shape =  (48, 1801)\n",
      "Saving stc.mat for 039 in region: medialorbitofrontal-lh\n",
      "*stc_epochs_i shape =  (48, 1801)\n",
      "Saving stc.mat for 039 in region: rostralanteriorcingulate-rh\n",
      "*stc_epochs_i shape =  (48, 1801)\n",
      "Saving stc.mat for 039 in region: caudalanteriorcingulate-rh\n",
      "*stc_epochs_i shape =  (48, 1801)\n",
      "Saving stc.mat for 039 in region: postcentral-rh\n",
      "*stc_epochs_i shape =  (48, 1801)\n",
      "Saving stc.mat for 039 in region: insula-rh\n",
      "*stc_epochs_i shape =  (48, 1801)\n",
      "Saving stc.mat for 039 in region: superiorfrontal-rh\n",
      "*stc_epochs_i shape =  (48, 1801)\n",
      "Saving stc.mat for 039 in region: medialorbitofrontal-rh\n",
      "*stc_epochs_i shape =  (48, 1801)\n",
      "Saved stc_epochs to /home/wanglab/Documents/George_Kenefati_6.20.24-Present/High-Pain-Cross-Study-EEG/data/preprocessed/039_stc_epochs/medialorbitofrontal-rh.mat.\n",
      "Saved stc_epochs_concatenated to /home/wanglab/Documents/George_Kenefati_6.20.24-Present/High-Pain-Cross-Study-EEG/data/preprocessed/039_stc_epochs_concatenated.vhdr.\n"
     ]
    },
    {
     "name": "stderr",
     "output_type": "stream",
     "text": [
      "/home/wanglab/Documents/George_Kenefati_6.20.24-Present/High-Pain-Cross-Study-EEG/src/preprocessing/classes.py:223: RuntimeWarning: Encountered data in 'double' format. Converting to float32.\n",
      "  data_object.export(save_file_path, overwrite=overwrite)\n"
     ]
    }
   ],
   "source": [
    "for group in sub_ids:\n",
    "    for sub_id in sub_ids[group]:\n",
    "        subject = Subject(sub_id, group)\n",
    "                \n",
    "        subject.load_eyes_open()\n",
    "        subject.eyes_open.set_eeg_reference(ref_channels='average',\n",
    "                                            projection=True)\n",
    "        \n",
    "        # Load epochs \n",
    "        subject.load_epochs()\n",
    "        subject.epochs.set_eeg_reference(ref_channels='average',\n",
    "                                            projection=True)\n",
    "        \n",
    "        # Source localize\n",
    "        subject.get_stc_epochs(\n",
    "            average_dipoles=True,\n",
    "            method='MNE',\n",
    "            return_eyes_open=False,\n",
    "        )\n",
    "                        \n",
    "        # Save\n",
    "        subject.save(subject.stc_epochs, \"stc_epochs\")\n",
    "        subject.save(subject.stc_epochs,\n",
    "                        \"stc_epochs\", \n",
    "                        as_mat=True,\n",
    "                        overwrite=True,\n",
    "                        )\n",
    "        \n",
    "        # Concatenate epochs into VHDR for visualization\n",
    "        subject.concatenate_epochs(\n",
    "            data=subject.stc_epochs, \n",
    "            save=True, \n",
    "            overwrite=True)"
   ]
  },
  {
   "cell_type": "code",
   "execution_count": null,
   "metadata": {},
   "outputs": [],
   "source": []
  }
 ],
 "metadata": {
  "kernelspec": {
   "display_name": "Python 3",
   "language": "python",
   "name": "python3"
  },
  "language_info": {
   "codemirror_mode": {
    "name": "ipython",
    "version": 3
   },
   "file_extension": ".py",
   "mimetype": "text/x-python",
   "name": "python",
   "nbconvert_exporter": "python",
   "pygments_lexer": "ipython3",
   "version": "3.11.9"
  }
 },
 "nbformat": 4,
 "nbformat_minor": 2
}

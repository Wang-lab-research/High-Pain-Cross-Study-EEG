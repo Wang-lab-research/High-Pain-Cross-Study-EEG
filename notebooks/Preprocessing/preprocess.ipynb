{
 "cells": [
  {
   "cell_type": "markdown",
   "metadata": {},
   "source": [
    "# Preprocess subject data"
   ]
  },
  {
   "cell_type": "code",
   "execution_count": 1,
   "metadata": {},
   "outputs": [
    {
     "name": "stdout",
     "output_type": "stream",
     "text": [
      "imported main module\n",
      "imported preprocessing module\n",
      "imported configs module\n",
      "imported utils module\n"
     ]
    }
   ],
   "source": [
    "import sys\n",
    "import os\n",
    "from pathlib import Path\n",
    "src_path = os.path.dirname(os.path.abspath(\"../../src\"))\n",
    "sys.path.append(src_path)\n",
    "from src.preprocessing.classes import Subject\n",
    "from src.utils.config import Config\n",
    "import src.configs.config as configs\n",
    "from src.preprocessing.utils import get_time_window\n"
   ]
  },
  {
   "cell_type": "markdown",
   "metadata": {},
   "source": [
    "Load in subject IDs and paths from CFGLog"
   ]
  },
  {
   "cell_type": "code",
   "execution_count": 2,
   "metadata": {},
   "outputs": [],
   "source": [
    "config = Config.from_json(configs.CFGLog)\n",
    "\n",
    "CLBP_CP_subject_ids = config.data.chronic_low_back_pain.subject_ids.CP\n",
    "CLBP_HC_subject_ids = config.data.chronic_low_back_pain.subject_ids.HC\n",
    "Panc_subject_ids = config.data.chronic_pancreatitis.subject_ids.CP\n",
    "Lupus_CP_subject_ids = config.data.lupus.subject_ids.CP\n",
    "Lupus_NP_subject_ids = config.data.lupus.subject_ids.NP"
   ]
  },
  {
   "cell_type": "markdown",
   "metadata": {},
   "source": [
    "Create paths"
   ]
  },
  {
   "cell_type": "code",
   "execution_count": 3,
   "metadata": {},
   "outputs": [
    {
     "name": "stdout",
     "output_type": "stream",
     "text": [
      "[-2.5,0.0,2.5]\n"
     ]
    }
   ],
   "source": [
    "# Data pahts\n",
    "abs_path = Path(os.path.dirname(os.path.abspath(\"../../../\")))\n",
    "\n",
    "CLBP_path = abs_path / config.data.chronic_low_back_pain.path\n",
    "Panc_path = abs_path / config.data.chronic_pancreatitis.path\n",
    "Lupus_path = abs_path / config.data.lupus.path\n",
    "\n",
    "times_tup, time_win_path = get_time_window(configs.PERISTIM_TIME_WIN)"
   ]
  },
  {
   "cell_type": "markdown",
   "metadata": {},
   "source": [
    "Define preprocessing parameters"
   ]
  },
  {
   "cell_type": "code",
   "execution_count": 4,
   "metadata": {},
   "outputs": [],
   "source": [
    "# Time range\n",
    "time_range=(-0.2, 0.8)\n",
    "\n",
    "# Baseline\n",
    "baseline=(-2.5, 0)"
   ]
  },
  {
   "cell_type": "markdown",
   "metadata": {},
   "source": [
    "Combine subject IDs"
   ]
  },
  {
   "cell_type": "code",
   "execution_count": 5,
   "metadata": {},
   "outputs": [
    {
     "name": "stdout",
     "output_type": "stream",
     "text": [
      "Total subjects: 63\n",
      "{'chronic_low_back_pain': ['018', '022', '024', '031', '032', '034', '036', '039', '040', '045', '046', '052', '020', '021', '023', '029', '037', '041', '042', '044', '048', '049', '050', '056', 'C10', 'C11', 'C12', 'C13', 'C14', 'C15', 'C16', 'C17', 'C18', 'C19', 'C2.', 'C24', 'C25', 'C26', 'C27', 'C3.', 'C6.', 'C7.', 'C9.'], 'chronic_pancreatitis': ['002', '003', '006', '007', '008', '009', '010', '011', '012', '013'], 'lupus': ['5186', '6310', '5295', '5873', '6100', '6106', '5648', '5675', '5845', '5713']}\n"
     ]
    }
   ],
   "source": [
    "# Combine all subject IDs into dict separated by group\n",
    "sub_ids = {\n",
    "    \"chronic_low_back_pain\": CLBP_CP_subject_ids + CLBP_HC_subject_ids,\n",
    "    \"chronic_pancreatitis\": Panc_subject_ids,\n",
    "    \"lupus\": Lupus_CP_subject_ids + Lupus_NP_subject_ids\n",
    "}\n",
    "\n",
    "print(f\"Total subjects: {len(sub_ids['chronic_low_back_pain']) + len(sub_ids['chronic_pancreatitis']) + len(sub_ids['lupus'])}\")\n",
    "print(sub_ids)"
   ]
  },
  {
   "cell_type": "markdown",
   "metadata": {},
   "source": [
    "Create Subject object for each subject"
   ]
  },
  {
   "cell_type": "code",
   "execution_count": 6,
   "metadata": {},
   "outputs": [
    {
     "name": "stdout",
     "output_type": "stream",
     "text": [
      "Loading \n",
      "+--------------+-----------------------+\n",
      "|   Subject ID | Group                 |\n",
      "+==============+=======================+\n",
      "|          018 | chronic_low_back_pain |\n",
      "+--------------+-----------------------+\n"
     ]
    },
    {
     "ename": "AttributeError",
     "evalue": "'Subject' object has no attribute 'path'",
     "output_type": "error",
     "traceback": [
      "\u001b[0;31m---------------------------------------------------------------------------\u001b[0m",
      "\u001b[0;31mAttributeError\u001b[0m                            Traceback (most recent call last)",
      "Cell \u001b[0;32mIn[6], line 5\u001b[0m\n\u001b[1;32m      2\u001b[0m \u001b[38;5;28;01mfor\u001b[39;00m sub_id \u001b[38;5;129;01min\u001b[39;00m sub_ids[group]:\n\u001b[1;32m      3\u001b[0m     subject \u001b[38;5;241m=\u001b[39m Subject(sub_id, group)\n\u001b[0;32m----> 5\u001b[0m     \u001b[43msubject\u001b[49m\u001b[38;5;241;43m.\u001b[39;49m\u001b[43mload_raw\u001b[49m\u001b[43m(\u001b[49m\u001b[43m)\u001b[49m\n\u001b[1;32m      6\u001b[0m     subject\u001b[38;5;241m.\u001b[39mget_cleaned_resting()\n\u001b[1;32m      7\u001b[0m     subject\u001b[38;5;241m.\u001b[39mget_cleaned_epochs()\n",
      "File \u001b[0;32m~/Documents/George_Kenefati_6.20.24-Present/High-Pain-Cross-Study-EEG/src/preprocessing/classes.py:57\u001b[0m, in \u001b[0;36mSubject.load_raw\u001b[0;34m(self)\u001b[0m\n\u001b[1;32m     55\u001b[0m \u001b[38;5;28;01mdef\u001b[39;00m \u001b[38;5;21mload_raw\u001b[39m(\u001b[38;5;28mself\u001b[39m):\n\u001b[1;32m     56\u001b[0m     \u001b[38;5;28mprint\u001b[39m(\u001b[38;5;124mf\u001b[39m\u001b[38;5;124m\"\u001b[39m\u001b[38;5;124mLoading \u001b[39m\u001b[38;5;130;01m\\n\u001b[39;00m\u001b[38;5;132;01m{\u001b[39;00m\u001b[38;5;28mself\u001b[39m\u001b[38;5;132;01m}\u001b[39;00m\u001b[38;5;124m\"\u001b[39m)\n\u001b[0;32m---> 57\u001b[0m     \u001b[38;5;28mself\u001b[39m\u001b[38;5;241m.\u001b[39mraw \u001b[38;5;241m=\u001b[39m mne\u001b[38;5;241m.\u001b[39mio\u001b[38;5;241m.\u001b[39mread_raw_fif(\u001b[38;5;28;43mself\u001b[39;49m\u001b[38;5;241;43m.\u001b[39;49m\u001b[43mpath\u001b[49m, preload\u001b[38;5;241m=\u001b[39m\u001b[38;5;28;01mTrue\u001b[39;00m)\n",
      "\u001b[0;31mAttributeError\u001b[0m: 'Subject' object has no attribute 'path'"
     ]
    }
   ],
   "source": [
    "for group in sub_ids:\n",
    "    for sub_id in sub_ids[group]:\n",
    "        subject = Subject(sub_id, group)\n",
    "        \n",
    "        subject.load_raw()\n",
    "        subject.get_cleaned_resting()\n",
    "        subject.get_cleaned_epochs()\n",
    "        subject.get_stc_resting()\n",
    "        subject.get_stc_epochs()\n",
    "        \n",
    "        break"
   ]
  },
  {
   "cell_type": "code",
   "execution_count": null,
   "metadata": {},
   "outputs": [],
   "source": [
    "# Create an instance of SubjectProcessor\n",
    "processor = SubjectProcessor(paths_dict, roi_acronyms)\n",
    "\n",
    "# Loop through each subject and process the response\n",
    "for sub_id in sub_ids_focus:\n",
    "    subject = Subject(sub_id)\n",
    "    processor.plot_TFR_and_trace(subject,\n",
    "                                 channel=channel, \n",
    "                                 baseline=baseline,\n",
    "                                 time_range=time_range,\n",
    "                                 vlim=vlim,\n",
    "                                 )\n",
    "    # processor.process_response(subject)\n",
    "    # break\n",
    "    \n",
    "\n",
    "# Display the results\n",
    "processor.display_results()\n"
   ]
  }
 ],
 "metadata": {
  "kernelspec": {
   "display_name": "Python 3",
   "language": "python",
   "name": "python3"
  },
  "language_info": {
   "codemirror_mode": {
    "name": "ipython",
    "version": 3
   },
   "file_extension": ".py",
   "mimetype": "text/x-python",
   "name": "python",
   "nbconvert_exporter": "python",
   "pygments_lexer": "ipython3",
   "version": "3.11.9"
  }
 },
 "nbformat": 4,
 "nbformat_minor": 2
}

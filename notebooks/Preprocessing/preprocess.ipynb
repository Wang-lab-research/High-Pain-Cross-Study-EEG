{
 "cells": [
  {
   "cell_type": "markdown",
   "metadata": {},
   "source": [
    "# Preprocess subject data"
   ]
  },
  {
   "cell_type": "code",
   "execution_count": 1,
   "metadata": {},
   "outputs": [
    {
     "name": "stdout",
     "output_type": "stream",
     "text": [
      "imported src module\n",
      "imported preprocessing module\n",
      "imported configs module\n",
      "imported utils module\n"
     ]
    }
   ],
   "source": [
    "import sys\n",
    "import os\n",
    "from pathlib import Path\n",
    "src_path = os.path.dirname(os.path.abspath(\"../../src\"))\n",
    "sys.path.append(src_path)\n",
    "from src.preprocessing.classes import Subject, Group\n",
    "from src.utils.config import Config\n",
    "import src.configs.config as configs\n",
    "import src.preprocessing.utils as pre_utils \n"
   ]
  },
  {
   "cell_type": "markdown",
   "metadata": {},
   "source": [
    "Load in subject IDs and paths from CFGLog"
   ]
  },
  {
   "cell_type": "code",
   "execution_count": 2,
   "metadata": {},
   "outputs": [],
   "source": [
    "config = Config.from_json(configs.CFGLog)\n",
    "\n",
    "CLBP_CP_subject_ids = config.data.chronic_low_back_pain.subject_ids.CP\n",
    "CLBP_HC_subject_ids = config.data.chronic_low_back_pain.subject_ids.HC\n",
    "Panc_subject_ids = config.data.chronic_pancreatitis.subject_ids.CP\n",
    "Lupus_CP_subject_ids = config.data.lupus.subject_ids.CP\n",
    "Lupus_NP_subject_ids = config.data.lupus.subject_ids.NP"
   ]
  },
  {
   "cell_type": "code",
   "execution_count": 3,
   "metadata": {},
   "outputs": [
    {
     "ename": "AttributeError",
     "evalue": "module 'src.configs.config' has no attribute 'PERISTIM_TIME_WIN'",
     "output_type": "error",
     "traceback": [
      "\u001b[0;31m---------------------------------------------------------------------------\u001b[0m",
      "\u001b[0;31mAttributeError\u001b[0m                            Traceback (most recent call last)",
      "Cell \u001b[0;32mIn[3], line 1\u001b[0m\n\u001b[0;32m----> 1\u001b[0m times_tup, time_win_path \u001b[38;5;241m=\u001b[39m pre_utils\u001b[38;5;241m.\u001b[39mget_time_window(\u001b[43mconfigs\u001b[49m\u001b[38;5;241;43m.\u001b[39;49m\u001b[43mPERISTIM_TIME_WIN\u001b[49m)\n",
      "\u001b[0;31mAttributeError\u001b[0m: module 'src.configs.config' has no attribute 'PERISTIM_TIME_WIN'"
     ]
    }
   ],
   "source": [
    "times_tup, time_win_path = pre_utils.get_time_window(configs.PERISTIM_TIME_WIN)"
   ]
  },
  {
   "cell_type": "markdown",
   "metadata": {},
   "source": [
    "Combine subject IDs"
   ]
  },
  {
   "cell_type": "code",
   "execution_count": null,
   "metadata": {},
   "outputs": [],
   "source": [
    "# Combine all subject IDs into dict separated by group\n",
    "sub_ids = {\n",
    "    \"chronic_low_back_pain\": CLBP_CP_subject_ids + CLBP_HC_subject_ids,\n",
    "    \"chronic_pancreatitis\": Panc_subject_ids,\n",
    "    \"lupus\": Lupus_CP_subject_ids + Lupus_NP_subject_ids\n",
    "}\n",
    "\n",
    "print(f\"Total subjects: {len(sub_ids['chronic_low_back_pain']) + len(sub_ids['chronic_pancreatitis']) + len(sub_ids['lupus'])}\")\n",
    "print(sub_ids)"
   ]
  },
  {
   "cell_type": "markdown",
   "metadata": {},
   "source": [
    "Define preprocessing parameters"
   ]
  },
  {
   "cell_type": "code",
   "execution_count": null,
   "metadata": {},
   "outputs": [],
   "source": [
    "TIME_RANGE = (-2.5, 2.5)\n",
    "PERISTIM_TIME_WIN = abs(TIME_RANGE[0]) + abs(TIME_RANGE[1])\n",
    "# BASELINE = (-0.2, 0)"
   ]
  },
  {
   "cell_type": "markdown",
   "metadata": {},
   "source": [
    "Create Subject object for each subject"
   ]
  },
  {
   "cell_type": "code",
   "execution_count": null,
   "metadata": {},
   "outputs": [],
   "source": [
    "for group in sub_ids:\n",
    "    for sub_id in sub_ids[group]:\n",
    "        subject = Subject(sub_id, group)\n",
    "        print(subject.subject_folder)\n",
    "        subject.preprocess()\n",
    "        subject.get_cleaned_epochs(TIME_RANGE, PERISTIM_TIME_WIN)           \n",
    "        break\n",
    "\n",
    "        # subject.get_cleaned_resting()\n",
    "\n",
    "        # subject.get_stc_resting()\n",
    "        # subject.get_stc_epochs()\n"
   ]
  },
  {
   "cell_type": "code",
   "execution_count": null,
   "metadata": {},
   "outputs": [],
   "source": [
    "subject.preprocessed_raw"
   ]
  },
  {
   "cell_type": "code",
   "execution_count": null,
   "metadata": {},
   "outputs": [],
   "source": [
    "# Create an instance of SubjectProcessor\n",
    "processor = SubjectProcessor(paths_dict, roi_acronyms)\n",
    "\n",
    "# Loop through each subject and process the response\n",
    "for sub_id in sub_ids_focus:\n",
    "    subject = Subject(sub_id)\n",
    "    processor.plot_TFR_and_trace(subject,\n",
    "                                 channel=channel, \n",
    "                                 baseline=baseline,\n",
    "                                 time_range=time_range,\n",
    "                                 vlim=vlim,\n",
    "                                 )\n",
    "    # processor.process_response(subject)\n",
    "    # break\n",
    "    \n",
    "\n",
    "# Display the results\n",
    "processor.display_results()\n"
   ]
  }
 ],
 "metadata": {
  "kernelspec": {
   "display_name": "Python 3",
   "language": "python",
   "name": "python3"
  },
  "language_info": {
   "codemirror_mode": {
    "name": "ipython",
    "version": 3
   },
   "file_extension": ".py",
   "mimetype": "text/x-python",
   "name": "python",
   "nbconvert_exporter": "python",
   "pygments_lexer": "ipython3",
   "version": "3.11.9"
  }
 },
 "nbformat": 4,
 "nbformat_minor": 2
}

{
 "cells": [
  {
   "cell_type": "markdown",
   "metadata": {},
   "source": [
    "# Preprocess subject data"
   ]
  },
  {
   "cell_type": "code",
   "execution_count": 5,
   "metadata": {},
   "outputs": [
    {
     "name": "stderr",
     "output_type": "stream",
     "text": [
      "2024-07-16 14:41:08,253 - __main__ - INFO - Total subjects: 43\n",
      "2024-07-16 14:41:08,255 - __main__ - INFO - {'chronic_low_back_pain': ['018', '022', '024', '031', '032', '034', '036', '039', '040', '045', '046', '052', '020', '021', '023', '029', '037', '041', '042', '044', '048', '049', '050', '056', 'C10', 'C11', 'C12', 'C13', 'C14', 'C15', 'C16', 'C17', 'C18', 'C19', 'C2.', 'C24', 'C25', 'C26', 'C27', 'C3.', 'C6.', 'C7.', 'C9.']}\n"
     ]
    },
    {
     "name": "stdout",
     "output_type": "stream",
     "text": [
      "[-2.5,0.0,2.5]\n",
      "importing Config from src.utils.config on engine(s)\n",
      "importing logging on engine(s)\n"
     ]
    },
    {
     "data": {
      "application/vnd.jupyter.widget-view+json": {
       "model_id": "1ea82b1292844a68a1755f3f8eba6f36",
       "version_major": 2,
       "version_minor": 0
      },
      "text/plain": [
       "unknown:   0%|          | 0/7 [00:00<?, ?tasks/s]"
      ]
     },
     "metadata": {},
     "output_type": "display_data"
    }
   ],
   "source": [
    "import sys\n",
    "import os\n",
    "import logging\n",
    "import ipyparallel as ipp\n",
    "\n",
    "# Set up the source path\n",
    "src_path = os.path.dirname(os.path.abspath(\"../../src\"))\n",
    "sys.path.append(src_path)\n",
    "\n",
    "# Import necessary modules from src\n",
    "from src.utils.config import Config\n",
    "import src.configs.config as configs\n",
    "import src.preprocessing.utils as pre_utils\n",
    "from src.preprocessing.classes import Subject\n",
    "\n",
    "# Set up logging\n",
    "logging.basicConfig(level=logging.INFO, format='%(asctime)s - %(levelname)s - %(message)s')\n",
    "logger = logging.getLogger(__name__)\n",
    "\n",
    "# Load in subject IDs and paths from configuration\n",
    "config = Config.from_json(configs.CFGLog)\n",
    "\n",
    "# Define subject IDs\n",
    "subject_ids = {\n",
    "    \"chronic_low_back_pain\": config.data.chronic_low_back_pain.subject_ids.CP + config.data.chronic_low_back_pain.subject_ids.HC,\n",
    "    # \"chronic_pancreatitis\": config.data.chronic_pancreatitis.subject_ids.CP,\n",
    "}\n",
    "\n",
    "# CLBP processed path\n",
    "clbp_processed_path = config.data.chronic_low_back_pain.processed_path\n",
    "\n",
    "# Define preprocessing parameters\n",
    "PERISTIM_TIME_WIN = 5\n",
    "times_tup, time_win_path = pre_utils.get_time_window(PERISTIM_TIME_WIN)\n",
    "time_range = (times_tup[0], times_tup[-1])\n",
    "\n",
    "# Log total subjects\n",
    "total_subjects = sum(len(ids) for ids in subject_ids.values())\n",
    "logger.info(f\"Total subjects: {total_subjects}\")\n",
    "logger.info(subject_ids)\n",
    "\n",
    "# Function to preprocess each subject\n",
    "def preprocess_subject(sub_id, group, clbp_processed_path, time_range, PERISTIM_TIME_WIN):\n",
    "    logging.basicConfig(level=logging.INFO, format='%(asctime)s - %(levelname)s - %(message)s')\n",
    "    logger = logging.getLogger(__name__)\n",
    "\n",
    "    try:\n",
    "        preprocessed_data_path = clbp_processed_path if group == \"chronic_low_back_pain\" else None\n",
    "        subject = Subject(sub_id, group, preprocessed_data_path=preprocessed_data_path)\n",
    "        logger.info(f\"Processing subject: {sub_id} in group: {group}\")\n",
    "        # subject.preprocess()\n",
    "        # subject.get_cleaned_epochs(time_range, PERISTIM_TIME_WIN)\n",
    "\n",
    "        # Load in Raw data\n",
    "        subject.load_preprocessed()\n",
    "        subject.save(subject.preprocessed_raw, \"preprocessed_raw\", as_vhdr=True)\n",
    "        \n",
    "        # Load in Epochs data\n",
    "        subject.load_epochs()\n",
    "        subject.save(subject.epochs.data, \"epochs\", as_mat=True)\n",
    "        \n",
    "        logger.info(f\"Completed processing subject: {sub_id} in group: {group}\")\n",
    "    except FileNotFoundError as e:\n",
    "        logger.error(f\"FileNotFoundError for subject: {sub_id} - {e}\")\n",
    "    except Exception as e:\n",
    "        logger.error(f\"An error occurred for subject: {sub_id} - {e}\")\n",
    "\n",
    "# Connect to IPyParallel cluster\n",
    "rc = ipp.Client(profile='preprocessing')\n",
    "dview = rc[:]\n",
    "\n",
    "# Push the source path and necessary imports to all engines\n",
    "dview.execute(f\"import sys\")\n",
    "dview.execute(f\"sys.path.append('{src_path}')\")\n",
    "\n",
    "# Sync necessary imports on all engines\n",
    "with dview.sync_imports():\n",
    "    from src.utils.config import Config\n",
    "    import logging\n",
    "\n",
    "# Push necessary configurations and functions to all engines\n",
    "dview.push({\n",
    "    'src_path': src_path,\n",
    "    'config': config,\n",
    "    'clbp_processed_path': clbp_processed_path,\n",
    "    'time_range': time_range,\n",
    "    'PERISTIM_TIME_WIN': PERISTIM_TIME_WIN,\n",
    "    'preprocess_subject': preprocess_subject\n",
    "})\n",
    "\n",
    "# Map the function to the subjects in parallel\n",
    "results = []\n",
    "for group in subject_ids:\n",
    "    results += dview.map(\n",
    "        preprocess_subject, \n",
    "        subject_ids[group], \n",
    "        [group] * len(subject_ids[group]), \n",
    "        [clbp_processed_path] * len(subject_ids[group]), \n",
    "        [time_range] * len(subject_ids[group]), \n",
    "        [PERISTIM_TIME_WIN] * len(subject_ids[group])\n",
    "    )\n",
    "\n",
    "# Wait for results to complete\n",
    "rc.wait_interactive()\n"
   ]
  },
  {
   "cell_type": "code",
   "execution_count": null,
   "metadata": {},
   "outputs": [
    {
     "name": "stderr",
     "output_type": "stream",
     "text": [
      "2024-07-15 16:25:11,290 - __main__ - INFO - [None, None, None, None, None, None, None, None, None, None, None, None, None, None, None, None, None, None, None, None, None, None, None, None, None, None, None, None, None, None, None, None, None, None, None, None, None, None, None, None, None, None, None, None, None, None, None, None, None, None, None, None, None, None]\n"
     ]
    }
   ],
   "source": [
    "# inspect log\n",
    "logger.info(results)"
   ]
  },
  {
   "cell_type": "code",
   "execution_count": 1,
   "metadata": {},
   "outputs": [
    {
     "name": "stdout",
     "output_type": "stream",
     "text": [
      "imported src module\n",
      "imported preprocessing module\n",
      "imported configs module\n",
      "imported utils module\n",
      "Total subjects: 43\n",
      "{'chronic_low_back_pain': ['018', '022', '024', '031', '032', '034', '036', '039', '040', '045', '046', '052', '020', '021', '023', '029', '037', '041', '042', '044', '048', '049', '050', '056', 'C10', 'C11', 'C12', 'C13', 'C14', 'C15', 'C16', 'C17', 'C18', 'C19', 'C2.', 'C24', 'C25', 'C26', 'C27', 'C3.', 'C6.', 'C7.', 'C9.']}\n",
      "Loaded preprocessed entire for subject 018\n",
      "Loaded epochs for subject 018\n",
      "Loaded preprocessed entire for subject 022\n",
      "Loaded epochs for subject 022\n",
      "Saved epochs to /home/wanglab/Documents/George_Kenefati_6.20.24-Present/High-Pain-Cross-Study-EEG/data/preprocessed/022_epochs.\n",
      "Loaded preprocessed entire for subject 024\n",
      "Loaded epochs for subject 024\n",
      "Saved epochs to /home/wanglab/Documents/George_Kenefati_6.20.24-Present/High-Pain-Cross-Study-EEG/data/preprocessed/024_epochs.\n",
      "Loaded preprocessed entire for subject 031\n",
      "Loaded epochs for subject 031\n",
      "Saved epochs to /home/wanglab/Documents/George_Kenefati_6.20.24-Present/High-Pain-Cross-Study-EEG/data/preprocessed/031_epochs.\n",
      "Loaded preprocessed entire for subject 032\n",
      "Loaded epochs for subject 032\n",
      "Saved epochs to /home/wanglab/Documents/George_Kenefati_6.20.24-Present/High-Pain-Cross-Study-EEG/data/preprocessed/032_epochs.\n",
      "Loaded preprocessed entire for subject 034\n",
      "Loaded epochs for subject 034\n",
      "Saved epochs to /home/wanglab/Documents/George_Kenefati_6.20.24-Present/High-Pain-Cross-Study-EEG/data/preprocessed/034_epochs.\n",
      "Loaded preprocessed entire for subject 036\n",
      "Loaded epochs for subject 036\n",
      "Saved epochs to /home/wanglab/Documents/George_Kenefati_6.20.24-Present/High-Pain-Cross-Study-EEG/data/preprocessed/036_epochs.\n",
      "Loaded preprocessed entire for subject 039\n",
      "Loaded epochs for subject 039\n",
      "Saved epochs to /home/wanglab/Documents/George_Kenefati_6.20.24-Present/High-Pain-Cross-Study-EEG/data/preprocessed/039_epochs.\n",
      "Loaded preprocessed entire for subject 040\n",
      "Loaded epochs for subject 040\n",
      "Saved epochs to /home/wanglab/Documents/George_Kenefati_6.20.24-Present/High-Pain-Cross-Study-EEG/data/preprocessed/040_epochs.\n",
      "Loaded preprocessed entire for subject 045\n",
      "Loaded epochs for subject 045\n",
      "Saved epochs to /home/wanglab/Documents/George_Kenefati_6.20.24-Present/High-Pain-Cross-Study-EEG/data/preprocessed/045_epochs.\n",
      "Loaded preprocessed entire for subject 046\n",
      "Loaded epochs for subject 046\n",
      "Saved epochs to /home/wanglab/Documents/George_Kenefati_6.20.24-Present/High-Pain-Cross-Study-EEG/data/preprocessed/046_epochs.\n",
      "Loaded preprocessed entire for subject 052\n",
      "Loaded epochs for subject 052\n",
      "Saved epochs to /home/wanglab/Documents/George_Kenefati_6.20.24-Present/High-Pain-Cross-Study-EEG/data/preprocessed/052_epochs.\n",
      "Loaded preprocessed entire for subject 020\n",
      "Loaded epochs for subject 020\n",
      "Saved epochs to /home/wanglab/Documents/George_Kenefati_6.20.24-Present/High-Pain-Cross-Study-EEG/data/preprocessed/020_epochs.\n",
      "Loaded preprocessed entire for subject 021\n",
      "Loaded epochs for subject 021\n",
      "Saved epochs to /home/wanglab/Documents/George_Kenefati_6.20.24-Present/High-Pain-Cross-Study-EEG/data/preprocessed/021_epochs.\n",
      "Loaded preprocessed entire for subject 023\n",
      "Loaded epochs for subject 023\n",
      "Saved epochs to /home/wanglab/Documents/George_Kenefati_6.20.24-Present/High-Pain-Cross-Study-EEG/data/preprocessed/023_epochs.\n",
      "Loaded preprocessed entire for subject 029\n",
      "Loaded epochs for subject 029\n",
      "Saved epochs to /home/wanglab/Documents/George_Kenefati_6.20.24-Present/High-Pain-Cross-Study-EEG/data/preprocessed/029_epochs.\n",
      "Loaded preprocessed entire for subject 037\n",
      "Loaded epochs for subject 037\n",
      "Saved epochs to /home/wanglab/Documents/George_Kenefati_6.20.24-Present/High-Pain-Cross-Study-EEG/data/preprocessed/037_epochs.\n",
      "Loaded preprocessed entire for subject 041\n",
      "Loaded epochs for subject 041\n",
      "Saved epochs to /home/wanglab/Documents/George_Kenefati_6.20.24-Present/High-Pain-Cross-Study-EEG/data/preprocessed/041_epochs.\n",
      "Loaded preprocessed entire for subject 042\n",
      "Loaded epochs for subject 042\n",
      "Saved epochs to /home/wanglab/Documents/George_Kenefati_6.20.24-Present/High-Pain-Cross-Study-EEG/data/preprocessed/042_epochs.\n",
      "Loaded preprocessed entire for subject 044\n"
     ]
    },
    {
     "name": "stderr",
     "output_type": "stream",
     "text": [
      "/home/wanglab/Documents/George_Kenefati_6.20.24-Present/High-Pain-Cross-Study-EEG/src/preprocessing/classes.py:202: RuntimeWarning: Encountered data in 'int' format. Converting to float32.\n",
      "  data_object.export(save_file_path)\n",
      "/home/wanglab/mambaforge/envs/highpaineeg/lib/python3.11/site-packages/pybv/io.py:690: UserWarning: Encountered unsupported non-voltage units: n/a\n",
      "Note that the BrainVision format specification supports only µV.\n",
      "  warn(msg)\n"
     ]
    },
    {
     "name": "stdout",
     "output_type": "stream",
     "text": [
      "Saved preprocessed_raw to /home/wanglab/Documents/George_Kenefati_6.20.24-Present/High-Pain-Cross-Study-EEG/data/preprocessed/044_preprocessed_raw.vhdr.\n",
      "Loaded epochs for subject 044\n",
      "Saved epochs to /home/wanglab/Documents/George_Kenefati_6.20.24-Present/High-Pain-Cross-Study-EEG/data/preprocessed/044_epochs.\n",
      "Loaded preprocessed entire for subject 048\n"
     ]
    },
    {
     "name": "stderr",
     "output_type": "stream",
     "text": [
      "/home/wanglab/Documents/George_Kenefati_6.20.24-Present/High-Pain-Cross-Study-EEG/src/preprocessing/classes.py:202: RuntimeWarning: Encountered data in 'int' format. Converting to float32.\n",
      "  data_object.export(save_file_path)\n"
     ]
    },
    {
     "name": "stdout",
     "output_type": "stream",
     "text": [
      "Saved preprocessed_raw to /home/wanglab/Documents/George_Kenefati_6.20.24-Present/High-Pain-Cross-Study-EEG/data/preprocessed/048_preprocessed_raw.vhdr.\n",
      "Loaded epochs for subject 048\n",
      "Saved epochs to /home/wanglab/Documents/George_Kenefati_6.20.24-Present/High-Pain-Cross-Study-EEG/data/preprocessed/048_epochs.\n",
      "Loaded preprocessed entire for subject 049\n"
     ]
    },
    {
     "name": "stderr",
     "output_type": "stream",
     "text": [
      "/home/wanglab/Documents/George_Kenefati_6.20.24-Present/High-Pain-Cross-Study-EEG/src/preprocessing/classes.py:202: RuntimeWarning: Encountered data in 'int' format. Converting to float32.\n",
      "  data_object.export(save_file_path)\n"
     ]
    },
    {
     "name": "stdout",
     "output_type": "stream",
     "text": [
      "Saved preprocessed_raw to /home/wanglab/Documents/George_Kenefati_6.20.24-Present/High-Pain-Cross-Study-EEG/data/preprocessed/049_preprocessed_raw.vhdr.\n",
      "Loaded epochs for subject 049\n",
      "Saved epochs to /home/wanglab/Documents/George_Kenefati_6.20.24-Present/High-Pain-Cross-Study-EEG/data/preprocessed/049_epochs.\n",
      "Loaded preprocessed entire for subject 050\n"
     ]
    },
    {
     "name": "stderr",
     "output_type": "stream",
     "text": [
      "/home/wanglab/Documents/George_Kenefati_6.20.24-Present/High-Pain-Cross-Study-EEG/src/preprocessing/classes.py:202: RuntimeWarning: Encountered data in 'int' format. Converting to float32.\n",
      "  data_object.export(save_file_path)\n"
     ]
    },
    {
     "name": "stdout",
     "output_type": "stream",
     "text": [
      "Saved preprocessed_raw to /home/wanglab/Documents/George_Kenefati_6.20.24-Present/High-Pain-Cross-Study-EEG/data/preprocessed/050_preprocessed_raw.vhdr.\n",
      "Loaded epochs for subject 050\n",
      "Saved epochs to /home/wanglab/Documents/George_Kenefati_6.20.24-Present/High-Pain-Cross-Study-EEG/data/preprocessed/050_epochs.\n",
      "Loaded preprocessed entire for subject 056\n"
     ]
    },
    {
     "name": "stderr",
     "output_type": "stream",
     "text": [
      "/home/wanglab/Documents/George_Kenefati_6.20.24-Present/High-Pain-Cross-Study-EEG/src/preprocessing/classes.py:202: RuntimeWarning: Encountered data in 'int' format. Converting to float32.\n",
      "  data_object.export(save_file_path)\n"
     ]
    },
    {
     "name": "stdout",
     "output_type": "stream",
     "text": [
      "Saved preprocessed_raw to /home/wanglab/Documents/George_Kenefati_6.20.24-Present/High-Pain-Cross-Study-EEG/data/preprocessed/056_preprocessed_raw.vhdr.\n",
      "Loaded epochs for subject 056\n",
      "Saved epochs to /home/wanglab/Documents/George_Kenefati_6.20.24-Present/High-Pain-Cross-Study-EEG/data/preprocessed/056_epochs.\n",
      "Loaded preprocessed entire for subject C10\n"
     ]
    },
    {
     "name": "stderr",
     "output_type": "stream",
     "text": [
      "/home/wanglab/Documents/George_Kenefati_6.20.24-Present/High-Pain-Cross-Study-EEG/src/preprocessing/classes.py:202: RuntimeWarning: Encountered data in 'int' format. Converting to float32.\n",
      "  data_object.export(save_file_path)\n"
     ]
    },
    {
     "name": "stdout",
     "output_type": "stream",
     "text": [
      "Saved preprocessed_raw to /home/wanglab/Documents/George_Kenefati_6.20.24-Present/High-Pain-Cross-Study-EEG/data/preprocessed/C10_preprocessed_raw.vhdr.\n",
      "Loaded epochs for subject C10\n",
      "Saved epochs to /home/wanglab/Documents/George_Kenefati_6.20.24-Present/High-Pain-Cross-Study-EEG/data/preprocessed/C10_epochs.\n",
      "Loaded preprocessed entire for subject C11\n"
     ]
    },
    {
     "name": "stderr",
     "output_type": "stream",
     "text": [
      "/home/wanglab/Documents/George_Kenefati_6.20.24-Present/High-Pain-Cross-Study-EEG/src/preprocessing/classes.py:202: RuntimeWarning: Encountered data in 'int' format. Converting to float32.\n",
      "  data_object.export(save_file_path)\n"
     ]
    },
    {
     "name": "stdout",
     "output_type": "stream",
     "text": [
      "Saved preprocessed_raw to /home/wanglab/Documents/George_Kenefati_6.20.24-Present/High-Pain-Cross-Study-EEG/data/preprocessed/C11_preprocessed_raw.vhdr.\n",
      "Loaded epochs for subject C11\n",
      "Saved epochs to /home/wanglab/Documents/George_Kenefati_6.20.24-Present/High-Pain-Cross-Study-EEG/data/preprocessed/C11_epochs.\n",
      "Loaded preprocessed entire for subject C12\n"
     ]
    },
    {
     "name": "stderr",
     "output_type": "stream",
     "text": [
      "/home/wanglab/Documents/George_Kenefati_6.20.24-Present/High-Pain-Cross-Study-EEG/src/preprocessing/classes.py:202: RuntimeWarning: Encountered data in 'int' format. Converting to float32.\n",
      "  data_object.export(save_file_path)\n"
     ]
    },
    {
     "name": "stdout",
     "output_type": "stream",
     "text": [
      "Saved preprocessed_raw to /home/wanglab/Documents/George_Kenefati_6.20.24-Present/High-Pain-Cross-Study-EEG/data/preprocessed/C12_preprocessed_raw.vhdr.\n",
      "Loaded epochs for subject C12\n",
      "Saved epochs to /home/wanglab/Documents/George_Kenefati_6.20.24-Present/High-Pain-Cross-Study-EEG/data/preprocessed/C12_epochs.\n",
      "Loaded preprocessed entire for subject C13\n"
     ]
    },
    {
     "name": "stderr",
     "output_type": "stream",
     "text": [
      "/home/wanglab/Documents/George_Kenefati_6.20.24-Present/High-Pain-Cross-Study-EEG/src/preprocessing/classes.py:202: RuntimeWarning: Encountered data in 'int' format. Converting to float32.\n",
      "  data_object.export(save_file_path)\n"
     ]
    },
    {
     "name": "stdout",
     "output_type": "stream",
     "text": [
      "Saved preprocessed_raw to /home/wanglab/Documents/George_Kenefati_6.20.24-Present/High-Pain-Cross-Study-EEG/data/preprocessed/C13_preprocessed_raw.vhdr.\n",
      "Loaded epochs for subject C13\n",
      "Saved epochs to /home/wanglab/Documents/George_Kenefati_6.20.24-Present/High-Pain-Cross-Study-EEG/data/preprocessed/C13_epochs.\n",
      "Loaded preprocessed entire for subject C14\n"
     ]
    },
    {
     "name": "stderr",
     "output_type": "stream",
     "text": [
      "/home/wanglab/Documents/George_Kenefati_6.20.24-Present/High-Pain-Cross-Study-EEG/src/preprocessing/classes.py:202: RuntimeWarning: Encountered data in 'int' format. Converting to float32.\n",
      "  data_object.export(save_file_path)\n"
     ]
    },
    {
     "name": "stdout",
     "output_type": "stream",
     "text": [
      "Saved preprocessed_raw to /home/wanglab/Documents/George_Kenefati_6.20.24-Present/High-Pain-Cross-Study-EEG/data/preprocessed/C14_preprocessed_raw.vhdr.\n",
      "Loaded epochs for subject C14\n",
      "Saved epochs to /home/wanglab/Documents/George_Kenefati_6.20.24-Present/High-Pain-Cross-Study-EEG/data/preprocessed/C14_epochs.\n",
      "Loaded preprocessed entire for subject C15\n"
     ]
    },
    {
     "name": "stderr",
     "output_type": "stream",
     "text": [
      "/home/wanglab/Documents/George_Kenefati_6.20.24-Present/High-Pain-Cross-Study-EEG/src/preprocessing/classes.py:202: RuntimeWarning: Encountered data in 'int' format. Converting to float32.\n",
      "  data_object.export(save_file_path)\n"
     ]
    },
    {
     "name": "stdout",
     "output_type": "stream",
     "text": [
      "Saved preprocessed_raw to /home/wanglab/Documents/George_Kenefati_6.20.24-Present/High-Pain-Cross-Study-EEG/data/preprocessed/C15_preprocessed_raw.vhdr.\n",
      "Loaded epochs for subject C15\n",
      "Saved epochs to /home/wanglab/Documents/George_Kenefati_6.20.24-Present/High-Pain-Cross-Study-EEG/data/preprocessed/C15_epochs.\n",
      "Loaded preprocessed entire for subject C16\n"
     ]
    },
    {
     "name": "stderr",
     "output_type": "stream",
     "text": [
      "/home/wanglab/Documents/George_Kenefati_6.20.24-Present/High-Pain-Cross-Study-EEG/src/preprocessing/classes.py:202: RuntimeWarning: Encountered data in 'int' format. Converting to float32.\n",
      "  data_object.export(save_file_path)\n"
     ]
    },
    {
     "name": "stdout",
     "output_type": "stream",
     "text": [
      "Saved preprocessed_raw to /home/wanglab/Documents/George_Kenefati_6.20.24-Present/High-Pain-Cross-Study-EEG/data/preprocessed/C16_preprocessed_raw.vhdr.\n",
      "Loaded epochs for subject C16\n",
      "Saved epochs to /home/wanglab/Documents/George_Kenefati_6.20.24-Present/High-Pain-Cross-Study-EEG/data/preprocessed/C16_epochs.\n",
      "Loaded preprocessed entire for subject C17\n"
     ]
    },
    {
     "name": "stderr",
     "output_type": "stream",
     "text": [
      "/home/wanglab/Documents/George_Kenefati_6.20.24-Present/High-Pain-Cross-Study-EEG/src/preprocessing/classes.py:202: RuntimeWarning: Encountered data in 'int' format. Converting to float32.\n",
      "  data_object.export(save_file_path)\n"
     ]
    },
    {
     "name": "stdout",
     "output_type": "stream",
     "text": [
      "Saved preprocessed_raw to /home/wanglab/Documents/George_Kenefati_6.20.24-Present/High-Pain-Cross-Study-EEG/data/preprocessed/C17_preprocessed_raw.vhdr.\n",
      "Loaded epochs for subject C17\n",
      "Saved epochs to /home/wanglab/Documents/George_Kenefati_6.20.24-Present/High-Pain-Cross-Study-EEG/data/preprocessed/C17_epochs.\n",
      "Loaded preprocessed entire for subject C18\n"
     ]
    },
    {
     "name": "stderr",
     "output_type": "stream",
     "text": [
      "/home/wanglab/Documents/George_Kenefati_6.20.24-Present/High-Pain-Cross-Study-EEG/src/preprocessing/classes.py:202: RuntimeWarning: Encountered data in 'int' format. Converting to float32.\n",
      "  data_object.export(save_file_path)\n"
     ]
    },
    {
     "name": "stdout",
     "output_type": "stream",
     "text": [
      "Saved preprocessed_raw to /home/wanglab/Documents/George_Kenefati_6.20.24-Present/High-Pain-Cross-Study-EEG/data/preprocessed/C18_preprocessed_raw.vhdr.\n",
      "Loaded epochs for subject C18\n",
      "Saved epochs to /home/wanglab/Documents/George_Kenefati_6.20.24-Present/High-Pain-Cross-Study-EEG/data/preprocessed/C18_epochs.\n",
      "Loaded preprocessed entire for subject C19\n"
     ]
    },
    {
     "name": "stderr",
     "output_type": "stream",
     "text": [
      "/home/wanglab/Documents/George_Kenefati_6.20.24-Present/High-Pain-Cross-Study-EEG/src/preprocessing/classes.py:202: RuntimeWarning: Encountered data in 'int' format. Converting to float32.\n",
      "  data_object.export(save_file_path)\n"
     ]
    },
    {
     "name": "stdout",
     "output_type": "stream",
     "text": [
      "Saved preprocessed_raw to /home/wanglab/Documents/George_Kenefati_6.20.24-Present/High-Pain-Cross-Study-EEG/data/preprocessed/C19_preprocessed_raw.vhdr.\n",
      "Loaded epochs for subject C19\n",
      "Saved epochs to /home/wanglab/Documents/George_Kenefati_6.20.24-Present/High-Pain-Cross-Study-EEG/data/preprocessed/C19_epochs.\n",
      "Loaded preprocessed entire for subject C2.\n"
     ]
    },
    {
     "name": "stderr",
     "output_type": "stream",
     "text": [
      "/home/wanglab/Documents/George_Kenefati_6.20.24-Present/High-Pain-Cross-Study-EEG/src/preprocessing/classes.py:202: RuntimeWarning: Encountered data in 'int' format. Converting to float32.\n",
      "  data_object.export(save_file_path)\n"
     ]
    },
    {
     "name": "stdout",
     "output_type": "stream",
     "text": [
      "Saved preprocessed_raw to /home/wanglab/Documents/George_Kenefati_6.20.24-Present/High-Pain-Cross-Study-EEG/data/preprocessed/C2._preprocessed_raw.vhdr.\n",
      "Loaded epochs for subject C2.\n",
      "Saved epochs to /home/wanglab/Documents/George_Kenefati_6.20.24-Present/High-Pain-Cross-Study-EEG/data/preprocessed/C2._epochs.\n",
      "Loaded preprocessed entire for subject C24\n"
     ]
    },
    {
     "name": "stderr",
     "output_type": "stream",
     "text": [
      "/home/wanglab/Documents/George_Kenefati_6.20.24-Present/High-Pain-Cross-Study-EEG/src/preprocessing/classes.py:202: RuntimeWarning: Encountered data in 'int' format. Converting to float32.\n",
      "  data_object.export(save_file_path)\n"
     ]
    },
    {
     "name": "stdout",
     "output_type": "stream",
     "text": [
      "Saved preprocessed_raw to /home/wanglab/Documents/George_Kenefati_6.20.24-Present/High-Pain-Cross-Study-EEG/data/preprocessed/C24_preprocessed_raw.vhdr.\n",
      "Loaded epochs for subject C24\n",
      "Saved epochs to /home/wanglab/Documents/George_Kenefati_6.20.24-Present/High-Pain-Cross-Study-EEG/data/preprocessed/C24_epochs.\n",
      "Loaded preprocessed entire for subject C25\n"
     ]
    },
    {
     "name": "stderr",
     "output_type": "stream",
     "text": [
      "/home/wanglab/Documents/George_Kenefati_6.20.24-Present/High-Pain-Cross-Study-EEG/src/preprocessing/classes.py:202: RuntimeWarning: Encountered data in 'int' format. Converting to float32.\n",
      "  data_object.export(save_file_path)\n"
     ]
    },
    {
     "name": "stdout",
     "output_type": "stream",
     "text": [
      "Saved preprocessed_raw to /home/wanglab/Documents/George_Kenefati_6.20.24-Present/High-Pain-Cross-Study-EEG/data/preprocessed/C25_preprocessed_raw.vhdr.\n",
      "Loaded epochs for subject C25\n",
      "Saved epochs to /home/wanglab/Documents/George_Kenefati_6.20.24-Present/High-Pain-Cross-Study-EEG/data/preprocessed/C25_epochs.\n",
      "Loaded preprocessed entire for subject C26\n"
     ]
    },
    {
     "name": "stderr",
     "output_type": "stream",
     "text": [
      "/home/wanglab/Documents/George_Kenefati_6.20.24-Present/High-Pain-Cross-Study-EEG/src/preprocessing/classes.py:202: RuntimeWarning: Encountered data in 'int' format. Converting to float32.\n",
      "  data_object.export(save_file_path)\n"
     ]
    },
    {
     "name": "stdout",
     "output_type": "stream",
     "text": [
      "Saved preprocessed_raw to /home/wanglab/Documents/George_Kenefati_6.20.24-Present/High-Pain-Cross-Study-EEG/data/preprocessed/C26_preprocessed_raw.vhdr.\n",
      "Loaded epochs for subject C26\n",
      "Saved epochs to /home/wanglab/Documents/George_Kenefati_6.20.24-Present/High-Pain-Cross-Study-EEG/data/preprocessed/C26_epochs.\n",
      "Loaded preprocessed entire for subject C27\n"
     ]
    },
    {
     "name": "stderr",
     "output_type": "stream",
     "text": [
      "/home/wanglab/Documents/George_Kenefati_6.20.24-Present/High-Pain-Cross-Study-EEG/src/preprocessing/classes.py:202: RuntimeWarning: Encountered data in 'int' format. Converting to float32.\n",
      "  data_object.export(save_file_path)\n"
     ]
    },
    {
     "name": "stdout",
     "output_type": "stream",
     "text": [
      "Saved preprocessed_raw to /home/wanglab/Documents/George_Kenefati_6.20.24-Present/High-Pain-Cross-Study-EEG/data/preprocessed/C27_preprocessed_raw.vhdr.\n",
      "Loaded epochs for subject C27\n",
      "Saved epochs to /home/wanglab/Documents/George_Kenefati_6.20.24-Present/High-Pain-Cross-Study-EEG/data/preprocessed/C27_epochs.\n",
      "Loaded preprocessed entire for subject C3.\n"
     ]
    },
    {
     "name": "stderr",
     "output_type": "stream",
     "text": [
      "/home/wanglab/Documents/George_Kenefati_6.20.24-Present/High-Pain-Cross-Study-EEG/src/preprocessing/classes.py:202: RuntimeWarning: Encountered data in 'int' format. Converting to float32.\n",
      "  data_object.export(save_file_path)\n"
     ]
    },
    {
     "name": "stdout",
     "output_type": "stream",
     "text": [
      "Saved preprocessed_raw to /home/wanglab/Documents/George_Kenefati_6.20.24-Present/High-Pain-Cross-Study-EEG/data/preprocessed/C3._preprocessed_raw.vhdr.\n",
      "Loaded epochs for subject C3.\n",
      "Saved epochs to /home/wanglab/Documents/George_Kenefati_6.20.24-Present/High-Pain-Cross-Study-EEG/data/preprocessed/C3._epochs.\n",
      "Loaded preprocessed entire for subject C6.\n"
     ]
    },
    {
     "name": "stderr",
     "output_type": "stream",
     "text": [
      "/home/wanglab/Documents/George_Kenefati_6.20.24-Present/High-Pain-Cross-Study-EEG/src/preprocessing/classes.py:202: RuntimeWarning: Encountered data in 'int' format. Converting to float32.\n",
      "  data_object.export(save_file_path)\n"
     ]
    },
    {
     "name": "stdout",
     "output_type": "stream",
     "text": [
      "Saved preprocessed_raw to /home/wanglab/Documents/George_Kenefati_6.20.24-Present/High-Pain-Cross-Study-EEG/data/preprocessed/C6._preprocessed_raw.vhdr.\n",
      "Loaded epochs for subject C6.\n",
      "Saved epochs to /home/wanglab/Documents/George_Kenefati_6.20.24-Present/High-Pain-Cross-Study-EEG/data/preprocessed/C6._epochs.\n",
      "Loaded preprocessed entire for subject C7.\n"
     ]
    },
    {
     "name": "stderr",
     "output_type": "stream",
     "text": [
      "/home/wanglab/Documents/George_Kenefati_6.20.24-Present/High-Pain-Cross-Study-EEG/src/preprocessing/classes.py:202: RuntimeWarning: Encountered data in 'int' format. Converting to float32.\n",
      "  data_object.export(save_file_path)\n"
     ]
    },
    {
     "name": "stdout",
     "output_type": "stream",
     "text": [
      "Saved preprocessed_raw to /home/wanglab/Documents/George_Kenefati_6.20.24-Present/High-Pain-Cross-Study-EEG/data/preprocessed/C7._preprocessed_raw.vhdr.\n",
      "Loaded epochs for subject C7.\n",
      "Saved epochs to /home/wanglab/Documents/George_Kenefati_6.20.24-Present/High-Pain-Cross-Study-EEG/data/preprocessed/C7._epochs.\n",
      "Loaded preprocessed entire for subject C9.\n"
     ]
    },
    {
     "name": "stderr",
     "output_type": "stream",
     "text": [
      "/home/wanglab/Documents/George_Kenefati_6.20.24-Present/High-Pain-Cross-Study-EEG/src/preprocessing/classes.py:202: RuntimeWarning: Encountered data in 'int' format. Converting to float32.\n",
      "  data_object.export(save_file_path)\n"
     ]
    },
    {
     "name": "stdout",
     "output_type": "stream",
     "text": [
      "Saved preprocessed_raw to /home/wanglab/Documents/George_Kenefati_6.20.24-Present/High-Pain-Cross-Study-EEG/data/preprocessed/C9._preprocessed_raw.vhdr.\n",
      "Loaded epochs for subject C9.\n",
      "Saved epochs to /home/wanglab/Documents/George_Kenefati_6.20.24-Present/High-Pain-Cross-Study-EEG/data/preprocessed/C9._epochs.\n"
     ]
    }
   ],
   "source": [
    "import sys\n",
    "import os\n",
    "src_path = os.path.dirname(os.path.abspath(\"../../src\"))\n",
    "sys.path.append(src_path)\n",
    "from src.preprocessing.classes import Subject\n",
    "from src.utils.config import Config\n",
    "import src.configs.config as configs\n",
    "import src.preprocessing.utils as pre_utils \n",
    "import mne\n",
    "\n",
    "# Load in subject IDs and paths from CFGLog\n",
    "config = Config.from_json(configs.CFGLog)\n",
    "\n",
    "CLBP_CP_subject_ids = config.data.chronic_low_back_pain.subject_ids.CP\n",
    "CLBP_HC_subject_ids = config.data.chronic_low_back_pain.subject_ids.HC\n",
    "\n",
    "# CLBP already processed\n",
    "clbp_processed_path = config.data.chronic_low_back_pain.processed_path\n",
    "\n",
    "# Define preprocessing parameters\n",
    "# Combine all subject IDs into dict separated by group\n",
    "sub_ids = {\n",
    "    \"chronic_low_back_pain\": CLBP_CP_subject_ids + CLBP_HC_subject_ids\n",
    "}\n",
    "\n",
    "print(f\"Total subjects: {len(sub_ids['chronic_low_back_pain'])}\")\n",
    "print(sub_ids)\n",
    "\n",
    "for group in sub_ids:\n",
    "    for sub_id in sub_ids[group]:\n",
    "        subject = Subject(sub_id, group)\n",
    "        \n",
    "        subject.preprocess(overwrite=True)\n",
    "        \n",
    "        # Save\n",
    "        subject.save(subject.epochs, \"epochs\")\n",
    "        subject.save(subject.epochs.data, \"epochs\", as_mat=True)\n"
   ]
  },
  {
   "cell_type": "code",
   "execution_count": null,
   "metadata": {},
   "outputs": [
    {
     "data": {
      "text/html": [
       "<table class=\"table table-hover table-striped table-sm table-responsive small\">\n",
       "    <tr>\n",
       "        <th>Number of events</th>\n",
       "        <td>73</td>\n",
       "    </tr>\n",
       "    <tr>\n",
       "        <th>Events</th>\n",
       "        \n",
       "        <td>Back HS: 17<br/>Back NS: 17<br/>Hand HS: 20<br/>Hand NS: 19</td>\n",
       "        \n",
       "    </tr>\n",
       "    <tr>\n",
       "        <th>Time range</th>\n",
       "        <td>-2.500 – 2.502 s</td>\n",
       "    </tr>\n",
       "    <tr>\n",
       "        <th>Baseline</th>\n",
       "        <td>-2.500 – 0.000 s</td>\n",
       "    </tr>\n",
       "</table>"
      ],
      "text/plain": [
       "<EpochsFIF |  73 events (all good), -2.5 – 2.50167 s, baseline -2.5 – 0 s, ~107.1 MB, data loaded,\n",
       " 'Hand HS': 20\n",
       " 'Hand NS': 19\n",
       " 'Back HS': 17\n",
       " 'Back NS': 17>"
      ]
     },
     "execution_count": 3,
     "metadata": {},
     "output_type": "execute_result"
    }
   ],
   "source": [
    "subject.epochs"
   ]
  },
  {
   "cell_type": "code",
   "execution_count": null,
   "metadata": {},
   "outputs": [],
   "source": []
  }
 ],
 "metadata": {
  "kernelspec": {
   "display_name": "Python 3",
   "language": "python",
   "name": "python3"
  },
  "language_info": {
   "codemirror_mode": {
    "name": "ipython",
    "version": 3
   },
   "file_extension": ".py",
   "mimetype": "text/x-python",
   "name": "python",
   "nbconvert_exporter": "python",
   "pygments_lexer": "ipython3",
   "version": "3.11.9"
  }
 },
 "nbformat": 4,
 "nbformat_minor": 2
}

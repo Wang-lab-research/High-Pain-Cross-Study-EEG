{
 "cells": [
  {
   "cell_type": "markdown",
   "metadata": {},
   "source": [
    "# Preprocess subject data"
   ]
  },
  {
   "cell_type": "code",
   "execution_count": 1,
   "metadata": {},
   "outputs": [
    {
     "name": "stdout",
     "output_type": "stream",
     "text": [
      "imported src module\n",
      "imported preprocessing module\n",
      "imported configs module\n",
      "imported utils module\n"
     ]
    }
   ],
   "source": [
    "import sys\n",
    "import os\n",
    "src_path = os.path.dirname(os.path.abspath(\"../../src\"))\n",
    "sys.path.append(src_path)\n",
    "from src.preprocessing.classes import Subject\n",
    "from src.utils.config import Config\n",
    "import src.configs.config as configs\n",
    "import src.preprocessing.utils as pre_utils \n"
   ]
  },
  {
   "cell_type": "markdown",
   "metadata": {},
   "source": [
    "Load in subject IDs and paths from CFGLog"
   ]
  },
  {
   "cell_type": "code",
   "execution_count": 2,
   "metadata": {},
   "outputs": [],
   "source": [
    "config = Config.from_json(configs.CFGLog)\n",
    "\n",
    "CLBP_CP_subject_ids = config.data.chronic_low_back_pain.subject_ids.CP\n",
    "CLBP_HC_subject_ids = config.data.chronic_low_back_pain.subject_ids.HC\n",
    "Panc_subject_ids = config.data.chronic_pancreatitis.subject_ids.CP\n",
    "Lupus_CP_subject_ids = config.data.lupus.subject_ids.CP\n",
    "Lupus_NP_subject_ids = config.data.lupus.subject_ids.NP\n",
    "\n",
    "# CLBP already processed\n",
    "clbp_processed_path = config.data.chronic_low_back_pain.processed_path"
   ]
  },
  {
   "cell_type": "markdown",
   "metadata": {},
   "source": [
    "Define preprocessing parameters"
   ]
  },
  {
   "cell_type": "code",
   "execution_count": 14,
   "metadata": {},
   "outputs": [],
   "source": [
    "PERISTIM_TIME_WIN = 5"
   ]
  },
  {
   "cell_type": "code",
   "execution_count": 18,
   "metadata": {},
   "outputs": [
    {
     "name": "stdout",
     "output_type": "stream",
     "text": [
      "[-2.5,0.0,2.5]\n"
     ]
    }
   ],
   "source": [
    "times_tup, time_win_path = pre_utils.get_time_window(PERISTIM_TIME_WIN)\n",
    "time_range = (times_tup[0], times_tup[-1])"
   ]
  },
  {
   "cell_type": "markdown",
   "metadata": {},
   "source": [
    "Combine subject IDs"
   ]
  },
  {
   "cell_type": "code",
   "execution_count": 19,
   "metadata": {},
   "outputs": [
    {
     "name": "stdout",
     "output_type": "stream",
     "text": [
      "Total subjects: 64\n",
      "{'chronic_low_back_pain': ['018', '022', '024', '031', '032', '034', '036', '039', '040', '045', '046', '052', '020', '021', '023', '029', '037', '041', '042', '044', '048', '049', '050', '056', 'C10', 'C11', 'C12', 'C13', 'C14', 'C15', 'C16', 'C17', 'C18', 'C19', 'C2.', 'C24', 'C25', 'C26', 'C27', 'C3.', 'C6.', 'C7.', 'C9.'], 'chronic_pancreatitis': ['002', '003', '006', '007', '008', '009', '010', '011', '012', '013', '014'], 'lupus': ['5186', '6310', '5295', '5873', '6100', '6106', '5648', '5675', '5845', '5713']}\n"
     ]
    }
   ],
   "source": [
    "# Combine all subject IDs into dict separated by group\n",
    "sub_ids = {\n",
    "    \"chronic_low_back_pain\": CLBP_CP_subject_ids + CLBP_HC_subject_ids,\n",
    "    \"chronic_pancreatitis\": Panc_subject_ids,\n",
    "    \"lupus\": Lupus_CP_subject_ids + Lupus_NP_subject_ids\n",
    "}\n",
    "\n",
    "print(f\"Total subjects: {len(sub_ids['chronic_low_back_pain']) + len(sub_ids['chronic_pancreatitis']) + len(sub_ids['lupus'])}\")\n",
    "print(sub_ids)"
   ]
  },
  {
   "cell_type": "markdown",
   "metadata": {},
   "source": [
    "Create Subject object for each subject"
   ]
  },
  {
   "cell_type": "code",
   "execution_count": 6,
   "metadata": {},
   "outputs": [
    {
     "name": "stdout",
     "output_type": "stream",
     "text": [
      "018.EEGDATA\n",
      "Extracting EDF parameters from /home/wanglab/Documents/George Kenefati/Chronic Low Back Pain Study/Data/Raw/018.EEGDATA/Acquisition 018.Part2 Data.EDF...\n",
      "EDF file detected\n",
      "Setting channel info structure...\n",
      "Creating raw.info structure...\n",
      "Reading 0 ... 2959599  =      0.000 ...  2959.599 secs...\n",
      "Loaded raw for subject 018\n"
     ]
    },
    {
     "ename": "KeyboardInterrupt",
     "evalue": "",
     "output_type": "error",
     "traceback": [
      "\u001b[0;31m---------------------------------------------------------------------------\u001b[0m",
      "\u001b[0;31mKeyboardInterrupt\u001b[0m                         Traceback (most recent call last)",
      "Cell \u001b[0;32mIn[6], line 7\u001b[0m\n\u001b[1;32m      4\u001b[0m subject \u001b[38;5;241m=\u001b[39m Subject(sub_id, group, preprocessed_data_path\u001b[38;5;241m=\u001b[39mpreprocessed_data_path)\n\u001b[1;32m      5\u001b[0m \u001b[38;5;28mprint\u001b[39m(subject\u001b[38;5;241m.\u001b[39msubject_folder)\n\u001b[0;32m----> 7\u001b[0m \u001b[43msubject\u001b[49m\u001b[38;5;241;43m.\u001b[39;49m\u001b[43mpreprocess\u001b[49m\u001b[43m(\u001b[49m\u001b[43m)\u001b[49m\n\u001b[1;32m      8\u001b[0m subject\u001b[38;5;241m.\u001b[39mget_cleaned_epochs(TIME_RANGE, PERISTIM_TIME_WIN)           \n\u001b[1;32m      9\u001b[0m \u001b[38;5;28;01mbreak\u001b[39;00m\n",
      "File \u001b[0;32m~/Documents/George_Kenefati_6.20.24-Present/High-Pain-Cross-Study-EEG/src/preprocessing/classes.py:80\u001b[0m, in \u001b[0;36mSubject.preprocess\u001b[0;34m(self)\u001b[0m\n\u001b[1;32m     78\u001b[0m \u001b[38;5;28;01mif\u001b[39;00m \u001b[38;5;129;01mnot\u001b[39;00m \u001b[38;5;28mself\u001b[39m\u001b[38;5;241m.\u001b[39mpkl_exists(\u001b[38;5;124m\"\u001b[39m\u001b[38;5;124mpreprocessed_raw\u001b[39m\u001b[38;5;124m\"\u001b[39m):\n\u001b[1;32m     79\u001b[0m     \u001b[38;5;28mself\u001b[39m\u001b[38;5;241m.\u001b[39mload_raw()\n\u001b[0;32m---> 80\u001b[0m     \u001b[38;5;28mself\u001b[39m\u001b[38;5;241m.\u001b[39mpreprocessed_raw \u001b[38;5;241m=\u001b[39m \u001b[43mpre_utils\u001b[49m\u001b[38;5;241;43m.\u001b[39;49m\u001b[43mpreprocess_entire\u001b[49m\u001b[43m(\u001b[49m\n\u001b[1;32m     81\u001b[0m \u001b[43m        \u001b[49m\u001b[38;5;28;43mself\u001b[39;49m\u001b[38;5;241;43m.\u001b[39;49m\u001b[43mraw\u001b[49m\u001b[43m,\u001b[49m\u001b[43m \u001b[49m\u001b[38;5;28;43mself\u001b[39;49m\u001b[38;5;241;43m.\u001b[39;49m\u001b[43msubject_id\u001b[49m\u001b[43m)\u001b[49m\n\u001b[1;32m     82\u001b[0m     \u001b[38;5;28mself\u001b[39m\u001b[38;5;241m.\u001b[39msave(\u001b[38;5;28mself\u001b[39m\u001b[38;5;241m.\u001b[39mpreprocessed_raw, \u001b[38;5;124m\"\u001b[39m\u001b[38;5;124mpreprocessed_raw\u001b[39m\u001b[38;5;124m\"\u001b[39m)\n\u001b[1;32m     83\u001b[0m \u001b[38;5;28;01melse\u001b[39;00m:\n",
      "File \u001b[0;32m~/Documents/George_Kenefati_6.20.24-Present/High-Pain-Cross-Study-EEG/src/preprocessing/utils.py:402\u001b[0m, in \u001b[0;36mpreprocess_entire\u001b[0;34m(raw, subject_id)\u001b[0m\n\u001b[1;32m    401\u001b[0m \u001b[38;5;28;01mdef\u001b[39;00m \u001b[38;5;21mpreprocess_entire\u001b[39m(raw, subject_id):\n\u001b[0;32m--> 402\u001b[0m     raw \u001b[38;5;241m=\u001b[39m \u001b[43mremove_trailing_zeros\u001b[49m\u001b[43m(\u001b[49m\u001b[43mraw\u001b[49m\u001b[43m,\u001b[49m\u001b[43m \u001b[49m\u001b[43msubject_id\u001b[49m\u001b[43m)\u001b[49m\n\u001b[1;32m    404\u001b[0m     \u001b[38;5;28;01mif\u001b[39;00m \u001b[38;5;124m\"\u001b[39m\u001b[38;5;124mX\u001b[39m\u001b[38;5;124m\"\u001b[39m \u001b[38;5;129;01min\u001b[39;00m raw\u001b[38;5;241m.\u001b[39mch_names \u001b[38;5;129;01mand\u001b[39;00m \u001b[38;5;28mlen\u001b[39m(raw\u001b[38;5;241m.\u001b[39mch_names) \u001b[38;5;241m<\u001b[39m \u001b[38;5;241m64\u001b[39m:\n\u001b[1;32m    405\u001b[0m         rename_and_set_channel_types_32(raw)\n",
      "File \u001b[0;32m~/Documents/George_Kenefati_6.20.24-Present/High-Pain-Cross-Study-EEG/src/preprocessing/utils.py:346\u001b[0m, in \u001b[0;36mremove_trailing_zeros\u001b[0;34m(raw, subject_id)\u001b[0m\n\u001b[1;32m    344\u001b[0m \u001b[38;5;28;01melse\u001b[39;00m:\n\u001b[1;32m    345\u001b[0m     consecutive_zeros \u001b[38;5;241m=\u001b[39m \u001b[38;5;241m0\u001b[39m\n\u001b[0;32m--> 346\u001b[0m \u001b[38;5;28;01mif\u001b[39;00m consecutive_zeros \u001b[38;5;241m>\u001b[39m\u001b[38;5;241m=\u001b[39m \u001b[38;5;241m100\u001b[39m:\n\u001b[1;32m    347\u001b[0m     start_index \u001b[38;5;241m=\u001b[39m i \u001b[38;5;241m-\u001b[39m (consecutive_zeros \u001b[38;5;241m-\u001b[39m \u001b[38;5;241m1\u001b[39m)\n\u001b[1;32m    348\u001b[0m     end_index \u001b[38;5;241m=\u001b[39m \u001b[38;5;28mlen\u001b[39m(channel_data)\n",
      "\u001b[0;31mKeyboardInterrupt\u001b[0m: "
     ]
    }
   ],
   "source": [
    "for group in sub_ids:\n",
    "    for sub_id in sub_ids[group]:\n",
    "        preprocessed_data_path = clbp_processed_path if group == \"chronic_low_back_pain\" else None\n",
    "        subject = Subject(sub_id, group, preprocessed_data_path=preprocessed_data_path)\n",
    "        print(subject.subject_folder)\n",
    "        \n",
    "        subject.preprocess()\n",
    "        subject.get_cleaned_epochs(time_range, PERISTIM_TIME_WIN)           \n",
    "        break\n",
    "\n",
    "        # subject.get_cleaned_resting()\n",
    "\n",
    "        # subject.get_stc_resting()\n",
    "        # subject.get_stc_epochs()\n"
   ]
  },
  {
   "cell_type": "code",
   "execution_count": null,
   "metadata": {},
   "outputs": [],
   "source": [
    "subject.preprocessed_raw"
   ]
  }
 ],
 "metadata": {
  "kernelspec": {
   "display_name": "Python 3",
   "language": "python",
   "name": "python3"
  },
  "language_info": {
   "codemirror_mode": {
    "name": "ipython",
    "version": 3
   },
   "file_extension": ".py",
   "mimetype": "text/x-python",
   "name": "python",
   "nbconvert_exporter": "python",
   "pygments_lexer": "ipython3",
   "version": "3.11.9"
  }
 },
 "nbformat": 4,
 "nbformat_minor": 2
}

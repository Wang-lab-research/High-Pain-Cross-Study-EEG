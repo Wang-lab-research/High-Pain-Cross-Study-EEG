{
 "cells": [
  {
   "cell_type": "markdown",
   "metadata": {},
   "source": [
    "# Preprocess subject data"
   ]
  },
  {
   "cell_type": "code",
   "execution_count": 5,
   "metadata": {},
   "outputs": [
    {
     "name": "stderr",
     "output_type": "stream",
     "text": [
      "2024-07-12 16:29:22,415 - __main__ - INFO - Total subjects: 64\n",
      "2024-07-12 16:29:22,415 - __main__ - INFO - {'chronic_low_back_pain': ['018', '022', '024', '031', '032', '034', '036', '039', '040', '045', '046', '052', '020', '021', '023', '029', '037', '041', '042', '044', '048', '049', '050', '056', 'C10', 'C11', 'C12', 'C13', 'C14', 'C15', 'C16', 'C17', 'C18', 'C19', 'C2.', 'C24', 'C25', 'C26', 'C27', 'C3.', 'C6.', 'C7.', 'C9.'], 'chronic_pancreatitis': ['002', '003', '006', '007', '008', '009', '010', '011', '012', '013', '014'], 'lupus': ['5186', '6310', '5295', '5873', '6100', '6106', '5648', '5675', '5845', '5713']}\n"
     ]
    },
    {
     "name": "stdout",
     "output_type": "stream",
     "text": [
      "[-2.5,0.0,2.5]\n",
      "importing Subject from src.preprocessing.classes on engine(s)\n",
      "importing get_time_window from src.preprocessing.utils on engine(s)\n",
      "importing Config from src.utils.config on engine(s)\n",
      "importing logging on engine(s)\n"
     ]
    },
    {
     "data": {
      "application/vnd.jupyter.widget-view+json": {
       "model_id": "c86cbddece874d8c810e8adc6338bbe9",
       "version_major": 2,
       "version_minor": 0
      },
      "text/plain": [
       "unknown:   0%|          | 0/1 [00:00<?, ?tasks/s]"
      ]
     },
     "metadata": {},
     "output_type": "display_data"
    }
   ],
   "source": [
    "import sys\n",
    "import os\n",
    "import logging\n",
    "import ipyparallel as ipp\n",
    "from src.utils.config import Config\n",
    "import src.configs.config as configs\n",
    "import src.preprocessing.utils as pre_utils\n",
    "from src.preprocessing.classes import Subject\n",
    "\n",
    "# Set up logging\n",
    "logging.basicConfig(level=logging.INFO, format='%(asctime)s - %(levelname)s - %(message)s')\n",
    "logger = logging.getLogger(__name__)\n",
    "\n",
    "# Add src path\n",
    "src_path = os.path.abspath(\"../../src\")\n",
    "sys.path.append(src_path)\n",
    "\n",
    "# Load in subject IDs and paths from configuration\n",
    "config = Config.from_json(configs.CFGLog)\n",
    "\n",
    "# Define subject IDs\n",
    "subject_ids = {\n",
    "    \"chronic_low_back_pain\": config.data.chronic_low_back_pain.subject_ids.CP + config.data.chronic_low_back_pain.subject_ids.HC,\n",
    "    \"chronic_pancreatitis\": config.data.chronic_pancreatitis.subject_ids.CP,\n",
    "    \"lupus\": config.data.lupus.subject_ids.CP + config.data.lupus.subject_ids.NP\n",
    "}\n",
    "\n",
    "# CLBP processed path\n",
    "clbp_processed_path = config.data.chronic_low_back_pain.processed_path\n",
    "\n",
    "# Define preprocessing parameters\n",
    "PERISTIM_TIME_WIN = 5\n",
    "times_tup, time_win_path = pre_utils.get_time_window(PERISTIM_TIME_WIN)\n",
    "time_range = (times_tup[0], times_tup[-1])\n",
    "\n",
    "# Log total subjects\n",
    "total_subjects = sum(len(ids) for ids in subject_ids.values())\n",
    "logger.info(f\"Total subjects: {total_subjects}\")\n",
    "logger.info(subject_ids)\n",
    "\n",
    "# Function to preprocess each subject\n",
    "def preprocess_subject(sub_id, group, clbp_processed_path, time_range, PERISTIM_TIME_WIN):\n",
    "    logging.basicConfig(level=logging.INFO, format='%(asctime)s - %(levelname)s - %(message)s')\n",
    "    logger = logging.getLogger(__name__)\n",
    "\n",
    "    try:\n",
    "        preprocessed_data_path = clbp_processed_path if group == \"chronic_low_back_pain\" else None\n",
    "        subject = Subject(sub_id, group, preprocessed_data_path=preprocessed_data_path)\n",
    "        logger.info(f\"Processing subject: {sub_id} in group: {group}\")\n",
    "        subject.preprocess()\n",
    "        subject.get_cleaned_epochs(time_range, PERISTIM_TIME_WIN)\n",
    "        logger.info(f\"Completed processing subject: {sub_id} in group: {group}\")\n",
    "    except FileNotFoundError as e:\n",
    "        logger.error(f\"FileNotFoundError for subject: {sub_id} - {e}\")\n",
    "    except Exception as e:\n",
    "        logger.error(f\"An error occurred for subject: {sub_id} - {e}\")\n",
    "\n",
    "# Connect to IPyParallel cluster\n",
    "rc = ipp.Client()\n",
    "dview = rc[:]\n",
    "\n",
    "# Add src path to sys.path on all engines\n",
    "dview.execute(f\"sys.path.append('{src_path}')\")\n",
    "\n",
    "# Sync necessary imports on all engines\n",
    "with dview.sync_imports():\n",
    "    from src.preprocessing.classes import Subject\n",
    "    from src.preprocessing.utils import get_time_window\n",
    "    from src.utils.config import Config\n",
    "    import logging\n",
    "\n",
    "# Push necessary configurations and functions to all engines\n",
    "dview.push({\n",
    "    'config': config,\n",
    "    'clbp_processed_path': clbp_processed_path,\n",
    "    'time_range': time_range,\n",
    "    'PERISTIM_TIME_WIN': PERISTIM_TIME_WIN,\n",
    "    'preprocess_subject': preprocess_subject\n",
    "})\n",
    "\n",
    "# Map the function to the subjects in parallel\n",
    "results = []\n",
    "for group in subject_ids:\n",
    "    results += dview.map(\n",
    "        preprocess_subject, \n",
    "        subject_ids[group], \n",
    "        [group] * len(subject_ids[group]), \n",
    "        [clbp_processed_path] * len(subject_ids[group]), \n",
    "        [time_range] * len(subject_ids[group]), \n",
    "        [PERISTIM_TIME_WIN] * len(subject_ids[group])\n",
    "    )\n",
    "\n",
    "# Wait for results to complete\n",
    "rc.wait_interactive()\n"
   ]
  },
  {
   "cell_type": "code",
   "execution_count": 17,
   "metadata": {},
   "outputs": [
    {
     "name": "stderr",
     "output_type": "stream",
     "text": [
      "2024-07-12 19:58:23,666 - __main__ - INFO - [None, None, None, None, None, None, None, None, None, None, None, None, None, None, None, None, None, None, None, None, None, None, None, None, None, None, None, None, None, None, None, None, None, None, None, None, None, None, None, None, None, None, None, None, None, None, None, None, None, None, None, None, None, None, None, None, None, None, None, None, None, None, None, None]\n"
     ]
    }
   ],
   "source": [
    "# inspect log\n",
    "logger.info(results)"
   ]
  },
  {
   "cell_type": "markdown",
   "metadata": {},
   "source": [
    "Process each subject in sequence"
   ]
  }
 ],
 "metadata": {
  "kernelspec": {
   "display_name": "Python 3",
   "language": "python",
   "name": "python3"
  },
  "language_info": {
   "codemirror_mode": {
    "name": "ipython",
    "version": 3
   },
   "file_extension": ".py",
   "mimetype": "text/x-python",
   "name": "python",
   "nbconvert_exporter": "python",
   "pygments_lexer": "ipython3",
   "version": "3.11.9"
  }
 },
 "nbformat": 4,
 "nbformat_minor": 2
}

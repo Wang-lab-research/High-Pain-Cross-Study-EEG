{
 "cells": [
  {
   "cell_type": "markdown",
   "metadata": {},
   "source": [
    "# Preprocess subject data"
   ]
  },
  {
   "cell_type": "code",
   "execution_count": null,
   "metadata": {},
   "outputs": [
    {
     "ename": "",
     "evalue": "",
     "output_type": "error",
     "traceback": [
      "\u001b[1;31mRunning cells with 'Python 3.10.12' requires the ipykernel package.\n",
      "\u001b[1;31mRun the following command to install 'ipykernel' into the Python environment. \n",
      "\u001b[1;31mCommand: '/bin/python3 -m pip install ipykernel -U --user --force-reinstall'"
     ]
    }
   ],
   "source": [
    "import sys\n",
    "import os\n",
    "from pathlib import Path\n",
    "src_path = os.path.dirname(os.path.abspath(\"../../src\"))\n",
    "sys.path.append(src_path)\n",
    "from src.preprocessing.classes import Subject\n",
    "from src.utils.config import Config\n",
    "from src.configs.config import CFGLog\n",
    "from src.preprocessing.utils import get_time_window\n"
   ]
  },
  {
   "cell_type": "markdown",
   "metadata": {},
   "source": [
    "Load in subject IDs and paths from CFGLog"
   ]
  },
  {
   "cell_type": "code",
   "execution_count": null,
   "metadata": {},
   "outputs": [],
   "source": [
    "config = Config.from_json(CFGLog)\n",
    "\n",
    "CLBP_CP_subject_ids = config.data.chronic_low_back_pain.subject_ids.CP\n",
    "CLBP_HC_subject_ids = config.data.chronic_low_back_pain.subject_ids.HC\n",
    "Panc_subject_ids = config.data.chronic_pancreatitis.subject_ids.CP\n",
    "Lupus_CP_subject_ids = config.data.lupus.subject_ids.CP\n",
    "Lupus_NP_subject_ids = config.data.lupus.subject_ids.NP"
   ]
  },
  {
   "cell_type": "markdown",
   "metadata": {},
   "source": [
    "Create paths"
   ]
  },
  {
   "cell_type": "code",
   "execution_count": null,
   "metadata": {},
   "outputs": [],
   "source": [
    "# Data pahts\n",
    "abs_path = Path(os.path.dirname(os.path.abspath(\"../../../\")))\n",
    "\n",
    "CLBP_path = abs_path / config.data.chronic_low_back_pain.path\n",
    "Panc_path = abs_path / config.data.chronic_pancreatitis.path\n",
    "Lupus_path = abs_path / config.data.lupus.path\n",
    "\n",
    "# Save paths\n",
    "times_tup, time_win_path = get_time_window(5)\n",
    "save_path = Path(\"../../data/preprocessed/\")\n",
    "stc_path = save_path / \"source_time_courses/\"\n",
    "eyes_open_path = stc_path / \"eyes_open\"\n",
    "evoked_path = stc_path / \"evoked\" / time_win_path\n",
    "\n",
    "paths = [save_path, stc_path, eyes_open_path, evoked_path]\n",
    "[os.makedirs(path, exist_ok=True) for path in paths];"
   ]
  },
  {
   "cell_type": "markdown",
   "metadata": {},
   "source": [
    "Define preprocessing parameters"
   ]
  },
  {
   "cell_type": "code",
   "execution_count": null,
   "metadata": {},
   "outputs": [],
   "source": [
    "# Time range\n",
    "time_range=(-0.2, 0.8)\n",
    "\n",
    "# Baseline\n",
    "baseline=(-2.5, 0)"
   ]
  },
  {
   "cell_type": "markdown",
   "metadata": {},
   "source": [
    "Combine subject IDs"
   ]
  },
  {
   "cell_type": "code",
   "execution_count": null,
   "metadata": {},
   "outputs": [],
   "source": [
    "# Combine all subject IDs into dict separated by group\n",
    "sub_ids = {\n",
    "    \"chronic_low_back_pain\": CLBP_CP_subject_ids + CLBP_HC_subject_ids,\n",
    "    \"chronic_pancreatitis\": Panc_subject_ids,\n",
    "    \"lupus\": Lupus_CP_subject_ids + Lupus_NP_subject_ids\n",
    "}\n",
    "\n",
    "print(f\"Total subjects: {len(sub_ids['chronic_low_back_pain']) + len(sub_ids['chronic_pancreatitis']) + len(sub_ids['lupus'])}\")\n",
    "print(sub_ids)"
   ]
  },
  {
   "cell_type": "markdown",
   "metadata": {},
   "source": [
    "Create Subject object for each subject"
   ]
  },
  {
   "cell_type": "code",
   "execution_count": null,
   "metadata": {},
   "outputs": [],
   "source": [
    "for group in sub_ids:\n",
    "    for sub_id in sub_ids[group]:\n",
    "        subject = Subject(sub_id, group)\n",
    "        print(subject)\n",
    "        \n",
    "        subject.load_raw()\n",
    "        subject.get_cleaned_resting()\n",
    "        \n",
    "        break"
   ]
  },
  {
   "cell_type": "code",
   "execution_count": null,
   "metadata": {},
   "outputs": [],
   "source": [
    "# Create an instance of SubjectProcessor\n",
    "processor = SubjectProcessor(paths_dict, roi_acronyms)\n",
    "\n",
    "# Loop through each subject and process the response\n",
    "for sub_id in sub_ids_focus:\n",
    "    subject = Subject(sub_id)\n",
    "    processor.plot_TFR_and_trace(subject,\n",
    "                                 channel=channel, \n",
    "                                 baseline=baseline,\n",
    "                                 time_range=time_range,\n",
    "                                 vlim=vlim,\n",
    "                                 )\n",
    "    # processor.process_response(subject)\n",
    "    # break\n",
    "    \n",
    "\n",
    "# Display the results\n",
    "processor.display_results()\n"
   ]
  }
 ],
 "metadata": {
  "kernelspec": {
   "display_name": "Python 3",
   "language": "python",
   "name": "python3"
  },
  "language_info": {
   "codemirror_mode": {
    "name": "ipython",
    "version": 3
   },
   "file_extension": ".py",
   "mimetype": "text/x-python",
   "name": "python",
   "nbconvert_exporter": "python",
   "pygments_lexer": "ipython3",
   "version": "3.10.12"
  }
 },
 "nbformat": 4,
 "nbformat_minor": 2
}

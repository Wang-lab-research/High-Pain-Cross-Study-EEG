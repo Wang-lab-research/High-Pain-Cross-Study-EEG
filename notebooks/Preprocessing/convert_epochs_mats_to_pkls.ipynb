{
 "cells": [
  {
   "cell_type": "markdown",
   "metadata": {},
   "source": [
    "# Convert Epochs info (event samples, pain ratings, stimulus labels) to Pickle files"
   ]
  },
  {
   "cell_type": "code",
   "execution_count": 12,
   "metadata": {},
   "outputs": [
    {
     "name": "stdout",
     "output_type": "stream",
     "text": [
      "Total subjects: 43\n",
      "{'chronic_low_back_pain': ['018', '022', '024', '031', '032', '034', '036', '039', '040', '045', '046', '052', '020', '021', '023', '029', '037', '041', '042', '044', '048', '049', '050', '056', 'C10', 'C11', 'C12', 'C13', 'C14', 'C15', 'C16', 'C17', 'C18', 'C19', 'C2.', 'C24', 'C25', 'C26', 'C27', 'C3.', 'C6.', 'C7.', 'C9.']}\n"
     ]
    }
   ],
   "source": [
    "import sys\n",
    "import os\n",
    "src_path = os.path.dirname(os.path.abspath(\"../../src\"))\n",
    "sys.path.append(src_path)\n",
    "from src.preprocessing.classes import Subject\n",
    "from src.utils.config import Config\n",
    "import src.configs.config as configs\n",
    "import src.preprocessing.utils as pre_utils \n",
    "import scipy.io as sio\n",
    "\n",
    "# Load in subject IDs and paths from CFGLog\n",
    "config = Config.from_json(configs.CFGLog)\n",
    "\n",
    "CLBP_CP_subject_ids = config.data.chronic_low_back_pain.subject_ids.CP\n",
    "CLBP_HC_subject_ids = config.data.chronic_low_back_pain.subject_ids.HC\n",
    "\n",
    "# CLBP already processed\n",
    "clbp_processed_path = config.data.chronic_low_back_pain.processed_path\n",
    "\n",
    "# Define preprocessing parameters\n",
    "# Combine all subject IDs into dict separated by group\n",
    "sub_ids = {\n",
    "    \"chronic_low_back_pain\": CLBP_CP_subject_ids + CLBP_HC_subject_ids\n",
    "}\n",
    "\n",
    "print(f\"Total subjects: {len(sub_ids['chronic_low_back_pain'])}\")\n",
    "print(sub_ids)\n",
    "\n",
    "# Create Subject object for each subject\n",
    "# Resample event samples from 400 Hz to 600 Hz\n",
    "for group in sub_ids:\n",
    "    for sub_id in sub_ids[group]:\n",
    "        preprocessed_data_path = clbp_processed_path if group == \"chronic_low_back_pain\" else None\n",
    "        subject = Subject(sub_id, group, preprocessed_data_path=preprocessed_data_path)\n",
    "        subject.preprocessed_data_path = preprocessed_data_path\n",
    "        \n",
    "        # Load epo_times, stim_labels, pain_ratings\n",
    "        epo_times = sio.loadmat(os.path.join(subject.preprocessed_data_path, f\"{subject.subject_id}_epo_times.mat\"))\n",
    "        epo_times = epo_times['epo_times']\n",
    "        stim_labels = sio.loadmat(os.path.join(subject.preprocessed_data_path, f\"{subject.subject_id}_stim_labels.mat\"))\n",
    "        stim_labels = stim_labels['stim_labels'][0]\n",
    "        pain_ratings = sio.loadmat(os.path.join(subject.preprocessed_data_path, f\"{subject.subject_id}_pain_ratings.mat\"))\n",
    "        pain_ratings = pain_ratings['pain_ratings'][0]\n",
    "        \n",
    "        # Save epo_times, stim_labels, pain_ratings\n",
    "        subject.save(epo_times, \"event_samples\")\n",
    "        subject.save(stim_labels, \"stimulus_labels\")\n",
    "        subject.save(pain_ratings, \"pain_ratings\")\n",
    "    "
   ]
  },
  {
   "cell_type": "code",
   "execution_count": null,
   "metadata": {},
   "outputs": [],
   "source": []
  }
 ],
 "metadata": {
  "kernelspec": {
   "display_name": "Python 3",
   "language": "python",
   "name": "python3"
  },
  "language_info": {
   "codemirror_mode": {
    "name": "ipython",
    "version": 3
   },
   "file_extension": ".py",
   "mimetype": "text/x-python",
   "name": "python",
   "nbconvert_exporter": "python",
   "pygments_lexer": "ipython3",
   "version": "3.11.9"
  }
 },
 "nbformat": 4,
 "nbformat_minor": 2
}

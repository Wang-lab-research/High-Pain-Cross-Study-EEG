{
 "cells": [
  {
   "cell_type": "markdown",
   "metadata": {},
   "source": [
    "# Preprocess entire and then use existing event_samples to create Epochs anew"
   ]
  },
  {
   "cell_type": "code",
   "execution_count": 1,
   "metadata": {},
   "outputs": [
    {
     "name": "stdout",
     "output_type": "stream",
     "text": [
      "imported src module\n",
      "imported preprocessing module\n",
      "imported utils module\n",
      "imported configs module\n",
      "0 files missing from root.txt in /home/wanglab/mne_data/MNE-fsaverage-data\n",
      "0 files missing from bem.txt in /home/wanglab/mne_data/MNE-fsaverage-data/fsaverage\n",
      "Total subjects: 43\n",
      "{'chronic_low_back_pain': ['018', '022', '024', '031', '032', '034', '036', '039', '040', '045', '046', '052', '020', '021', '023', '029', '037', '041', '042', '044', '048', '049', '050', '056', 'C10', 'C11', 'C12', 'C13', 'C14', 'C15', 'C16', 'C17', 'C18', 'C19', 'C2.', 'C24', 'C25', 'C26', 'C27', 'C3.', 'C6.', 'C7.', 'C9.']}\n"
     ]
    }
   ],
   "source": [
    "import sys\n",
    "import os\n",
    "src_path = os.path.dirname(os.path.abspath(\"../../src\"))\n",
    "sys.path.append(src_path)\n",
    "from src.preprocessing.classes import Subject\n",
    "from src.utils.config import Config\n",
    "import src.configs.config as configs\n",
    "import src.preprocessing.utils as pre_utils\n",
    "import src.preprocessing.utils_epo as pre_utils_epo \n",
    "from autoreject import AutoReject\n",
    "import mne\n",
    "\n",
    "# Load in subject IDs and paths from CFGLog\n",
    "config = Config.from_json(configs.CFGLog)\n",
    "RANDOM_STATE = config.parameters.random_seed\n",
    "noisy_spans = configs.CFGLog[\"parameters\"][\"noisy_spans\"]\n",
    "\n",
    "CLBP_CP_subject_ids = config.data.chronic_low_back_pain.subject_ids.CP\n",
    "CLBP_HC_subject_ids = config.data.chronic_low_back_pain.subject_ids.HC\n",
    "\n",
    "# CLBP already processed\n",
    "clbp_processed_path = config.data.chronic_low_back_pain.processed_path\n",
    "\n",
    "# Define preprocessing parameters\n",
    "# Combine all subject IDs into dict separated by group\n",
    "sub_ids = {\n",
    "    \"chronic_low_back_pain\": CLBP_CP_subject_ids + CLBP_HC_subject_ids\n",
    "}\n",
    "\n",
    "print(f\"Total subjects: {len(sub_ids['chronic_low_back_pain'])}\")\n",
    "print(sub_ids)\n",
    "\n",
    "event_id = configs.CFGLog['parameters']['event_id']\n",
    "tmin, tmax = config.parameters.tmin, config.parameters.tmax"
   ]
  },
  {
   "cell_type": "code",
   "execution_count": 2,
   "metadata": {},
   "outputs": [],
   "source": [
    "sub_ids = {\n",
    "    \"chronic_low_back_pain\": ['039', '052', '056', 'C21', 'C24']\n",
    "}"
   ]
  },
  {
   "cell_type": "code",
   "execution_count": 3,
   "metadata": {},
   "outputs": [
    {
     "name": "stdout",
     "output_type": "stream",
     "text": [
      "Loaded preprocessed entire for subject 039\n",
      "Loaded raw for subject 052\n",
      "052\n",
      "finding EOG artifacts...\n",
      "Using EOG channels: EOG1, EOG2\n",
      "... filtering ICA sources\n",
      "Setting up band-pass filter from 1 - 10 Hz\n",
      "\n",
      "FIR filter parameters\n",
      "---------------------\n",
      "Designing a two-pass forward and reverse, zero-phase, non-causal bandpass filter:\n",
      "- Windowed frequency-domain design (firwin2) method\n",
      "- Hann window\n",
      "- Lower passband edge: 1.00\n",
      "- Lower transition bandwidth: 0.50 Hz (-12 dB cutoff frequency: 0.75 Hz)\n",
      "- Upper passband edge: 10.00 Hz\n",
      "- Upper transition bandwidth: 0.50 Hz (-12 dB cutoff frequency: 10.25 Hz)\n",
      "- Filter length: 10000 samples (10.000 s)\n",
      "\n"
     ]
    },
    {
     "name": "stderr",
     "output_type": "stream",
     "text": [
      "[Parallel(n_jobs=1)]: Done  17 tasks      | elapsed:    1.9s\n"
     ]
    },
    {
     "name": "stdout",
     "output_type": "stream",
     "text": [
      "... filtering target\n",
      "Setting up band-pass filter from 1 - 10 Hz\n",
      "\n",
      "FIR filter parameters\n",
      "---------------------\n",
      "Designing a two-pass forward and reverse, zero-phase, non-causal bandpass filter:\n",
      "- Windowed frequency-domain design (firwin2) method\n",
      "- Hann window\n",
      "- Lower passband edge: 1.00\n",
      "- Lower transition bandwidth: 0.50 Hz (-12 dB cutoff frequency: 0.75 Hz)\n",
      "- Upper passband edge: 10.00 Hz\n",
      "- Upper transition bandwidth: 0.50 Hz (-12 dB cutoff frequency: 10.25 Hz)\n",
      "- Filter length: 10000 samples (10.000 s)\n",
      "\n",
      "... filtering ICA sources\n",
      "Setting up band-pass filter from 1 - 10 Hz\n",
      "\n",
      "FIR filter parameters\n",
      "---------------------\n",
      "Designing a two-pass forward and reverse, zero-phase, non-causal bandpass filter:\n",
      "- Windowed frequency-domain design (firwin2) method\n",
      "- Hann window\n",
      "- Lower passband edge: 1.00\n",
      "- Lower transition bandwidth: 0.50 Hz (-12 dB cutoff frequency: 0.75 Hz)\n",
      "- Upper passband edge: 10.00 Hz\n",
      "- Upper transition bandwidth: 0.50 Hz (-12 dB cutoff frequency: 10.25 Hz)\n",
      "- Filter length: 10000 samples (10.000 s)\n",
      "\n"
     ]
    },
    {
     "name": "stderr",
     "output_type": "stream",
     "text": [
      "[Parallel(n_jobs=1)]: Done  17 tasks      | elapsed:    2.1s\n"
     ]
    },
    {
     "name": "stdout",
     "output_type": "stream",
     "text": [
      "... filtering target\n",
      "Setting up band-pass filter from 1 - 10 Hz\n",
      "\n",
      "FIR filter parameters\n",
      "---------------------\n",
      "Designing a two-pass forward and reverse, zero-phase, non-causal bandpass filter:\n",
      "- Windowed frequency-domain design (firwin2) method\n",
      "- Hann window\n",
      "- Lower passband edge: 1.00\n",
      "- Lower transition bandwidth: 0.50 Hz (-12 dB cutoff frequency: 0.75 Hz)\n",
      "- Upper passband edge: 10.00 Hz\n",
      "- Upper transition bandwidth: 0.50 Hz (-12 dB cutoff frequency: 10.25 Hz)\n",
      "- Filter length: 10000 samples (10.000 s)\n",
      "\n",
      "Bad channels: ['Cz']\n",
      "Subject: 052\n",
      "Number of remaining channels:  66\n",
      "Dropped channels:  []\n",
      "Saved preprocessed_raw to /home/wanglab/Documents/George_Kenefati_6.20.24-Present/High-Pain-Cross-Study-EEG/data/preprocessed/052_preprocessed_raw.pkl.\n"
     ]
    },
    {
     "name": "stderr",
     "output_type": "stream",
     "text": [
      "/home/wanglab/Documents/George_Kenefati_6.20.24-Present/High-Pain-Cross-Study-EEG/src/preprocessing/classes.py:222: RuntimeWarning: Raw instance has unapplied projectors. Consider applying them before exporting with raw.apply_proj().\n",
      "  data_object.export(save_file_path, overwrite=overwrite)\n",
      "/home/wanglab/Documents/George_Kenefati_6.20.24-Present/High-Pain-Cross-Study-EEG/src/preprocessing/classes.py:222: RuntimeWarning: Encountered data in 'int' format. Converting to float32.\n",
      "  data_object.export(save_file_path, overwrite=overwrite)\n"
     ]
    },
    {
     "name": "stdout",
     "output_type": "stream",
     "text": [
      "Saved preprocessed_raw to /home/wanglab/Documents/George_Kenefati_6.20.24-Present/High-Pain-Cross-Study-EEG/data/preprocessed/052_preprocessed_raw.vhdr.\n",
      "Running autoreject on ch_type=eeg\n"
     ]
    }
   ],
   "source": [
    "for group in sub_ids:\n",
    "    for sub_id in sub_ids[group]:\n",
    "        subject = Subject(sub_id, group)\n",
    "        \n",
    "        subject.preprocess()\n",
    "        \n",
    "        if not subject.file_exists(\"epochs_concatenated\", \"vhdr\"):\n",
    "            # Load epochs info\n",
    "            subject.load_epochs_info()\n",
    "\n",
    "            # Create epochs from events\n",
    "            subject.epochs = pre_utils_epo.create_epochs_from_events(\n",
    "                subject.preprocessed_raw, \n",
    "                sub_id, \n",
    "                subject.events, \n",
    "                event_id, \n",
    "                tmin, \n",
    "                tmax)\n",
    "            \n",
    "            # Reject and update epochs using AutoReject\n",
    "            subject.reject_and_update_epochs()\n",
    "\n",
    "            # Save\n",
    "            subject.save(subject.epochs, \"epochs\")\n",
    "            subject.save(subject.epochs.get_data(), \"epochs\", as_mat=True)\n",
    "            \n",
    "            # Concatenate epochs into VHDR for visualization\n",
    "            subject.concatenate_epochs(save=True, overwrite=True)"
   ]
  },
  {
   "cell_type": "markdown",
   "metadata": {},
   "source": [
    "Extract eyes open"
   ]
  },
  {
   "cell_type": "code",
   "execution_count": null,
   "metadata": {},
   "outputs": [],
   "source": [
    "for group in sub_ids:\n",
    "    for sub_id in sub_ids[group]:\n",
    "        subject = Subject(sub_id, group)\n",
    "        \n",
    "        subject.preprocess()\n",
    "        \n",
    "        if not subject.file_exists(\"eyes_open\", \"vhdr\"):\n",
    "            raw = subject.preprocessed_raw\n",
    "            eo_annotations = annotations[2:4]  \n",
    "            eo_start = eo_annotations[0]['onset']\n",
    "            eo_end = eo_annotations[1]['onset']          \n",
    "            subject.eyes_open = raw.copy().crop(eo_start, eo_end)\n",
    "            \n",
    "            subject.save(subject.eyes_open, \"eyes_open\")\n",
    "            subject.save(subject.eyes_open, \"eyes_open\", as_vhdr=True, overwrite=True)\n",
    "        \n",
    "        # Crop noisy spans\n",
    "        else:        \n",
    "            subject.load_eyes_open()\n",
    "            total_time_cropped = 0\n",
    "\n",
    "            for i, crop_times in enumerate(noisy_spans[sub_id]):\n",
    "                print(\n",
    "                    f\"Subject {sub_id}: cropping {i+1} of {len(noisy_spans[sub_id])}: {crop_times}\"\n",
    "                )\n",
    "\n",
    "                # Adjust crop_times by subtracting the total time cropped\n",
    "                crop_times_adjusted = [\n",
    "                    crop_time - total_time_cropped for crop_time in crop_times\n",
    "                ]\n",
    "                crop_times = crop_times_adjusted\n",
    "\n",
    "                # get crop times\n",
    "                t1 = crop_times[0]\n",
    "                t2 = crop_times[1] if len(crop_times) == 2 else None\n",
    "\n",
    "                # if only one time is given use that as end time\n",
    "                if t2 is None:\n",
    "                    raw_eo = subject.eyes_open.crop(tmax=t1)\n",
    "                else:\n",
    "                    raw_eo = pre_utils.snip_span(subject.eyes_open, t1, t2)\n",
    "\n",
    "            # Save cropped raw\n",
    "            subject.save(raw_eo, \"eyes_open\", overwrite=True)\n",
    "            subject.save(raw_eo, \"eyes_open\", as_vhdr=True, overwrite=True)\n",
    "            print(f\"Subject {sub_id} noisy span cropped\")\n"
   ]
  },
  {
   "cell_type": "code",
   "execution_count": null,
   "metadata": {},
   "outputs": [],
   "source": []
  }
 ],
 "metadata": {
  "kernelspec": {
   "display_name": "Python 3",
   "language": "python",
   "name": "python3"
  },
  "language_info": {
   "codemirror_mode": {
    "name": "ipython",
    "version": 3
   },
   "file_extension": ".py",
   "mimetype": "text/x-python",
   "name": "python",
   "nbconvert_exporter": "python",
   "pygments_lexer": "ipython3",
   "version": "3.11.9"
  }
 },
 "nbformat": 4,
 "nbformat_minor": 2
}

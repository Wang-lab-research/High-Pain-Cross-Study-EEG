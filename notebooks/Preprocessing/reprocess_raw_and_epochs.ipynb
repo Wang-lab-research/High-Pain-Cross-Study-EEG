{
 "cells": [
  {
   "cell_type": "markdown",
   "metadata": {},
   "source": [
    "# Preprocess entire and then use existing event_samples to create Epochs anew"
   ]
  },
  {
   "cell_type": "code",
   "execution_count": 1,
   "metadata": {},
   "outputs": [
    {
     "name": "stdout",
     "output_type": "stream",
     "text": [
      "imported src module\n",
      "imported preprocessing module\n",
      "imported utils module\n",
      "imported configs module\n",
      "0 files missing from root.txt in /home/wanglab/mne_data/MNE-fsaverage-data\n",
      "0 files missing from bem.txt in /home/wanglab/mne_data/MNE-fsaverage-data/fsaverage\n",
      "Total subjects: 43\n",
      "{'chronic_low_back_pain': ['018', '022', '024', '031', '032', '034', '036', '039', '040', '045', '046', '052', '020', '021', '023', '029', '037', '041', '042', '044', '048', '049', '050', '056', 'C10', 'C11', 'C12', 'C13', 'C14', 'C15', 'C16', 'C17', 'C18', 'C19', 'C2.', 'C24', 'C25', 'C26', 'C27', 'C3.', 'C6.', 'C7.', 'C9.']}\n"
     ]
    }
   ],
   "source": [
    "import sys\n",
    "import os\n",
    "src_path = os.path.dirname(os.path.abspath(\"../../src\"))\n",
    "sys.path.append(src_path)\n",
    "from src.preprocessing.classes import Subject\n",
    "from src.utils.config import Config\n",
    "import src.configs.config as configs\n",
    "import src.preprocessing.utils as pre_utils\n",
    "import src.preprocessing.utils_epo as pre_utils_epo \n",
    "from autoreject import AutoReject\n",
    "import mne\n",
    "\n",
    "# Load in subject IDs and paths from CFGLog\n",
    "config = Config.from_json(configs.CFGLog)\n",
    "RANDOM_STATE = config.parameters.random_seed\n",
    "noisy_spans = configs.CFGLog[\"parameters\"][\"noisy_spans\"]\n",
    "\n",
    "CLBP_CP_subject_ids = config.data.chronic_low_back_pain.subject_ids.CP\n",
    "CLBP_HC_subject_ids = config.data.chronic_low_back_pain.subject_ids.HC\n",
    "\n",
    "# CLBP already processed\n",
    "clbp_processed_path = config.data.chronic_low_back_pain.processed_path\n",
    "\n",
    "# Define preprocessing parameters\n",
    "# Combine all subject IDs into dict separated by group\n",
    "sub_ids = {\n",
    "    \"chronic_low_back_pain\": CLBP_CP_subject_ids + CLBP_HC_subject_ids\n",
    "}\n",
    "\n",
    "print(f\"Total subjects: {len(sub_ids['chronic_low_back_pain'])}\")\n",
    "print(sub_ids)\n",
    "\n",
    "event_id = configs.CFGLog['parameters']['event_id']\n",
    "tmin, tmax = config.parameters.tmin, config.parameters.tmax"
   ]
  },
  {
   "cell_type": "code",
   "execution_count": 2,
   "metadata": {},
   "outputs": [],
   "source": [
    "sub_ids = {\n",
    "    \"chronic_low_back_pain\": ['039', '052', '056', 'C21', 'C24']\n",
    "}"
   ]
  },
  {
   "cell_type": "code",
   "execution_count": 3,
   "metadata": {},
   "outputs": [
    {
     "name": "stdout",
     "output_type": "stream",
     "text": [
      "Loaded preprocessed entire for subject 039\n",
      "Loaded raw for subject 052\n",
      "052\n",
      "finding EOG artifacts...\n",
      "Using EOG channels: EOG1, EOG2\n",
      "... filtering ICA sources\n",
      "Setting up band-pass filter from 1 - 10 Hz\n",
      "\n",
      "FIR filter parameters\n",
      "---------------------\n",
      "Designing a two-pass forward and reverse, zero-phase, non-causal bandpass filter:\n",
      "- Windowed frequency-domain design (firwin2) method\n",
      "- Hann window\n",
      "- Lower passband edge: 1.00\n",
      "- Lower transition bandwidth: 0.50 Hz (-12 dB cutoff frequency: 0.75 Hz)\n",
      "- Upper passband edge: 10.00 Hz\n",
      "- Upper transition bandwidth: 0.50 Hz (-12 dB cutoff frequency: 10.25 Hz)\n",
      "- Filter length: 10000 samples (10.000 s)\n",
      "\n"
     ]
    },
    {
     "name": "stderr",
     "output_type": "stream",
     "text": [
      "[Parallel(n_jobs=1)]: Done  17 tasks      | elapsed:    1.9s\n"
     ]
    },
    {
     "name": "stdout",
     "output_type": "stream",
     "text": [
      "... filtering target\n",
      "Setting up band-pass filter from 1 - 10 Hz\n",
      "\n",
      "FIR filter parameters\n",
      "---------------------\n",
      "Designing a two-pass forward and reverse, zero-phase, non-causal bandpass filter:\n",
      "- Windowed frequency-domain design (firwin2) method\n",
      "- Hann window\n",
      "- Lower passband edge: 1.00\n",
      "- Lower transition bandwidth: 0.50 Hz (-12 dB cutoff frequency: 0.75 Hz)\n",
      "- Upper passband edge: 10.00 Hz\n",
      "- Upper transition bandwidth: 0.50 Hz (-12 dB cutoff frequency: 10.25 Hz)\n",
      "- Filter length: 10000 samples (10.000 s)\n",
      "\n",
      "... filtering ICA sources\n",
      "Setting up band-pass filter from 1 - 10 Hz\n",
      "\n",
      "FIR filter parameters\n",
      "---------------------\n",
      "Designing a two-pass forward and reverse, zero-phase, non-causal bandpass filter:\n",
      "- Windowed frequency-domain design (firwin2) method\n",
      "- Hann window\n",
      "- Lower passband edge: 1.00\n",
      "- Lower transition bandwidth: 0.50 Hz (-12 dB cutoff frequency: 0.75 Hz)\n",
      "- Upper passband edge: 10.00 Hz\n",
      "- Upper transition bandwidth: 0.50 Hz (-12 dB cutoff frequency: 10.25 Hz)\n",
      "- Filter length: 10000 samples (10.000 s)\n",
      "\n"
     ]
    },
    {
     "name": "stderr",
     "output_type": "stream",
     "text": [
      "[Parallel(n_jobs=1)]: Done  17 tasks      | elapsed:    2.1s\n"
     ]
    },
    {
     "name": "stdout",
     "output_type": "stream",
     "text": [
      "... filtering target\n",
      "Setting up band-pass filter from 1 - 10 Hz\n",
      "\n",
      "FIR filter parameters\n",
      "---------------------\n",
      "Designing a two-pass forward and reverse, zero-phase, non-causal bandpass filter:\n",
      "- Windowed frequency-domain design (firwin2) method\n",
      "- Hann window\n",
      "- Lower passband edge: 1.00\n",
      "- Lower transition bandwidth: 0.50 Hz (-12 dB cutoff frequency: 0.75 Hz)\n",
      "- Upper passband edge: 10.00 Hz\n",
      "- Upper transition bandwidth: 0.50 Hz (-12 dB cutoff frequency: 10.25 Hz)\n",
      "- Filter length: 10000 samples (10.000 s)\n",
      "\n",
      "Bad channels: ['Cz']\n",
      "Subject: 052\n",
      "Number of remaining channels:  66\n",
      "Dropped channels:  []\n",
      "Saved preprocessed_raw to /home/wanglab/Documents/George_Kenefati_6.20.24-Present/High-Pain-Cross-Study-EEG/data/preprocessed/052_preprocessed_raw.pkl.\n"
     ]
    },
    {
     "name": "stderr",
     "output_type": "stream",
     "text": [
      "/home/wanglab/Documents/George_Kenefati_6.20.24-Present/High-Pain-Cross-Study-EEG/src/preprocessing/classes.py:222: RuntimeWarning: Raw instance has unapplied projectors. Consider applying them before exporting with raw.apply_proj().\n",
      "  data_object.export(save_file_path, overwrite=overwrite)\n",
      "/home/wanglab/Documents/George_Kenefati_6.20.24-Present/High-Pain-Cross-Study-EEG/src/preprocessing/classes.py:222: RuntimeWarning: Encountered data in 'int' format. Converting to float32.\n",
      "  data_object.export(save_file_path, overwrite=overwrite)\n"
     ]
    },
    {
     "name": "stdout",
     "output_type": "stream",
     "text": [
      "Saved preprocessed_raw to /home/wanglab/Documents/George_Kenefati_6.20.24-Present/High-Pain-Cross-Study-EEG/data/preprocessed/052_preprocessed_raw.vhdr.\n",
      "Running autoreject on ch_type=eeg\n",
      "\n",
      "\n",
      "\n",
      "\n",
      "Estimated consensus=0.60 and n_interpolate=32\n",
      "Saved stimulus_labels to /home/wanglab/Documents/George_Kenefati_6.20.24-Present/High-Pain-Cross-Study-EEG/data/preprocessed/052_stimulus_labels.pkl.\n",
      "Saved pain_ratings to /home/wanglab/Documents/George_Kenefati_6.20.24-Present/High-Pain-Cross-Study-EEG/data/preprocessed/052_pain_ratings.pkl.\n",
      "Saved events to /home/wanglab/Documents/George_Kenefati_6.20.24-Present/High-Pain-Cross-Study-EEG/data/preprocessed/052_events.pkl.\n",
      "Saved stimulus_labels to /home/wanglab/Documents/George_Kenefati_6.20.24-Present/High-Pain-Cross-Study-EEG/data/preprocessed/052_stimulus_labels.mat.\n",
      "Saved pain_ratings to /home/wanglab/Documents/George_Kenefati_6.20.24-Present/High-Pain-Cross-Study-EEG/data/preprocessed/052_pain_ratings.mat.\n",
      "Saved events to /home/wanglab/Documents/George_Kenefati_6.20.24-Present/High-Pain-Cross-Study-EEG/data/preprocessed/052_events.mat.\n",
      "Saved epochs to /home/wanglab/Documents/George_Kenefati_6.20.24-Present/High-Pain-Cross-Study-EEG/data/preprocessed/052_epochs.pkl.\n"
     ]
    },
    {
     "name": "stderr",
     "output_type": "stream",
     "text": [
      "/tmp/ipykernel_78284/2444785389.py:25: FutureWarning: The current default of copy=False will change to copy=True in 1.7. Set the value of copy explicitly to avoid this warning\n",
      "  subject.save(subject.epochs.get_data(), \"epochs\", as_mat=True)\n"
     ]
    },
    {
     "name": "stdout",
     "output_type": "stream",
     "text": [
      "Saved epochs to /home/wanglab/Documents/George_Kenefati_6.20.24-Present/High-Pain-Cross-Study-EEG/data/preprocessed/052_epochs.mat.\n"
     ]
    },
    {
     "ename": "TypeError",
     "evalue": "'NoneType' object is not iterable",
     "output_type": "error",
     "traceback": [
      "\u001b[0;31m---------------------------------------------------------------------------\u001b[0m",
      "\u001b[0;31mTypeError\u001b[0m                                 Traceback (most recent call last)",
      "Cell \u001b[0;32mIn[3], line 28\u001b[0m\n\u001b[1;32m     25\u001b[0m subject\u001b[38;5;241m.\u001b[39msave(subject\u001b[38;5;241m.\u001b[39mepochs\u001b[38;5;241m.\u001b[39mget_data(), \u001b[38;5;124m\"\u001b[39m\u001b[38;5;124mepochs\u001b[39m\u001b[38;5;124m\"\u001b[39m, as_mat\u001b[38;5;241m=\u001b[39m\u001b[38;5;28;01mTrue\u001b[39;00m)\n\u001b[1;32m     27\u001b[0m \u001b[38;5;66;03m# Concatenate epochs into VHDR for visualization\u001b[39;00m\n\u001b[0;32m---> 28\u001b[0m \u001b[43msubject\u001b[49m\u001b[38;5;241;43m.\u001b[39;49m\u001b[43mconcatenate_epochs\u001b[49m\u001b[43m(\u001b[49m\u001b[43msave\u001b[49m\u001b[38;5;241;43m=\u001b[39;49m\u001b[38;5;28;43;01mTrue\u001b[39;49;00m\u001b[43m,\u001b[49m\u001b[43m \u001b[49m\u001b[43moverwrite\u001b[49m\u001b[38;5;241;43m=\u001b[39;49m\u001b[38;5;28;43;01mTrue\u001b[39;49;00m\u001b[43m)\u001b[49m\n",
      "File \u001b[0;32m~/Documents/George_Kenefati_6.20.24-Present/High-Pain-Cross-Study-EEG/src/preprocessing/classes.py:285\u001b[0m, in \u001b[0;36mSubject.concatenate_epochs\u001b[0;34m(self, data, save, overwrite)\u001b[0m\n\u001b[1;32m    282\u001b[0m     \u001b[38;5;28mself\u001b[39m\u001b[38;5;241m.\u001b[39mepochs \u001b[38;5;241m=\u001b[39m mne\u001b[38;5;241m.\u001b[39mEpochsArray(data, info)\n\u001b[1;32m    284\u001b[0m raw_list \u001b[38;5;241m=\u001b[39m []\n\u001b[0;32m--> 285\u001b[0m \u001b[43m\u001b[49m\u001b[38;5;28;43;01mfor\u001b[39;49;00m\u001b[43m \u001b[49m\u001b[43mepoch\u001b[49m\u001b[43m \u001b[49m\u001b[38;5;129;43;01min\u001b[39;49;00m\u001b[43m \u001b[49m\u001b[43mdata\u001b[49m\u001b[43m:\u001b[49m\n\u001b[1;32m    286\u001b[0m \u001b[43m    \u001b[49m\u001b[43mraw\u001b[49m\u001b[43m \u001b[49m\u001b[38;5;241;43m=\u001b[39;49m\u001b[43m \u001b[49m\u001b[43mRawArray\u001b[49m\u001b[43m(\u001b[49m\u001b[43mepoch\u001b[49m\u001b[43m,\u001b[49m\u001b[43m \u001b[49m\u001b[38;5;28;43mself\u001b[39;49m\u001b[38;5;241;43m.\u001b[39;49m\u001b[43mepochs\u001b[49m\u001b[38;5;241;43m.\u001b[39;49m\u001b[43minfo\u001b[49m\u001b[43m)\u001b[49m\n\u001b[1;32m    287\u001b[0m \u001b[43m    \u001b[49m\u001b[43mraw_list\u001b[49m\u001b[38;5;241;43m.\u001b[39;49m\u001b[43mappend\u001b[49m\u001b[43m(\u001b[49m\u001b[43mraw\u001b[49m\u001b[43m)\u001b[49m\n",
      "\u001b[0;31mTypeError\u001b[0m: 'NoneType' object is not iterable"
     ]
    }
   ],
   "source": [
    "for group in sub_ids:\n",
    "    for sub_id in sub_ids[group]:\n",
    "        subject = Subject(sub_id, group)\n",
    "        \n",
    "        subject.preprocess()\n",
    "        \n",
    "        if not subject.file_exists(\"epochs_concatenated\", \"vhdr\"):\n",
    "            # Load epochs info\n",
    "            subject.load_epochs_info()\n",
    "\n",
    "            # Create epochs from events\n",
    "            subject.epochs = pre_utils_epo.create_epochs_from_events(\n",
    "                subject.preprocessed_raw, \n",
    "                sub_id, \n",
    "                subject.events, \n",
    "                event_id, \n",
    "                tmin, \n",
    "                tmax)\n",
    "            \n",
    "            # Reject and update epochs using AutoReject\n",
    "            subject.reject_and_update_epochs()\n",
    "\n",
    "            # Save\n",
    "            subject.save(subject.epochs, \"epochs\")\n",
    "            subject.save(subject.epochs.get_data(copy=False), \"epochs\", as_mat=True)\n",
    "            \n",
    "            # Concatenate epochs into VHDR for visualization\n",
    "            subject.concatenate_epochs(save=True, overwrite=True)"
   ]
  },
  {
   "cell_type": "markdown",
   "metadata": {},
   "source": [
    "Extract eyes open"
   ]
  },
  {
   "cell_type": "code",
   "execution_count": 4,
   "metadata": {},
   "outputs": [
    {
     "name": "stdout",
     "output_type": "stream",
     "text": [
      "Loaded preprocessed entire for subject 039\n",
      "Subject 039: cropping 1 of 1: (271.5, 278.25)\n",
      "Saved eyes_open to /home/wanglab/Documents/George_Kenefati_6.20.24-Present/High-Pain-Cross-Study-EEG/data/preprocessed/039_eyes_open.pkl.\n"
     ]
    },
    {
     "name": "stderr",
     "output_type": "stream",
     "text": [
      "/home/wanglab/Documents/George_Kenefati_6.20.24-Present/High-Pain-Cross-Study-EEG/src/preprocessing/classes.py:222: RuntimeWarning: Raw instance has unapplied projectors. Consider applying them before exporting with raw.apply_proj().\n",
      "  data_object.export(save_file_path, overwrite=overwrite)\n",
      "/home/wanglab/Documents/George_Kenefati_6.20.24-Present/High-Pain-Cross-Study-EEG/src/preprocessing/classes.py:222: RuntimeWarning: Encountered data in 'double' format. Converting to float32.\n",
      "  data_object.export(save_file_path, overwrite=overwrite)\n"
     ]
    },
    {
     "name": "stdout",
     "output_type": "stream",
     "text": [
      "Saved eyes_open to /home/wanglab/Documents/George_Kenefati_6.20.24-Present/High-Pain-Cross-Study-EEG/data/preprocessed/039_eyes_open.vhdr.\n",
      "Subject 039 noisy span cropped\n",
      "Loaded preprocessed entire for subject 052\n"
     ]
    },
    {
     "ename": "NameError",
     "evalue": "name 'annotations' is not defined",
     "output_type": "error",
     "traceback": [
      "\u001b[0;31m---------------------------------------------------------------------------\u001b[0m",
      "\u001b[0;31mNameError\u001b[0m                                 Traceback (most recent call last)",
      "Cell \u001b[0;32mIn[4], line 9\u001b[0m\n\u001b[1;32m      7\u001b[0m \u001b[38;5;28;01mif\u001b[39;00m \u001b[38;5;129;01mnot\u001b[39;00m subject\u001b[38;5;241m.\u001b[39mfile_exists(\u001b[38;5;124m\"\u001b[39m\u001b[38;5;124meyes_open\u001b[39m\u001b[38;5;124m\"\u001b[39m, \u001b[38;5;124m\"\u001b[39m\u001b[38;5;124mvhdr\u001b[39m\u001b[38;5;124m\"\u001b[39m):\n\u001b[1;32m      8\u001b[0m     raw \u001b[38;5;241m=\u001b[39m subject\u001b[38;5;241m.\u001b[39mpreprocessed_raw\n\u001b[0;32m----> 9\u001b[0m     eo_annotations \u001b[38;5;241m=\u001b[39m \u001b[43mannotations\u001b[49m[\u001b[38;5;241m2\u001b[39m:\u001b[38;5;241m4\u001b[39m]  \n\u001b[1;32m     10\u001b[0m     eo_start \u001b[38;5;241m=\u001b[39m eo_annotations[\u001b[38;5;241m0\u001b[39m][\u001b[38;5;124m'\u001b[39m\u001b[38;5;124monset\u001b[39m\u001b[38;5;124m'\u001b[39m]\n\u001b[1;32m     11\u001b[0m     eo_end \u001b[38;5;241m=\u001b[39m eo_annotations[\u001b[38;5;241m1\u001b[39m][\u001b[38;5;124m'\u001b[39m\u001b[38;5;124monset\u001b[39m\u001b[38;5;124m'\u001b[39m]          \n",
      "\u001b[0;31mNameError\u001b[0m: name 'annotations' is not defined"
     ]
    }
   ],
   "source": [
    "for group in sub_ids:\n",
    "    for sub_id in sub_ids[group]:\n",
    "        subject = Subject(sub_id, group)\n",
    "        \n",
    "        subject.preprocess()\n",
    "        \n",
    "        if not subject.file_exists(\"eyes_open\", \"vhdr\"):\n",
    "            raw = subject.preprocessed_raw\n",
    "            eo_annotations = annotations[2:4]  \n",
    "            eo_start = eo_annotations[0]['onset']\n",
    "            eo_end = eo_annotations[1]['onset']          \n",
    "            subject.eyes_open = raw.copy().crop(eo_start, eo_end)\n",
    "            \n",
    "            subject.save(subject.eyes_open, \"eyes_open\")\n",
    "            subject.save(subject.eyes_open, \"eyes_open\", as_vhdr=True, overwrite=True)\n",
    "        \n",
    "        # Crop noisy spans\n",
    "        else:        \n",
    "            subject.load_eyes_open()\n",
    "            total_time_cropped = 0\n",
    "\n",
    "            for i, crop_times in enumerate(noisy_spans[sub_id]):\n",
    "                print(\n",
    "                    f\"Subject {sub_id}: cropping {i+1} of {len(noisy_spans[sub_id])}: {crop_times}\"\n",
    "                )\n",
    "\n",
    "                # Adjust crop_times by subtracting the total time cropped\n",
    "                crop_times_adjusted = [\n",
    "                    crop_time - total_time_cropped for crop_time in crop_times\n",
    "                ]\n",
    "                crop_times = crop_times_adjusted\n",
    "\n",
    "                # get crop times\n",
    "                t1 = crop_times[0]\n",
    "                t2 = crop_times[1] if len(crop_times) == 2 else None\n",
    "\n",
    "                # if only one time is given use that as end time\n",
    "                if t2 is None:\n",
    "                    raw_eo = subject.eyes_open.crop(tmax=t1)\n",
    "                else:\n",
    "                    raw_eo = pre_utils.snip_span(subject.eyes_open, t1, t2)\n",
    "\n",
    "            # Save cropped raw\n",
    "            subject.save(raw_eo, \"eyes_open\", overwrite=True)\n",
    "            subject.save(raw_eo, \"eyes_open\", as_vhdr=True, overwrite=True)\n",
    "            print(f\"Subject {sub_id} noisy span cropped\")\n"
   ]
  },
  {
   "cell_type": "code",
   "execution_count": null,
   "metadata": {},
   "outputs": [],
   "source": []
  }
 ],
 "metadata": {
  "kernelspec": {
   "display_name": "Python 3",
   "language": "python",
   "name": "python3"
  },
  "language_info": {
   "codemirror_mode": {
    "name": "ipython",
    "version": 3
   },
   "file_extension": ".py",
   "mimetype": "text/x-python",
   "name": "python",
   "nbconvert_exporter": "python",
   "pygments_lexer": "ipython3",
   "version": "3.11.9"
  }
 },
 "nbformat": 4,
 "nbformat_minor": 2
}

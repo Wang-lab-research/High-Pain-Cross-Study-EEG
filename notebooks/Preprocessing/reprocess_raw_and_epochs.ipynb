{
 "cells": [
  {
   "cell_type": "markdown",
   "metadata": {},
   "source": [
    "# Preprocess entire and then use existing event_samples to create Epochs anew"
   ]
  },
  {
   "cell_type": "code",
   "execution_count": 1,
   "metadata": {},
   "outputs": [
    {
     "name": "stdout",
     "output_type": "stream",
     "text": [
      "imported src module\n",
      "imported preprocessing module\n",
      "imported utils module\n",
      "imported configs module\n",
      "Total subjects: 43\n",
      "{'chronic_low_back_pain': ['018', '022', '024', '031', '032', '034', '036', '039', '040', '045', '046', '052', '020', '021', '023', '029', '037', '041', '042', '044', '048', '049', '050', '056', 'C10', 'C11', 'C12', 'C13', 'C14', 'C15', 'C16', 'C17', 'C18', 'C19', 'C2.', 'C24', 'C25', 'C26', 'C27', 'C3.', 'C6.', 'C7.', 'C9.']}\n"
     ]
    }
   ],
   "source": [
    "import sys\n",
    "import os\n",
    "src_path = os.path.dirname(os.path.abspath(\"../../src\"))\n",
    "sys.path.append(src_path)\n",
    "from src.preprocessing.classes import Subject\n",
    "from src.utils.config import Config\n",
    "import src.configs.config as configs\n",
    "import src.preprocessing.utils_epo as pre_utils_epo \n",
    "from autoreject import AutoReject\n",
    "\n",
    "# Load in subject IDs and paths from CFGLog\n",
    "config = Config.from_json(configs.CFGLog)\n",
    "RANDOM_STATE = config.parameters.random_seed\n",
    "\n",
    "CLBP_CP_subject_ids = config.data.chronic_low_back_pain.subject_ids.CP\n",
    "CLBP_HC_subject_ids = config.data.chronic_low_back_pain.subject_ids.HC\n",
    "\n",
    "# CLBP already processed\n",
    "clbp_processed_path = config.data.chronic_low_back_pain.processed_path\n",
    "\n",
    "# Define preprocessing parameters\n",
    "# Combine all subject IDs into dict separated by group\n",
    "sub_ids = {\n",
    "    \"chronic_low_back_pain\": CLBP_CP_subject_ids + CLBP_HC_subject_ids\n",
    "}\n",
    "\n",
    "print(f\"Total subjects: {len(sub_ids['chronic_low_back_pain'])}\")\n",
    "print(sub_ids)\n",
    "\n",
    "event_id = configs.CFGLog['parameters']['event_id']\n",
    "tmin, tmax = config.parameters.tmin, config.parameters.tmax"
   ]
  },
  {
   "cell_type": "code",
   "execution_count": 6,
   "metadata": {},
   "outputs": [
    {
     "name": "stdout",
     "output_type": "stream",
     "text": [
      "Loaded preprocessed entire for subject 018\n",
      "Multiple event values for single event times found. Creating new event value to reflect simultaneous events.\n",
      "Not setting metadata\n",
      "72 matching events found\n",
      "No baseline correction applied\n",
      "Using data from preloaded Raw for 72 events and 1801 original time points ...\n",
      "0 bad epochs dropped\n",
      "Not setting metadata\n",
      "72 matching events found\n",
      "No baseline correction applied\n",
      "Running autoreject on ch_type=eeg\n"
     ]
    },
    {
     "data": {
      "application/vnd.jupyter.widget-view+json": {
       "model_id": "6d005e49a7034dc485b164373b3da063",
       "version_major": 2,
       "version_minor": 0
      },
      "text/plain": [
       "  0%|          | Creating augmented epochs : 0/64 [00:00<?,       ?it/s]"
      ]
     },
     "metadata": {},
     "output_type": "display_data"
    },
    {
     "data": {
      "application/vnd.jupyter.widget-view+json": {
       "model_id": "d7dcf9189ef94ba8a12919d65e21e628",
       "version_major": 2,
       "version_minor": 0
      },
      "text/plain": [
       "  0%|          | Computing thresholds ... : 0/64 [00:00<?,       ?it/s]"
      ]
     },
     "metadata": {},
     "output_type": "display_data"
    },
    {
     "data": {
      "application/vnd.jupyter.widget-view+json": {
       "model_id": "2742339ff2ff41b2a4e6a1a5e42880a8",
       "version_major": 2,
       "version_minor": 0
      },
      "text/plain": [
       "  0%|          | Repairing epochs : 0/72 [00:00<?,       ?it/s]"
      ]
     },
     "metadata": {},
     "output_type": "display_data"
    },
    {
     "data": {
      "application/vnd.jupyter.widget-view+json": {
       "model_id": "4d6abd4d27dd4adf9fa2ecaad24cf0a4",
       "version_major": 2,
       "version_minor": 0
      },
      "text/plain": [
       "  0%|          | n_interp : 0/3 [00:00<?,       ?it/s]"
      ]
     },
     "metadata": {},
     "output_type": "display_data"
    },
    {
     "data": {
      "application/vnd.jupyter.widget-view+json": {
       "model_id": "791f435a949d4fa29adc7683626a0d5d",
       "version_major": 2,
       "version_minor": 0
      },
      "text/plain": [
       "  0%|          | Repairing epochs : 0/72 [00:00<?,       ?it/s]"
      ]
     },
     "metadata": {},
     "output_type": "display_data"
    },
    {
     "data": {
      "application/vnd.jupyter.widget-view+json": {
       "model_id": "bf7dc9e12f15401084b2aa61b25e70b4",
       "version_major": 2,
       "version_minor": 0
      },
      "text/plain": [
       "  0%|          | Fold : 0/10 [00:00<?,       ?it/s]"
      ]
     },
     "metadata": {},
     "output_type": "display_data"
    },
    {
     "data": {
      "application/vnd.jupyter.widget-view+json": {
       "model_id": "2c74fc11294d4784b99f7f73e9cb583e",
       "version_major": 2,
       "version_minor": 0
      },
      "text/plain": [
       "  0%|          | Repairing epochs : 0/72 [00:00<?,       ?it/s]"
      ]
     },
     "metadata": {},
     "output_type": "display_data"
    },
    {
     "data": {
      "application/vnd.jupyter.widget-view+json": {
       "model_id": "c39e6e10a149423ea0de977495bd4caa",
       "version_major": 2,
       "version_minor": 0
      },
      "text/plain": [
       "  0%|          | Fold : 0/10 [00:00<?,       ?it/s]"
      ]
     },
     "metadata": {},
     "output_type": "display_data"
    },
    {
     "data": {
      "application/vnd.jupyter.widget-view+json": {
       "model_id": "049cb9c7cbcd4153968129071c658c8d",
       "version_major": 2,
       "version_minor": 0
      },
      "text/plain": [
       "  0%|          | Repairing epochs : 0/72 [00:00<?,       ?it/s]"
      ]
     },
     "metadata": {},
     "output_type": "display_data"
    },
    {
     "data": {
      "application/vnd.jupyter.widget-view+json": {
       "model_id": "f47329ee0ffa45a5986ae36a14706cb5",
       "version_major": 2,
       "version_minor": 0
      },
      "text/plain": [
       "  0%|          | Fold : 0/10 [00:00<?,       ?it/s]"
      ]
     },
     "metadata": {},
     "output_type": "display_data"
    },
    {
     "name": "stdout",
     "output_type": "stream",
     "text": [
      "\n",
      "\n",
      "\n",
      "\n",
      "Estimated consensus=0.60 and n_interpolate=32\n"
     ]
    },
    {
     "data": {
      "application/vnd.jupyter.widget-view+json": {
       "model_id": "5d2f249dc992481fa7dc635946ad7be4",
       "version_major": 2,
       "version_minor": 0
      },
      "text/plain": [
       "  0%|          | Repairing epochs : 0/72 [00:00<?,       ?it/s]"
      ]
     },
     "metadata": {},
     "output_type": "display_data"
    },
    {
     "name": "stdout",
     "output_type": "stream",
     "text": [
      "No bad epochs were found for your data. Returning a copy of the data you wanted to clean. Interpolation may have been done.\n",
      "Dropped 0 epochs: \n",
      "Saved stimulus_labels to /home/wanglab/Documents/George_Kenefati_6.20.24-Present/High-Pain-Cross-Study-EEG/data/preprocessed/018_stimulus_labels.pkl.\n",
      "Saved pain_ratings to /home/wanglab/Documents/George_Kenefati_6.20.24-Present/High-Pain-Cross-Study-EEG/data/preprocessed/018_pain_ratings.pkl.\n",
      "Saved events to /home/wanglab/Documents/George_Kenefati_6.20.24-Present/High-Pain-Cross-Study-EEG/data/preprocessed/018_events.pkl.\n",
      "Saved stimulus_labels to /home/wanglab/Documents/George_Kenefati_6.20.24-Present/High-Pain-Cross-Study-EEG/data/preprocessed/018_stimulus_labels.mat.\n",
      "Saved pain_ratings to /home/wanglab/Documents/George_Kenefati_6.20.24-Present/High-Pain-Cross-Study-EEG/data/preprocessed/018_pain_ratings.mat.\n",
      "Saved events to /home/wanglab/Documents/George_Kenefati_6.20.24-Present/High-Pain-Cross-Study-EEG/data/preprocessed/018_events.mat.\n",
      "Saved epochs to /home/wanglab/Documents/George_Kenefati_6.20.24-Present/High-Pain-Cross-Study-EEG/data/preprocessed/018_epochs.pkl.\n"
     ]
    },
    {
     "name": "stderr",
     "output_type": "stream",
     "text": [
      "/tmp/ipykernel_187303/2444785389.py:25: FutureWarning: The current default of copy=False will change to copy=True in 1.7. Set the value of copy explicitly to avoid this warning\n",
      "  subject.save(subject.epochs.get_data(), \"epochs\", as_mat=True)\n"
     ]
    },
    {
     "name": "stdout",
     "output_type": "stream",
     "text": [
      "Saved epochs to /home/wanglab/Documents/George_Kenefati_6.20.24-Present/High-Pain-Cross-Study-EEG/data/preprocessed/018_epochs.mat.\n",
      "Creating RawArray with float64 data, n_channels=66, n_times=1801\n",
      "    Range : 0 ... 1800 =      0.000 ...     3.000 secs\n",
      "Ready.\n",
      "Creating RawArray with float64 data, n_channels=66, n_times=1801\n",
      "    Range : 0 ... 1800 =      0.000 ...     3.000 secs\n",
      "Ready.\n",
      "Creating RawArray with float64 data, n_channels=66, n_times=1801\n",
      "    Range : 0 ... 1800 =      0.000 ...     3.000 secs\n",
      "Ready.\n",
      "Creating RawArray with float64 data, n_channels=66, n_times=1801\n",
      "    Range : 0 ... 1800 =      0.000 ...     3.000 secs\n",
      "Ready.\n",
      "Creating RawArray with float64 data, n_channels=66, n_times=1801\n",
      "    Range : 0 ... 1800 =      0.000 ...     3.000 secs\n",
      "Ready.\n",
      "Creating RawArray with float64 data, n_channels=66, n_times=1801\n",
      "    Range : 0 ... 1800 =      0.000 ...     3.000 secs\n",
      "Ready.\n",
      "Creating RawArray with float64 data, n_channels=66, n_times=1801\n",
      "    Range : 0 ... 1800 =      0.000 ...     3.000 secs\n",
      "Ready.\n",
      "Creating RawArray with float64 data, n_channels=66, n_times=1801\n",
      "    Range : 0 ... 1800 =      0.000 ...     3.000 secs\n",
      "Ready.\n",
      "Creating RawArray with float64 data, n_channels=66, n_times=1801\n",
      "    Range : 0 ... 1800 =      0.000 ...     3.000 secs\n",
      "Ready.\n",
      "Creating RawArray with float64 data, n_channels=66, n_times=1801\n",
      "    Range : 0 ... 1800 =      0.000 ...     3.000 secs\n",
      "Ready.\n",
      "Creating RawArray with float64 data, n_channels=66, n_times=1801\n",
      "    Range : 0 ... 1800 =      0.000 ...     3.000 secs\n",
      "Ready.\n",
      "Creating RawArray with float64 data, n_channels=66, n_times=1801\n",
      "    Range : 0 ... 1800 =      0.000 ...     3.000 secs\n",
      "Ready.\n",
      "Creating RawArray with float64 data, n_channels=66, n_times=1801\n",
      "    Range : 0 ... 1800 =      0.000 ...     3.000 secs\n",
      "Ready.\n",
      "Creating RawArray with float64 data, n_channels=66, n_times=1801\n",
      "    Range : 0 ... 1800 =      0.000 ...     3.000 secs\n",
      "Ready.\n",
      "Creating RawArray with float64 data, n_channels=66, n_times=1801\n",
      "    Range : 0 ... 1800 =      0.000 ...     3.000 secs\n",
      "Ready.\n",
      "Creating RawArray with float64 data, n_channels=66, n_times=1801\n",
      "    Range : 0 ... 1800 =      0.000 ...     3.000 secs\n",
      "Ready.\n",
      "Creating RawArray with float64 data, n_channels=66, n_times=1801\n",
      "    Range : 0 ... 1800 =      0.000 ...     3.000 secs\n",
      "Ready.\n",
      "Creating RawArray with float64 data, n_channels=66, n_times=1801\n",
      "    Range : 0 ... 1800 =      0.000 ...     3.000 secs\n",
      "Ready.\n",
      "Creating RawArray with float64 data, n_channels=66, n_times=1801\n",
      "    Range : 0 ... 1800 =      0.000 ...     3.000 secs\n",
      "Ready.\n",
      "Creating RawArray with float64 data, n_channels=66, n_times=1801\n",
      "    Range : 0 ... 1800 =      0.000 ...     3.000 secs\n",
      "Ready.\n",
      "Creating RawArray with float64 data, n_channels=66, n_times=1801\n",
      "    Range : 0 ... 1800 =      0.000 ...     3.000 secs\n",
      "Ready.\n",
      "Creating RawArray with float64 data, n_channels=66, n_times=1801\n",
      "    Range : 0 ... 1800 =      0.000 ...     3.000 secs\n",
      "Ready.\n",
      "Creating RawArray with float64 data, n_channels=66, n_times=1801\n",
      "    Range : 0 ... 1800 =      0.000 ...     3.000 secs\n",
      "Ready.\n",
      "Creating RawArray with float64 data, n_channels=66, n_times=1801\n",
      "    Range : 0 ... 1800 =      0.000 ...     3.000 secs\n",
      "Ready.\n",
      "Creating RawArray with float64 data, n_channels=66, n_times=1801\n",
      "    Range : 0 ... 1800 =      0.000 ...     3.000 secs\n",
      "Ready.\n",
      "Creating RawArray with float64 data, n_channels=66, n_times=1801\n",
      "    Range : 0 ... 1800 =      0.000 ...     3.000 secs\n",
      "Ready.\n",
      "Creating RawArray with float64 data, n_channels=66, n_times=1801\n",
      "    Range : 0 ... 1800 =      0.000 ...     3.000 secs\n",
      "Ready.\n",
      "Creating RawArray with float64 data, n_channels=66, n_times=1801\n",
      "    Range : 0 ... 1800 =      0.000 ...     3.000 secs\n",
      "Ready.\n",
      "Creating RawArray with float64 data, n_channels=66, n_times=1801\n",
      "    Range : 0 ... 1800 =      0.000 ...     3.000 secs\n",
      "Ready.\n",
      "Creating RawArray with float64 data, n_channels=66, n_times=1801\n",
      "    Range : 0 ... 1800 =      0.000 ...     3.000 secs\n",
      "Ready.\n",
      "Creating RawArray with float64 data, n_channels=66, n_times=1801\n",
      "    Range : 0 ... 1800 =      0.000 ...     3.000 secs\n",
      "Ready.\n",
      "Creating RawArray with float64 data, n_channels=66, n_times=1801\n",
      "    Range : 0 ... 1800 =      0.000 ...     3.000 secs\n",
      "Ready.\n",
      "Creating RawArray with float64 data, n_channels=66, n_times=1801\n",
      "    Range : 0 ... 1800 =      0.000 ...     3.000 secs\n",
      "Ready.\n",
      "Creating RawArray with float64 data, n_channels=66, n_times=1801\n",
      "    Range : 0 ... 1800 =      0.000 ...     3.000 secs\n",
      "Ready.\n",
      "Creating RawArray with float64 data, n_channels=66, n_times=1801\n",
      "    Range : 0 ... 1800 =      0.000 ...     3.000 secs\n",
      "Ready.\n",
      "Creating RawArray with float64 data, n_channels=66, n_times=1801\n",
      "    Range : 0 ... 1800 =      0.000 ...     3.000 secs\n",
      "Ready.\n",
      "Creating RawArray with float64 data, n_channels=66, n_times=1801\n",
      "    Range : 0 ... 1800 =      0.000 ...     3.000 secs\n",
      "Ready.\n",
      "Creating RawArray with float64 data, n_channels=66, n_times=1801\n",
      "    Range : 0 ... 1800 =      0.000 ...     3.000 secs\n",
      "Ready.\n",
      "Creating RawArray with float64 data, n_channels=66, n_times=1801\n",
      "    Range : 0 ... 1800 =      0.000 ...     3.000 secs\n",
      "Ready.\n",
      "Creating RawArray with float64 data, n_channels=66, n_times=1801\n",
      "    Range : 0 ... 1800 =      0.000 ...     3.000 secs\n",
      "Ready.\n",
      "Creating RawArray with float64 data, n_channels=66, n_times=1801\n",
      "    Range : 0 ... 1800 =      0.000 ...     3.000 secs\n",
      "Ready.\n",
      "Creating RawArray with float64 data, n_channels=66, n_times=1801\n",
      "    Range : 0 ... 1800 =      0.000 ...     3.000 secs\n",
      "Ready.\n",
      "Creating RawArray with float64 data, n_channels=66, n_times=1801\n",
      "    Range : 0 ... 1800 =      0.000 ...     3.000 secs\n",
      "Ready.\n",
      "Creating RawArray with float64 data, n_channels=66, n_times=1801\n",
      "    Range : 0 ... 1800 =      0.000 ...     3.000 secs\n",
      "Ready.\n",
      "Creating RawArray with float64 data, n_channels=66, n_times=1801\n",
      "    Range : 0 ... 1800 =      0.000 ...     3.000 secs\n",
      "Ready.\n",
      "Creating RawArray with float64 data, n_channels=66, n_times=1801\n",
      "    Range : 0 ... 1800 =      0.000 ...     3.000 secs\n",
      "Ready.\n",
      "Creating RawArray with float64 data, n_channels=66, n_times=1801\n",
      "    Range : 0 ... 1800 =      0.000 ...     3.000 secs\n",
      "Ready.\n",
      "Creating RawArray with float64 data, n_channels=66, n_times=1801\n",
      "    Range : 0 ... 1800 =      0.000 ...     3.000 secs\n",
      "Ready.\n",
      "Creating RawArray with float64 data, n_channels=66, n_times=1801\n",
      "    Range : 0 ... 1800 =      0.000 ...     3.000 secs\n",
      "Ready.\n",
      "Creating RawArray with float64 data, n_channels=66, n_times=1801\n",
      "    Range : 0 ... 1800 =      0.000 ...     3.000 secs\n",
      "Ready.\n",
      "Creating RawArray with float64 data, n_channels=66, n_times=1801\n",
      "    Range : 0 ... 1800 =      0.000 ...     3.000 secs\n",
      "Ready.\n",
      "Creating RawArray with float64 data, n_channels=66, n_times=1801\n",
      "    Range : 0 ... 1800 =      0.000 ...     3.000 secs\n",
      "Ready.\n",
      "Creating RawArray with float64 data, n_channels=66, n_times=1801\n",
      "    Range : 0 ... 1800 =      0.000 ...     3.000 secs\n",
      "Ready.\n",
      "Creating RawArray with float64 data, n_channels=66, n_times=1801\n",
      "    Range : 0 ... 1800 =      0.000 ...     3.000 secs\n",
      "Ready.\n",
      "Creating RawArray with float64 data, n_channels=66, n_times=1801\n",
      "    Range : 0 ... 1800 =      0.000 ...     3.000 secs\n",
      "Ready.\n",
      "Creating RawArray with float64 data, n_channels=66, n_times=1801\n",
      "    Range : 0 ... 1800 =      0.000 ...     3.000 secs\n",
      "Ready.\n",
      "Creating RawArray with float64 data, n_channels=66, n_times=1801\n",
      "    Range : 0 ... 1800 =      0.000 ...     3.000 secs\n",
      "Ready.\n",
      "Creating RawArray with float64 data, n_channels=66, n_times=1801\n",
      "    Range : 0 ... 1800 =      0.000 ...     3.000 secs\n",
      "Ready.\n",
      "Creating RawArray with float64 data, n_channels=66, n_times=1801\n",
      "    Range : 0 ... 1800 =      0.000 ...     3.000 secs\n",
      "Ready.\n",
      "Creating RawArray with float64 data, n_channels=66, n_times=1801\n",
      "    Range : 0 ... 1800 =      0.000 ...     3.000 secs\n",
      "Ready.\n",
      "Creating RawArray with float64 data, n_channels=66, n_times=1801\n",
      "    Range : 0 ... 1800 =      0.000 ...     3.000 secs\n",
      "Ready.\n",
      "Creating RawArray with float64 data, n_channels=66, n_times=1801\n",
      "    Range : 0 ... 1800 =      0.000 ...     3.000 secs\n",
      "Ready.\n",
      "Creating RawArray with float64 data, n_channels=66, n_times=1801\n",
      "    Range : 0 ... 1800 =      0.000 ...     3.000 secs\n",
      "Ready.\n",
      "Creating RawArray with float64 data, n_channels=66, n_times=1801\n",
      "    Range : 0 ... 1800 =      0.000 ...     3.000 secs\n",
      "Ready.\n",
      "Creating RawArray with float64 data, n_channels=66, n_times=1801\n",
      "    Range : 0 ... 1800 =      0.000 ...     3.000 secs\n",
      "Ready.\n",
      "Creating RawArray with float64 data, n_channels=66, n_times=1801\n",
      "    Range : 0 ... 1800 =      0.000 ...     3.000 secs\n",
      "Ready.\n",
      "Creating RawArray with float64 data, n_channels=66, n_times=1801\n",
      "    Range : 0 ... 1800 =      0.000 ...     3.000 secs\n",
      "Ready.\n",
      "Creating RawArray with float64 data, n_channels=66, n_times=1801\n",
      "    Range : 0 ... 1800 =      0.000 ...     3.000 secs\n",
      "Ready.\n",
      "Creating RawArray with float64 data, n_channels=66, n_times=1801\n",
      "    Range : 0 ... 1800 =      0.000 ...     3.000 secs\n",
      "Ready.\n",
      "Creating RawArray with float64 data, n_channels=66, n_times=1801\n",
      "    Range : 0 ... 1800 =      0.000 ...     3.000 secs\n",
      "Ready.\n",
      "Creating RawArray with float64 data, n_channels=66, n_times=1801\n",
      "    Range : 0 ... 1800 =      0.000 ...     3.000 secs\n",
      "Ready.\n",
      "Creating RawArray with float64 data, n_channels=66, n_times=1801\n",
      "    Range : 0 ... 1800 =      0.000 ...     3.000 secs\n",
      "Ready.\n",
      "Saved epochs_concatenated to /home/wanglab/Documents/George_Kenefati_6.20.24-Present/High-Pain-Cross-Study-EEG/data/preprocessed/018_epochs_concatenated.vhdr.\n",
      "Extracting EDF parameters from /home/wanglab/Documents/George Kenefati/Chronic Low Back Pain Study/Data/Raw/022.EEGDATA/Acquisition 022 Data.edf...\n",
      "EDF file detected\n",
      "Setting channel info structure...\n",
      "Creating raw.info structure...\n"
     ]
    },
    {
     "name": "stderr",
     "output_type": "stream",
     "text": [
      "/home/wanglab/Documents/George_Kenefati_6.20.24-Present/High-Pain-Cross-Study-EEG/src/preprocessing/classes.py:181: RuntimeWarning: Encountered data in 'double' format. Converting to float32.\n",
      "  data_object.export(save_file_path, overwrite=overwrite)\n",
      "/home/wanglab/Documents/George_Kenefati_6.20.24-Present/High-Pain-Cross-Study-EEG/src/preprocessing/classes.py:66: RuntimeWarning: Number of records from the header does not match the file size (perhaps the recording was not stopped before exiting). Inferring from the file size.\n",
      "  self.raw = mne.io.read_raw_edf(self.raw_file_path, preload=True)\n"
     ]
    },
    {
     "name": "stdout",
     "output_type": "stream",
     "text": [
      "Reading 0 ... 759999  =      0.000 ...   759.999 secs...\n",
      "Loaded raw for subject 022\n",
      "Filtering raw data in 1 contiguous segment\n",
      "Setting up band-pass filter from 1 - 1e+02 Hz\n",
      "\n",
      "FIR filter parameters\n",
      "---------------------\n",
      "Designing a one-pass, zero-phase, non-causal bandpass filter:\n",
      "- Windowed time-domain design (firwin) method\n",
      "- Hamming window with 0.0194 passband ripple and 53 dB stopband attenuation\n",
      "- Lower passband edge: 1.00\n",
      "- Lower transition bandwidth: 1.00 Hz (-6 dB cutoff frequency: 0.50 Hz)\n",
      "- Upper passband edge: 100.00 Hz\n",
      "- Upper transition bandwidth: 25.00 Hz (-6 dB cutoff frequency: 112.50 Hz)\n",
      "- Filter length: 3301 samples (3.301 s)\n",
      "\n"
     ]
    },
    {
     "name": "stderr",
     "output_type": "stream",
     "text": [
      "[Parallel(n_jobs=1)]: Done  17 tasks      | elapsed:    0.5s\n"
     ]
    },
    {
     "name": "stdout",
     "output_type": "stream",
     "text": [
      "Filtering raw data in 1 contiguous segment\n",
      "Setting up band-stop filter from 58 - 62 Hz\n",
      "\n",
      "FIR filter parameters\n",
      "---------------------\n",
      "Designing a one-pass, zero-phase, non-causal bandstop filter:\n",
      "- Windowed time-domain design (firwin) method\n",
      "- Hamming window with 0.0194 passband ripple and 53 dB stopband attenuation\n",
      "- Lower passband edge: 58.00\n",
      "- Lower transition bandwidth: 0.50 Hz (-6 dB cutoff frequency: 57.75 Hz)\n",
      "- Upper passband edge: 62.00 Hz\n",
      "- Upper transition bandwidth: 0.50 Hz (-6 dB cutoff frequency: 62.25 Hz)\n",
      "- Filter length: 6601 samples (6.601 s)\n",
      "\n"
     ]
    },
    {
     "name": "stderr",
     "output_type": "stream",
     "text": [
      "[Parallel(n_jobs=1)]: Done  17 tasks      | elapsed:    0.5s\n"
     ]
    },
    {
     "name": "stdout",
     "output_type": "stream",
     "text": [
      "EEG channel type selected for re-referencing\n",
      "Applying average reference.\n",
      "Applying a custom ('EEG',) reference.\n",
      "Fitting ICA to data using 64 channels (please be patient, this may take a while)\n",
      "Selecting by number: 32 components\n",
      "Fitting ICA took 51.9s.\n",
      "022\n",
      "finding EOG artifacts...\n",
      "Using EOG channels: EOG1, EOG2\n",
      "... filtering ICA sources\n",
      "Setting up band-pass filter from 1 - 10 Hz\n",
      "\n",
      "FIR filter parameters\n",
      "---------------------\n",
      "Designing a two-pass forward and reverse, zero-phase, non-causal bandpass filter:\n",
      "- Windowed frequency-domain design (firwin2) method\n",
      "- Hann window\n",
      "- Lower passband edge: 1.00\n",
      "- Lower transition bandwidth: 0.50 Hz (-12 dB cutoff frequency: 0.75 Hz)\n",
      "- Upper passband edge: 10.00 Hz\n",
      "- Upper transition bandwidth: 0.50 Hz (-12 dB cutoff frequency: 10.25 Hz)\n",
      "- Filter length: 10000 samples (10.000 s)\n",
      "\n"
     ]
    },
    {
     "name": "stderr",
     "output_type": "stream",
     "text": [
      "[Parallel(n_jobs=1)]: Done  17 tasks      | elapsed:    0.7s\n"
     ]
    },
    {
     "name": "stdout",
     "output_type": "stream",
     "text": [
      "... filtering target\n",
      "Setting up band-pass filter from 1 - 10 Hz\n",
      "\n",
      "FIR filter parameters\n",
      "---------------------\n",
      "Designing a two-pass forward and reverse, zero-phase, non-causal bandpass filter:\n",
      "- Windowed frequency-domain design (firwin2) method\n",
      "- Hann window\n",
      "- Lower passband edge: 1.00\n",
      "- Lower transition bandwidth: 0.50 Hz (-12 dB cutoff frequency: 0.75 Hz)\n",
      "- Upper passband edge: 10.00 Hz\n",
      "- Upper transition bandwidth: 0.50 Hz (-12 dB cutoff frequency: 10.25 Hz)\n",
      "- Filter length: 10000 samples (10.000 s)\n",
      "\n",
      "... filtering ICA sources\n",
      "Setting up band-pass filter from 1 - 10 Hz\n",
      "\n",
      "FIR filter parameters\n",
      "---------------------\n",
      "Designing a two-pass forward and reverse, zero-phase, non-causal bandpass filter:\n",
      "- Windowed frequency-domain design (firwin2) method\n",
      "- Hann window\n",
      "- Lower passband edge: 1.00\n",
      "- Lower transition bandwidth: 0.50 Hz (-12 dB cutoff frequency: 0.75 Hz)\n",
      "- Upper passband edge: 10.00 Hz\n",
      "- Upper transition bandwidth: 0.50 Hz (-12 dB cutoff frequency: 10.25 Hz)\n",
      "- Filter length: 10000 samples (10.000 s)\n",
      "\n"
     ]
    },
    {
     "name": "stderr",
     "output_type": "stream",
     "text": [
      "[Parallel(n_jobs=1)]: Done  17 tasks      | elapsed:    0.7s\n"
     ]
    },
    {
     "name": "stdout",
     "output_type": "stream",
     "text": [
      "... filtering target\n",
      "Setting up band-pass filter from 1 - 10 Hz\n",
      "\n",
      "FIR filter parameters\n",
      "---------------------\n",
      "Designing a two-pass forward and reverse, zero-phase, non-causal bandpass filter:\n",
      "- Windowed frequency-domain design (firwin2) method\n",
      "- Hann window\n",
      "- Lower passband edge: 1.00\n",
      "- Lower transition bandwidth: 0.50 Hz (-12 dB cutoff frequency: 0.75 Hz)\n",
      "- Upper passband edge: 10.00 Hz\n",
      "- Upper transition bandwidth: 0.50 Hz (-12 dB cutoff frequency: 10.25 Hz)\n",
      "- Filter length: 10000 samples (10.000 s)\n",
      "\n",
      "Applying ICA to Raw instance\n",
      "    Transforming to ICA space (32 components)\n",
      "    Zeroing out 2 ICA components\n",
      "    Projecting back using 64 PCA components\n",
      "NOTE: pick_types() is a legacy function. New code should use inst.pick(...).\n",
      "Setting up high-pass filter at 1 Hz\n",
      "\n",
      "FIR filter parameters\n",
      "---------------------\n",
      "Designing a one-pass, zero-phase, non-causal highpass filter:\n",
      "- Windowed time-domain design (firwin) method\n",
      "- Hamming window with 0.0194 passband ripple and 53 dB stopband attenuation\n",
      "- Lower passband edge: 1.00\n",
      "- Lower transition bandwidth: 1.00 Hz (-6 dB cutoff frequency: 0.50 Hz)\n",
      "- Filter length: 3301 samples (3.301 s)\n",
      "\n"
     ]
    },
    {
     "name": "stderr",
     "output_type": "stream",
     "text": [
      "[Parallel(n_jobs=1)]: Done  17 tasks      | elapsed:    0.5s\n"
     ]
    },
    {
     "name": "stdout",
     "output_type": "stream",
     "text": [
      "Bad channels: ['P7', 'FC6', 'F7', 'C5', 'M1', 'T7', 'C2', 'C6', 'CP3', 'CP4', 'F11', 'TP7', 'C4', 'CP5', 'F6']\n",
      "Setting channel interpolation method to {'eeg': 'spline'}.\n",
      "Interpolating bad channels.\n",
      "    Automatic origin fit: head of radius 76.1 mm\n",
      "Computing interpolation matrix from 49 sensor positions\n",
      "Interpolating 15 sensors\n",
      "Subject: 022\n",
      "Number of remaining channels:  66\n",
      "Dropped channels:  []\n",
      "Saved preprocessed_raw to /home/wanglab/Documents/George_Kenefati_6.20.24-Present/High-Pain-Cross-Study-EEG/data/preprocessed/022_preprocessed_raw.pkl.\n"
     ]
    },
    {
     "name": "stderr",
     "output_type": "stream",
     "text": [
      "/home/wanglab/Documents/George_Kenefati_6.20.24-Present/High-Pain-Cross-Study-EEG/src/preprocessing/classes.py:181: RuntimeWarning: Encountered data in 'int' format. Converting to float32.\n",
      "  data_object.export(save_file_path, overwrite=overwrite)\n"
     ]
    },
    {
     "name": "stdout",
     "output_type": "stream",
     "text": [
      "Saved preprocessed_raw to /home/wanglab/Documents/George_Kenefati_6.20.24-Present/High-Pain-Cross-Study-EEG/data/preprocessed/022_preprocessed_raw.vhdr.\n",
      "Not setting metadata\n",
      "56 matching events found\n",
      "No baseline correction applied\n",
      "Using data from preloaded Raw for 56 events and 1801 original time points ...\n",
      "56 bad epochs dropped\n"
     ]
    },
    {
     "name": "stderr",
     "output_type": "stream",
     "text": [
      "/home/wanglab/Documents/George_Kenefati_6.20.24-Present/High-Pain-Cross-Study-EEG/src/preprocessing/utils_epo.py:607: RuntimeWarning: All epochs were dropped!\n",
      "You might need to alter reject/flat-criteria or drop bad channels to avoid this. You can use Epochs.plot_drop_log() to see which channels are responsible for the dropping of epochs.\n",
      "  epochs = mne.Epochs(\n",
      "/home/wanglab/Documents/George_Kenefati_6.20.24-Present/High-Pain-Cross-Study-EEG/src/preprocessing/utils_epo.py:337: RuntimeWarning: epochs._get_data() can't run because this Epochs-object is empty. You might want to check Epochs.drop_log or Epochs.plot_drop_log() to see why epochs were dropped.\n",
      "  epochs_data = epochs.get_data(copy=False)\n",
      "/home/wanglab/Documents/George_Kenefati_6.20.24-Present/High-Pain-Cross-Study-EEG/src/preprocessing/utils_epo.py:338: RuntimeWarning: Mean of empty slice.\n",
      "  zscores = (epochs_data - epochs_data.mean(axis=0)) / epochs_data.std(axis=0)\n",
      "/home/wanglab/mambaforge/envs/highpaineeg/lib/python3.11/site-packages/numpy/core/_methods.py:121: RuntimeWarning: invalid value encountered in divide\n",
      "  ret = um.true_divide(\n",
      "/home/wanglab/mambaforge/envs/highpaineeg/lib/python3.11/site-packages/numpy/core/_methods.py:206: RuntimeWarning: Degrees of freedom <= 0 for slice\n",
      "  ret = _var(a, axis=axis, dtype=dtype, out=out, ddof=ddof,\n",
      "/home/wanglab/mambaforge/envs/highpaineeg/lib/python3.11/site-packages/numpy/core/_methods.py:163: RuntimeWarning: invalid value encountered in divide\n",
      "  arrmean = um.true_divide(arrmean, div, out=arrmean,\n",
      "/home/wanglab/mambaforge/envs/highpaineeg/lib/python3.11/site-packages/numpy/core/_methods.py:195: RuntimeWarning: invalid value encountered in divide\n",
      "  ret = um.true_divide(\n"
     ]
    },
    {
     "ename": "ValueError",
     "evalue": "No matching events found for hand_high_stim (event id 3)",
     "output_type": "error",
     "traceback": [
      "\u001b[0;31m---------------------------------------------------------------------------\u001b[0m",
      "\u001b[0;31mValueError\u001b[0m                                Traceback (most recent call last)",
      "Cell \u001b[0;32mIn[6], line 12\u001b[0m\n\u001b[1;32m      9\u001b[0m subject\u001b[38;5;241m.\u001b[39mload_epochs_info()\n\u001b[1;32m     11\u001b[0m \u001b[38;5;66;03m# Create epochs from events\u001b[39;00m\n\u001b[0;32m---> 12\u001b[0m subject\u001b[38;5;241m.\u001b[39mepochs \u001b[38;5;241m=\u001b[39m \u001b[43mpre_utils_epo\u001b[49m\u001b[38;5;241;43m.\u001b[39;49m\u001b[43mcreate_epochs_from_events\u001b[49m\u001b[43m(\u001b[49m\n\u001b[1;32m     13\u001b[0m \u001b[43m    \u001b[49m\u001b[43msubject\u001b[49m\u001b[38;5;241;43m.\u001b[39;49m\u001b[43mpreprocessed_raw\u001b[49m\u001b[43m,\u001b[49m\u001b[43m \u001b[49m\n\u001b[1;32m     14\u001b[0m \u001b[43m    \u001b[49m\u001b[43msub_id\u001b[49m\u001b[43m,\u001b[49m\u001b[43m \u001b[49m\n\u001b[1;32m     15\u001b[0m \u001b[43m    \u001b[49m\u001b[43msubject\u001b[49m\u001b[38;5;241;43m.\u001b[39;49m\u001b[43mevents\u001b[49m\u001b[43m,\u001b[49m\u001b[43m \u001b[49m\n\u001b[1;32m     16\u001b[0m \u001b[43m    \u001b[49m\u001b[43mevent_id\u001b[49m\u001b[43m,\u001b[49m\u001b[43m \u001b[49m\n\u001b[1;32m     17\u001b[0m \u001b[43m    \u001b[49m\u001b[43mtmin\u001b[49m\u001b[43m,\u001b[49m\u001b[43m \u001b[49m\n\u001b[1;32m     18\u001b[0m \u001b[43m    \u001b[49m\u001b[43mtmax\u001b[49m\u001b[43m)\u001b[49m\n\u001b[1;32m     20\u001b[0m \u001b[38;5;66;03m# Reject and update epochs using AutoReject\u001b[39;00m\n\u001b[1;32m     21\u001b[0m subject\u001b[38;5;241m.\u001b[39mreject_and_update_epochs()\n",
      "File \u001b[0;32m~/Documents/George_Kenefati_6.20.24-Present/High-Pain-Cross-Study-EEG/src/preprocessing/utils_epo.py:620\u001b[0m, in \u001b[0;36mcreate_epochs_from_events\u001b[0;34m(preprocessed_raw, subject_id, events, event_id, tmin, tmax)\u001b[0m\n\u001b[1;32m    607\u001b[0m epochs \u001b[38;5;241m=\u001b[39m mne\u001b[38;5;241m.\u001b[39mEpochs(\n\u001b[1;32m    608\u001b[0m     preprocessed_raw,\n\u001b[1;32m    609\u001b[0m     events\u001b[38;5;241m=\u001b[39mevents,\n\u001b[0;32m   (...)\u001b[0m\n\u001b[1;32m    616\u001b[0m     event_repeated\u001b[38;5;241m=\u001b[39m\u001b[38;5;124m\"\u001b[39m\u001b[38;5;124mmerge\u001b[39m\u001b[38;5;124m\"\u001b[39m,\n\u001b[1;32m    617\u001b[0m )\n\u001b[1;32m    619\u001b[0m \u001b[38;5;66;03m# Z-score epochs\u001b[39;00m\n\u001b[0;32m--> 620\u001b[0m epochs \u001b[38;5;241m=\u001b[39m \u001b[43mzscore_epochs\u001b[49m\u001b[43m(\u001b[49m\u001b[43mepochs\u001b[49m\u001b[43m)\u001b[49m\n\u001b[1;32m    622\u001b[0m \u001b[38;5;28;01mreturn\u001b[39;00m epochs\n",
      "File \u001b[0;32m~/Documents/George_Kenefati_6.20.24-Present/High-Pain-Cross-Study-EEG/src/preprocessing/utils_epo.py:340\u001b[0m, in \u001b[0;36mzscore_epochs\u001b[0;34m(epochs)\u001b[0m\n\u001b[1;32m    338\u001b[0m zscores \u001b[38;5;241m=\u001b[39m (epochs_data \u001b[38;5;241m-\u001b[39m epochs_data\u001b[38;5;241m.\u001b[39mmean(axis\u001b[38;5;241m=\u001b[39m\u001b[38;5;241m0\u001b[39m)) \u001b[38;5;241m/\u001b[39m epochs_data\u001b[38;5;241m.\u001b[39mstd(axis\u001b[38;5;241m=\u001b[39m\u001b[38;5;241m0\u001b[39m)\n\u001b[1;32m    339\u001b[0m info \u001b[38;5;241m=\u001b[39m epochs\u001b[38;5;241m.\u001b[39minfo\n\u001b[0;32m--> 340\u001b[0m zscored_epochs \u001b[38;5;241m=\u001b[39m \u001b[43mmne\u001b[49m\u001b[38;5;241;43m.\u001b[39;49m\u001b[43mEpochsArray\u001b[49m\u001b[43m(\u001b[49m\n\u001b[1;32m    341\u001b[0m \u001b[43m    \u001b[49m\u001b[43mdata\u001b[49m\u001b[38;5;241;43m=\u001b[39;49m\u001b[43mzscores\u001b[49m\u001b[43m,\u001b[49m\n\u001b[1;32m    342\u001b[0m \u001b[43m    \u001b[49m\u001b[43minfo\u001b[49m\u001b[38;5;241;43m=\u001b[39;49m\u001b[43minfo\u001b[49m\u001b[43m,\u001b[49m\n\u001b[1;32m    343\u001b[0m \u001b[43m    \u001b[49m\u001b[43mevents\u001b[49m\u001b[38;5;241;43m=\u001b[39;49m\u001b[43mepochs\u001b[49m\u001b[38;5;241;43m.\u001b[39;49m\u001b[43mevents\u001b[49m\u001b[43m,\u001b[49m\n\u001b[1;32m    344\u001b[0m \u001b[43m    \u001b[49m\u001b[43mtmin\u001b[49m\u001b[38;5;241;43m=\u001b[39;49m\u001b[43mepochs\u001b[49m\u001b[38;5;241;43m.\u001b[39;49m\u001b[43mtmin\u001b[49m\u001b[43m,\u001b[49m\n\u001b[1;32m    345\u001b[0m \u001b[43m    \u001b[49m\u001b[43mevent_id\u001b[49m\u001b[38;5;241;43m=\u001b[39;49m\u001b[43mepochs\u001b[49m\u001b[38;5;241;43m.\u001b[39;49m\u001b[43mevent_id\u001b[49m\u001b[43m,\u001b[49m\n\u001b[1;32m    346\u001b[0m \u001b[43m    \u001b[49m\u001b[43mproj\u001b[49m\u001b[38;5;241;43m=\u001b[39;49m\u001b[38;5;28;43;01mFalse\u001b[39;49;00m\u001b[43m,\u001b[49m\n\u001b[1;32m    347\u001b[0m \u001b[43m    \u001b[49m\u001b[43mbaseline\u001b[49m\u001b[38;5;241;43m=\u001b[39;49m\u001b[38;5;28;43;01mNone\u001b[39;49;00m\u001b[43m,\u001b[49m\n\u001b[1;32m    348\u001b[0m \u001b[43m\u001b[49m\u001b[43m)\u001b[49m\n\u001b[1;32m    349\u001b[0m \u001b[38;5;28;01mreturn\u001b[39;00m zscored_epochs\n",
      "File \u001b[0;32m<decorator-gen-228>:12\u001b[0m, in \u001b[0;36m__init__\u001b[0;34m(self, data, info, events, tmin, event_id, reject, flat, reject_tmin, reject_tmax, baseline, proj, on_missing, metadata, selection, drop_log, raw_sfreq, verbose)\u001b[0m\n",
      "File \u001b[0;32m~/mambaforge/envs/highpaineeg/lib/python3.11/site-packages/mne/epochs.py:3742\u001b[0m, in \u001b[0;36mEpochsArray.__init__\u001b[0;34m(self, data, info, events, tmin, event_id, reject, flat, reject_tmin, reject_tmax, baseline, proj, on_missing, metadata, selection, drop_log, raw_sfreq, verbose)\u001b[0m\n\u001b[1;32m   3739\u001b[0m info \u001b[38;5;241m=\u001b[39m info\u001b[38;5;241m.\u001b[39mcopy()  \u001b[38;5;66;03m# do not modify original info\u001b[39;00m\n\u001b[1;32m   3740\u001b[0m tmax \u001b[38;5;241m=\u001b[39m (data\u001b[38;5;241m.\u001b[39mshape[\u001b[38;5;241m2\u001b[39m] \u001b[38;5;241m-\u001b[39m \u001b[38;5;241m1\u001b[39m) \u001b[38;5;241m/\u001b[39m info[\u001b[38;5;124m\"\u001b[39m\u001b[38;5;124msfreq\u001b[39m\u001b[38;5;124m\"\u001b[39m] \u001b[38;5;241m+\u001b[39m tmin\n\u001b[0;32m-> 3742\u001b[0m \u001b[38;5;28;43msuper\u001b[39;49m\u001b[43m(\u001b[49m\u001b[43m)\u001b[49m\u001b[38;5;241;43m.\u001b[39;49m\u001b[38;5;21;43m__init__\u001b[39;49m\u001b[43m(\u001b[49m\n\u001b[1;32m   3743\u001b[0m \u001b[43m    \u001b[49m\u001b[43minfo\u001b[49m\u001b[43m,\u001b[49m\n\u001b[1;32m   3744\u001b[0m \u001b[43m    \u001b[49m\u001b[43mdata\u001b[49m\u001b[43m,\u001b[49m\n\u001b[1;32m   3745\u001b[0m \u001b[43m    \u001b[49m\u001b[43mevents\u001b[49m\u001b[43m,\u001b[49m\n\u001b[1;32m   3746\u001b[0m \u001b[43m    \u001b[49m\u001b[43mevent_id\u001b[49m\u001b[43m,\u001b[49m\n\u001b[1;32m   3747\u001b[0m \u001b[43m    \u001b[49m\u001b[43mtmin\u001b[49m\u001b[43m,\u001b[49m\n\u001b[1;32m   3748\u001b[0m \u001b[43m    \u001b[49m\u001b[43mtmax\u001b[49m\u001b[43m,\u001b[49m\n\u001b[1;32m   3749\u001b[0m \u001b[43m    \u001b[49m\u001b[43mbaseline\u001b[49m\u001b[43m,\u001b[49m\n\u001b[1;32m   3750\u001b[0m \u001b[43m    \u001b[49m\u001b[43mreject\u001b[49m\u001b[38;5;241;43m=\u001b[39;49m\u001b[43mreject\u001b[49m\u001b[43m,\u001b[49m\n\u001b[1;32m   3751\u001b[0m \u001b[43m    \u001b[49m\u001b[43mflat\u001b[49m\u001b[38;5;241;43m=\u001b[39;49m\u001b[43mflat\u001b[49m\u001b[43m,\u001b[49m\n\u001b[1;32m   3752\u001b[0m \u001b[43m    \u001b[49m\u001b[43mreject_tmin\u001b[49m\u001b[38;5;241;43m=\u001b[39;49m\u001b[43mreject_tmin\u001b[49m\u001b[43m,\u001b[49m\n\u001b[1;32m   3753\u001b[0m \u001b[43m    \u001b[49m\u001b[43mreject_tmax\u001b[49m\u001b[38;5;241;43m=\u001b[39;49m\u001b[43mreject_tmax\u001b[49m\u001b[43m,\u001b[49m\n\u001b[1;32m   3754\u001b[0m \u001b[43m    \u001b[49m\u001b[43mdecim\u001b[49m\u001b[38;5;241;43m=\u001b[39;49m\u001b[38;5;241;43m1\u001b[39;49m\u001b[43m,\u001b[49m\n\u001b[1;32m   3755\u001b[0m \u001b[43m    \u001b[49m\u001b[43mmetadata\u001b[49m\u001b[38;5;241;43m=\u001b[39;49m\u001b[43mmetadata\u001b[49m\u001b[43m,\u001b[49m\n\u001b[1;32m   3756\u001b[0m \u001b[43m    \u001b[49m\u001b[43mselection\u001b[49m\u001b[38;5;241;43m=\u001b[39;49m\u001b[43mselection\u001b[49m\u001b[43m,\u001b[49m\n\u001b[1;32m   3757\u001b[0m \u001b[43m    \u001b[49m\u001b[43mproj\u001b[49m\u001b[38;5;241;43m=\u001b[39;49m\u001b[43mproj\u001b[49m\u001b[43m,\u001b[49m\n\u001b[1;32m   3758\u001b[0m \u001b[43m    \u001b[49m\u001b[43mon_missing\u001b[49m\u001b[38;5;241;43m=\u001b[39;49m\u001b[43mon_missing\u001b[49m\u001b[43m,\u001b[49m\n\u001b[1;32m   3759\u001b[0m \u001b[43m    \u001b[49m\u001b[43mdrop_log\u001b[49m\u001b[38;5;241;43m=\u001b[39;49m\u001b[43mdrop_log\u001b[49m\u001b[43m,\u001b[49m\n\u001b[1;32m   3760\u001b[0m \u001b[43m    \u001b[49m\u001b[43mraw_sfreq\u001b[49m\u001b[38;5;241;43m=\u001b[39;49m\u001b[43mraw_sfreq\u001b[49m\u001b[43m,\u001b[49m\n\u001b[1;32m   3761\u001b[0m \u001b[43m    \u001b[49m\u001b[43mverbose\u001b[49m\u001b[38;5;241;43m=\u001b[39;49m\u001b[43mverbose\u001b[49m\u001b[43m,\u001b[49m\n\u001b[1;32m   3762\u001b[0m \u001b[43m\u001b[49m\u001b[43m)\u001b[49m\n\u001b[1;32m   3763\u001b[0m \u001b[38;5;28;01mif\u001b[39;00m \u001b[38;5;28mself\u001b[39m\u001b[38;5;241m.\u001b[39mbaseline \u001b[38;5;129;01mis\u001b[39;00m \u001b[38;5;129;01mnot\u001b[39;00m \u001b[38;5;28;01mNone\u001b[39;00m:\n\u001b[1;32m   3764\u001b[0m     \u001b[38;5;28mself\u001b[39m\u001b[38;5;241m.\u001b[39m_do_baseline \u001b[38;5;241m=\u001b[39m \u001b[38;5;28;01mTrue\u001b[39;00m\n",
      "File \u001b[0;32m<decorator-gen-210>:12\u001b[0m, in \u001b[0;36m__init__\u001b[0;34m(self, info, data, events, event_id, tmin, tmax, baseline, raw, picks, reject, flat, decim, reject_tmin, reject_tmax, detrend, proj, on_missing, preload_at_end, selection, drop_log, filename, metadata, event_repeated, raw_sfreq, annotations, verbose)\u001b[0m\n",
      "File \u001b[0;32m~/mambaforge/envs/highpaineeg/lib/python3.11/site-packages/mne/epochs.py:496\u001b[0m, in \u001b[0;36mBaseEpochs.__init__\u001b[0;34m(***failed resolving arguments***)\u001b[0m\n\u001b[1;32m    494\u001b[0m     \u001b[38;5;28;01mif\u001b[39;00m val \u001b[38;5;129;01mnot\u001b[39;00m \u001b[38;5;129;01min\u001b[39;00m events[:, \u001b[38;5;241m2\u001b[39m]:\n\u001b[1;32m    495\u001b[0m         msg \u001b[38;5;241m=\u001b[39m \u001b[38;5;124mf\u001b[39m\u001b[38;5;124m\"\u001b[39m\u001b[38;5;124mNo matching events found for \u001b[39m\u001b[38;5;132;01m{\u001b[39;00mkey\u001b[38;5;132;01m}\u001b[39;00m\u001b[38;5;124m (event id \u001b[39m\u001b[38;5;132;01m{\u001b[39;00mval\u001b[38;5;132;01m}\u001b[39;00m\u001b[38;5;124m)\u001b[39m\u001b[38;5;124m\"\u001b[39m\n\u001b[0;32m--> 496\u001b[0m         \u001b[43m_on_missing\u001b[49m\u001b[43m(\u001b[49m\u001b[43mon_missing\u001b[49m\u001b[43m,\u001b[49m\u001b[43m \u001b[49m\u001b[43mmsg\u001b[49m\u001b[43m)\u001b[49m\n\u001b[1;32m    498\u001b[0m \u001b[38;5;66;03m# ensure metadata matches original events size\u001b[39;00m\n\u001b[1;32m    499\u001b[0m \u001b[38;5;28mself\u001b[39m\u001b[38;5;241m.\u001b[39mselection \u001b[38;5;241m=\u001b[39m np\u001b[38;5;241m.\u001b[39marange(\u001b[38;5;28mlen\u001b[39m(events))\n",
      "File \u001b[0;32m~/mambaforge/envs/highpaineeg/lib/python3.11/site-packages/mne/utils/check.py:1190\u001b[0m, in \u001b[0;36m_on_missing\u001b[0;34m(on_missing, msg, name, error_klass)\u001b[0m\n\u001b[1;32m   1188\u001b[0m on_missing \u001b[38;5;241m=\u001b[39m \u001b[38;5;124m\"\u001b[39m\u001b[38;5;124mwarn\u001b[39m\u001b[38;5;124m\"\u001b[39m \u001b[38;5;28;01mif\u001b[39;00m on_missing \u001b[38;5;241m==\u001b[39m \u001b[38;5;124m\"\u001b[39m\u001b[38;5;124mwarning\u001b[39m\u001b[38;5;124m\"\u001b[39m \u001b[38;5;28;01melse\u001b[39;00m on_missing\n\u001b[1;32m   1189\u001b[0m \u001b[38;5;28;01mif\u001b[39;00m on_missing \u001b[38;5;241m==\u001b[39m \u001b[38;5;124m\"\u001b[39m\u001b[38;5;124mraise\u001b[39m\u001b[38;5;124m\"\u001b[39m:\n\u001b[0;32m-> 1190\u001b[0m     \u001b[38;5;28;01mraise\u001b[39;00m error_klass(msg)\n\u001b[1;32m   1191\u001b[0m \u001b[38;5;28;01melif\u001b[39;00m on_missing \u001b[38;5;241m==\u001b[39m \u001b[38;5;124m\"\u001b[39m\u001b[38;5;124mwarn\u001b[39m\u001b[38;5;124m\"\u001b[39m:\n\u001b[1;32m   1192\u001b[0m     warn(msg)\n",
      "\u001b[0;31mValueError\u001b[0m: No matching events found for hand_high_stim (event id 3)"
     ]
    }
   ],
   "source": [
    "for group in sub_ids:\n",
    "    for sub_id in sub_ids[group]:\n",
    "        subject = Subject(sub_id, group)\n",
    "        \n",
    "        subject.preprocess()\n",
    "        \n",
    "        if not subject.file_exists(\"epochs_concatenated\", \"vhdr\"):\n",
    "            # Load epochs info\n",
    "            subject.load_epochs_info()\n",
    "\n",
    "            # Create epochs from events\n",
    "            subject.epochs = pre_utils_epo.create_epochs_from_events(\n",
    "                subject.preprocessed_raw, \n",
    "                sub_id, \n",
    "                subject.events, \n",
    "                event_id, \n",
    "                tmin, \n",
    "                tmax)\n",
    "            \n",
    "            # Reject and update epochs using AutoReject\n",
    "            subject.reject_and_update_epochs()\n",
    "\n",
    "            # Save\n",
    "            subject.save(subject.epochs, \"epochs\")\n",
    "            subject.save(subject.epochs.get_data(), \"epochs\", as_mat=True)\n",
    "            \n",
    "            # Concatenate epochs into VHDR for visualization\n",
    "            subject.concatenate_epochs(save=True, overwrite=True)"
   ]
  },
  {
   "cell_type": "code",
   "execution_count": null,
   "metadata": {},
   "outputs": [],
   "source": []
  }
 ],
 "metadata": {
  "kernelspec": {
   "display_name": "Python 3",
   "language": "python",
   "name": "python3"
  },
  "language_info": {
   "codemirror_mode": {
    "name": "ipython",
    "version": 3
   },
   "file_extension": ".py",
   "mimetype": "text/x-python",
   "name": "python",
   "nbconvert_exporter": "python",
   "pygments_lexer": "ipython3",
   "version": "3.11.9"
  }
 },
 "nbformat": 4,
 "nbformat_minor": 2
}

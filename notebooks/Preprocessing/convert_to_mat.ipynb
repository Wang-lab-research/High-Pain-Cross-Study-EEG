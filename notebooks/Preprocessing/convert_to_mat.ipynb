{
 "cells": [
  {
   "cell_type": "markdown",
   "metadata": {},
   "source": [
    "# Convert CLBP data to MAT"
   ]
  },
  {
   "cell_type": "code",
   "execution_count": 2,
   "metadata": {},
   "outputs": [
    {
     "name": "stdout",
     "output_type": "stream",
     "text": [
      "[-2.5,0.0,2.5]\n",
      "Total subjects: 43\n",
      "{'chronic_low_back_pain': ['018', '022', '024', '031', '032', '034', '036', '039', '040', '045', '046', '052', '020', '021', '023', '029', '037', '041', '042', '044', '048', '049', '050', '056', 'C10', 'C11', 'C12', 'C13', 'C14', 'C15', 'C16', 'C17', 'C18', 'C19', 'C2.', 'C24', 'C25', 'C26', 'C27', 'C3.', 'C6.', 'C7.', 'C9.']}\n",
      "Reading /home/wanglab/Documents/George_Kenefati_6.20.24-Present/High-Pain-Cross-Study-EEG/notebooks/Preprocessing/../../../../George Kenefati/Chronic Low Back Pain Study/Data/Processed Data/018_preprocessed-epo.fif ...\n",
      "    Found the data of interest:\n",
      "        t =   -2500.00 ...    2500.00 ms\n",
      "        0 CTF compensation matrices available\n",
      "Not setting metadata\n",
      "73 matching events found\n",
      "No baseline correction applied\n",
      "0 projection items activated\n",
      "<EpochsFIF |  73 events (all good), -2.5 – 2.5 s, baseline -2.5 – 0 s, ~71.4 MB, data loaded,\n",
      " 'Hand HS': 20\n",
      " 'Hand NS': 19\n",
      " 'Back HS': 17\n",
      " 'Back NS': 17>\n"
     ]
    },
    {
     "name": "stderr",
     "output_type": "stream",
     "text": [
      "/home/wanglab/Documents/George_Kenefati_6.20.24-Present/High-Pain-Cross-Study-EEG/src/preprocessing/classes.py:69: FutureWarning: The current default of copy=False will change to copy=True in 1.7. Set the value of copy explicitly to avoid this warning\n",
      "  self.epochs.data = self.epochs.get_data()\n"
     ]
    },
    {
     "name": "stdout",
     "output_type": "stream",
     "text": [
      "Reading /home/wanglab/Documents/George_Kenefati_6.20.24-Present/High-Pain-Cross-Study-EEG/notebooks/Preprocessing/../../../../George Kenefati/Chronic Low Back Pain Study/Data/Processed Data/022_preprocessed-epo.fif ...\n",
      "    Found the data of interest:\n",
      "        t =   -2500.00 ...    2500.00 ms\n",
      "        0 CTF compensation matrices available\n",
      "Not setting metadata\n",
      "56 matching events found\n",
      "No baseline correction applied\n",
      "0 projection items activated\n",
      "<EpochsFIF |  56 events (all good), -2.5 – 2.5 s, baseline -2.5 – 0 s, ~54.8 MB, data loaded,\n",
      " 'Hand HS': 10\n",
      " 'Hand LS': 10\n",
      " 'Hand NS': 10\n",
      " 'Back HS': 7\n",
      " 'Back LS': 9\n",
      " 'Back NS': 10>\n"
     ]
    },
    {
     "name": "stderr",
     "output_type": "stream",
     "text": [
      "/home/wanglab/Documents/George_Kenefati_6.20.24-Present/High-Pain-Cross-Study-EEG/src/preprocessing/classes.py:69: FutureWarning: The current default of copy=False will change to copy=True in 1.7. Set the value of copy explicitly to avoid this warning\n",
      "  self.epochs.data = self.epochs.get_data()\n"
     ]
    },
    {
     "name": "stdout",
     "output_type": "stream",
     "text": [
      "Reading /home/wanglab/Documents/George_Kenefati_6.20.24-Present/High-Pain-Cross-Study-EEG/notebooks/Preprocessing/../../../../George Kenefati/Chronic Low Back Pain Study/Data/Processed Data/024_preprocessed-epo.fif ...\n",
      "    Found the data of interest:\n",
      "        t =   -2500.00 ...    2500.00 ms\n",
      "        0 CTF compensation matrices available\n",
      "Not setting metadata\n",
      "60 matching events found\n",
      "No baseline correction applied\n",
      "0 projection items activated\n",
      "<EpochsFIF |  60 events (all good), -2.5 – 2.5 s, baseline -2.5 – 0 s, ~58.7 MB, data loaded,\n",
      " 'Hand HS': 10\n",
      " 'Hand LS': 10\n",
      " 'Hand NS': 10\n",
      " 'Back HS': 10\n",
      " 'Back LS': 10\n",
      " 'Back NS': 10>\n"
     ]
    },
    {
     "name": "stderr",
     "output_type": "stream",
     "text": [
      "/home/wanglab/Documents/George_Kenefati_6.20.24-Present/High-Pain-Cross-Study-EEG/src/preprocessing/classes.py:69: FutureWarning: The current default of copy=False will change to copy=True in 1.7. Set the value of copy explicitly to avoid this warning\n",
      "  self.epochs.data = self.epochs.get_data()\n"
     ]
    },
    {
     "name": "stdout",
     "output_type": "stream",
     "text": [
      "Reading /home/wanglab/Documents/George_Kenefati_6.20.24-Present/High-Pain-Cross-Study-EEG/notebooks/Preprocessing/../../../../George Kenefati/Chronic Low Back Pain Study/Data/Processed Data/031_preprocessed-epo.fif ...\n",
      "    Found the data of interest:\n",
      "        t =   -2500.00 ...    2500.00 ms\n",
      "        0 CTF compensation matrices available\n",
      "Not setting metadata\n",
      "60 matching events found\n",
      "No baseline correction applied\n",
      "0 projection items activated\n",
      "<EpochsFIF |  60 events (all good), -2.5 – 2.5 s, baseline -2.5 – 0 s, ~58.7 MB, data loaded,\n",
      " 'Hand HS': 10\n",
      " 'Hand LS': 10\n",
      " 'Hand NS': 10\n",
      " 'Back HS': 10\n",
      " 'Back LS': 10\n",
      " 'Back NS': 10>\n"
     ]
    },
    {
     "name": "stderr",
     "output_type": "stream",
     "text": [
      "/home/wanglab/Documents/George_Kenefati_6.20.24-Present/High-Pain-Cross-Study-EEG/src/preprocessing/classes.py:69: FutureWarning: The current default of copy=False will change to copy=True in 1.7. Set the value of copy explicitly to avoid this warning\n",
      "  self.epochs.data = self.epochs.get_data()\n"
     ]
    },
    {
     "name": "stdout",
     "output_type": "stream",
     "text": [
      "Reading /home/wanglab/Documents/George_Kenefati_6.20.24-Present/High-Pain-Cross-Study-EEG/notebooks/Preprocessing/../../../../George Kenefati/Chronic Low Back Pain Study/Data/Processed Data/032_preprocessed-epo.fif ...\n",
      "    Found the data of interest:\n",
      "        t =   -2500.00 ...    2500.00 ms\n",
      "        0 CTF compensation matrices available\n",
      "Not setting metadata\n",
      "41 matching events found\n",
      "No baseline correction applied\n",
      "0 projection items activated\n",
      "<EpochsFIF |  41 events (all good), -2.5 – 2.5 s, baseline -2.5 – 0 s, ~40.1 MB, data loaded,\n",
      " 'Hand HS': 7\n",
      " 'Hand LS': 6\n",
      " 'Hand NS': 4\n",
      " 'Back HS': 7\n",
      " 'Back LS': 9\n",
      " 'Back NS': 8>\n"
     ]
    },
    {
     "name": "stderr",
     "output_type": "stream",
     "text": [
      "/home/wanglab/Documents/George_Kenefati_6.20.24-Present/High-Pain-Cross-Study-EEG/src/preprocessing/classes.py:69: FutureWarning: The current default of copy=False will change to copy=True in 1.7. Set the value of copy explicitly to avoid this warning\n",
      "  self.epochs.data = self.epochs.get_data()\n"
     ]
    },
    {
     "name": "stdout",
     "output_type": "stream",
     "text": [
      "Reading /home/wanglab/Documents/George_Kenefati_6.20.24-Present/High-Pain-Cross-Study-EEG/notebooks/Preprocessing/../../../../George Kenefati/Chronic Low Back Pain Study/Data/Processed Data/034_preprocessed-epo.fif ...\n",
      "    Found the data of interest:\n",
      "        t =   -2500.00 ...    2500.00 ms\n",
      "        0 CTF compensation matrices available\n",
      "Not setting metadata\n",
      "60 matching events found\n",
      "No baseline correction applied\n",
      "0 projection items activated\n",
      "<EpochsFIF |  60 events (all good), -2.5 – 2.5 s, baseline -2.5 – 0 s, ~58.7 MB, data loaded,\n",
      " 'Hand HS': 10\n",
      " 'Hand LS': 10\n",
      " 'Hand NS': 10\n",
      " 'Back HS': 10\n",
      " 'Back LS': 10\n",
      " 'Back NS': 10>\n"
     ]
    },
    {
     "name": "stderr",
     "output_type": "stream",
     "text": [
      "/home/wanglab/Documents/George_Kenefati_6.20.24-Present/High-Pain-Cross-Study-EEG/src/preprocessing/classes.py:69: FutureWarning: The current default of copy=False will change to copy=True in 1.7. Set the value of copy explicitly to avoid this warning\n",
      "  self.epochs.data = self.epochs.get_data()\n"
     ]
    },
    {
     "name": "stdout",
     "output_type": "stream",
     "text": [
      "Reading /home/wanglab/Documents/George_Kenefati_6.20.24-Present/High-Pain-Cross-Study-EEG/notebooks/Preprocessing/../../../../George Kenefati/Chronic Low Back Pain Study/Data/Processed Data/036_preprocessed-epo.fif ...\n",
      "    Found the data of interest:\n",
      "        t =   -2500.00 ...    2500.00 ms\n",
      "        0 CTF compensation matrices available\n",
      "Not setting metadata\n",
      "57 matching events found\n",
      "No baseline correction applied\n",
      "0 projection items activated\n",
      "<EpochsFIF |  57 events (all good), -2.5 – 2.5 s, baseline -2.5 – 0 s, ~55.8 MB, data loaded,\n",
      " 'Hand HS': 10\n",
      " 'Hand LS': 10\n",
      " 'Hand NS': 10\n",
      " 'Back HS': 9\n",
      " 'Back LS': 8\n",
      " 'Back NS': 10>\n"
     ]
    },
    {
     "name": "stderr",
     "output_type": "stream",
     "text": [
      "/home/wanglab/Documents/George_Kenefati_6.20.24-Present/High-Pain-Cross-Study-EEG/src/preprocessing/classes.py:69: FutureWarning: The current default of copy=False will change to copy=True in 1.7. Set the value of copy explicitly to avoid this warning\n",
      "  self.epochs.data = self.epochs.get_data()\n"
     ]
    },
    {
     "name": "stdout",
     "output_type": "stream",
     "text": [
      "Reading /home/wanglab/Documents/George_Kenefati_6.20.24-Present/High-Pain-Cross-Study-EEG/notebooks/Preprocessing/../../../../George Kenefati/Chronic Low Back Pain Study/Data/Processed Data/039_preprocessed-epo.fif ...\n",
      "    Found the data of interest:\n",
      "        t =   -2500.00 ...    2500.00 ms\n",
      "        0 CTF compensation matrices available\n",
      "Not setting metadata\n",
      "52 matching events found\n",
      "No baseline correction applied\n",
      "0 projection items activated\n",
      "<EpochsFIF |  52 events (all good), -2.5 – 2.5 s, baseline -2.5 – 0 s, ~50.9 MB, data loaded,\n",
      " 'Hand HS': 10\n",
      " 'Hand LS': 10\n",
      " 'Hand NS': 10\n",
      " 'Back HS': 9\n",
      " 'Back LS': 5\n",
      " 'Back NS': 8>\n"
     ]
    },
    {
     "name": "stderr",
     "output_type": "stream",
     "text": [
      "/home/wanglab/Documents/George_Kenefati_6.20.24-Present/High-Pain-Cross-Study-EEG/src/preprocessing/classes.py:69: FutureWarning: The current default of copy=False will change to copy=True in 1.7. Set the value of copy explicitly to avoid this warning\n",
      "  self.epochs.data = self.epochs.get_data()\n"
     ]
    },
    {
     "name": "stdout",
     "output_type": "stream",
     "text": [
      "Reading /home/wanglab/Documents/George_Kenefati_6.20.24-Present/High-Pain-Cross-Study-EEG/notebooks/Preprocessing/../../../../George Kenefati/Chronic Low Back Pain Study/Data/Processed Data/040_preprocessed-epo.fif ...\n",
      "    Found the data of interest:\n",
      "        t =   -2500.00 ...    2500.00 ms\n",
      "        0 CTF compensation matrices available\n",
      "Not setting metadata\n",
      "56 matching events found\n",
      "No baseline correction applied\n",
      "0 projection items activated\n",
      "<EpochsFIF |  56 events (all good), -2.5 – 2.5 s, baseline -2.5 – 0 s, ~54.8 MB, data loaded,\n",
      " 'Hand HS': 10\n",
      " 'Hand LS': 9\n",
      " 'Hand NS': 9\n",
      " 'Back HS': 9\n",
      " 'Back LS': 9\n",
      " 'Back NS': 10>\n"
     ]
    },
    {
     "name": "stderr",
     "output_type": "stream",
     "text": [
      "/home/wanglab/Documents/George_Kenefati_6.20.24-Present/High-Pain-Cross-Study-EEG/src/preprocessing/classes.py:69: FutureWarning: The current default of copy=False will change to copy=True in 1.7. Set the value of copy explicitly to avoid this warning\n",
      "  self.epochs.data = self.epochs.get_data()\n"
     ]
    },
    {
     "name": "stdout",
     "output_type": "stream",
     "text": [
      "Reading /home/wanglab/Documents/George_Kenefati_6.20.24-Present/High-Pain-Cross-Study-EEG/notebooks/Preprocessing/../../../../George Kenefati/Chronic Low Back Pain Study/Data/Processed Data/045_preprocessed-epo.fif ...\n",
      "    Found the data of interest:\n",
      "        t =   -2500.00 ...    2500.00 ms\n",
      "        0 CTF compensation matrices available\n",
      "Not setting metadata\n",
      "60 matching events found\n",
      "No baseline correction applied\n",
      "0 projection items activated\n",
      "<EpochsFIF |  60 events (all good), -2.5 – 2.5 s, baseline 0 – 0 s, ~58.7 MB, data loaded,\n",
      " '1000001': 30\n",
      " '1100001': 30>\n"
     ]
    },
    {
     "name": "stderr",
     "output_type": "stream",
     "text": [
      "/home/wanglab/Documents/George_Kenefati_6.20.24-Present/High-Pain-Cross-Study-EEG/src/preprocessing/classes.py:69: FutureWarning: The current default of copy=False will change to copy=True in 1.7. Set the value of copy explicitly to avoid this warning\n",
      "  self.epochs.data = self.epochs.get_data()\n"
     ]
    },
    {
     "name": "stdout",
     "output_type": "stream",
     "text": [
      "Reading /home/wanglab/Documents/George_Kenefati_6.20.24-Present/High-Pain-Cross-Study-EEG/notebooks/Preprocessing/../../../../George Kenefati/Chronic Low Back Pain Study/Data/Processed Data/046_preprocessed-epo.fif ...\n",
      "    Found the data of interest:\n",
      "        t =   -2500.00 ...    2500.00 ms\n",
      "        0 CTF compensation matrices available\n",
      "Not setting metadata\n",
      "59 matching events found\n",
      "No baseline correction applied\n",
      "0 projection items activated\n",
      "<EpochsFIF |  59 events (all good), -2.5 – 2.5 s, baseline 0 – 0 s, ~57.7 MB, data loaded,\n",
      " '1000001': 29\n",
      " '1100001': 30>\n"
     ]
    },
    {
     "name": "stderr",
     "output_type": "stream",
     "text": [
      "/home/wanglab/Documents/George_Kenefati_6.20.24-Present/High-Pain-Cross-Study-EEG/src/preprocessing/classes.py:69: FutureWarning: The current default of copy=False will change to copy=True in 1.7. Set the value of copy explicitly to avoid this warning\n",
      "  self.epochs.data = self.epochs.get_data()\n"
     ]
    },
    {
     "name": "stdout",
     "output_type": "stream",
     "text": [
      "Reading /home/wanglab/Documents/George_Kenefati_6.20.24-Present/High-Pain-Cross-Study-EEG/notebooks/Preprocessing/../../../../George Kenefati/Chronic Low Back Pain Study/Data/Processed Data/052_preprocessed-epo.fif ...\n",
      "    Found the data of interest:\n",
      "        t =   -2500.00 ...    2500.00 ms\n",
      "        0 CTF compensation matrices available\n",
      "Not setting metadata\n",
      "59 matching events found\n",
      "No baseline correction applied\n",
      "0 projection items activated\n",
      "<EpochsFIF |  59 events (all good), -2.5 – 2.5 s, baseline -2.5 – 0 s, ~57.7 MB, data loaded,\n",
      " 'Hand HS': 10\n",
      " 'Hand LS': 10\n",
      " 'Hand NS': 10\n",
      " 'Back HS': 10\n",
      " 'Back LS': 10\n",
      " 'Back NS': 9>\n"
     ]
    },
    {
     "name": "stderr",
     "output_type": "stream",
     "text": [
      "/home/wanglab/Documents/George_Kenefati_6.20.24-Present/High-Pain-Cross-Study-EEG/src/preprocessing/classes.py:69: FutureWarning: The current default of copy=False will change to copy=True in 1.7. Set the value of copy explicitly to avoid this warning\n",
      "  self.epochs.data = self.epochs.get_data()\n"
     ]
    },
    {
     "name": "stdout",
     "output_type": "stream",
     "text": [
      "Reading /home/wanglab/Documents/George_Kenefati_6.20.24-Present/High-Pain-Cross-Study-EEG/notebooks/Preprocessing/../../../../George Kenefati/Chronic Low Back Pain Study/Data/Processed Data/020_preprocessed-epo.fif ...\n",
      "    Found the data of interest:\n",
      "        t =   -2500.00 ...    2500.00 ms\n",
      "        0 CTF compensation matrices available\n",
      "Not setting metadata\n",
      "80 matching events found\n",
      "No baseline correction applied\n",
      "0 projection items activated\n",
      "<EpochsFIF |  80 events (all good), -2.5 – 2.5 s, baseline -2.5 – 0 s, ~78.2 MB, data loaded,\n",
      " 'Hand HS': 20\n",
      " 'Hand NS': 20\n",
      " 'Back HS': 20\n",
      " 'Back NS': 20>\n"
     ]
    },
    {
     "name": "stderr",
     "output_type": "stream",
     "text": [
      "/home/wanglab/Documents/George_Kenefati_6.20.24-Present/High-Pain-Cross-Study-EEG/src/preprocessing/classes.py:69: FutureWarning: The current default of copy=False will change to copy=True in 1.7. Set the value of copy explicitly to avoid this warning\n",
      "  self.epochs.data = self.epochs.get_data()\n"
     ]
    },
    {
     "name": "stdout",
     "output_type": "stream",
     "text": [
      "Reading /home/wanglab/Documents/George_Kenefati_6.20.24-Present/High-Pain-Cross-Study-EEG/notebooks/Preprocessing/../../../../George Kenefati/Chronic Low Back Pain Study/Data/Processed Data/021_preprocessed-epo.fif ...\n",
      "    Found the data of interest:\n",
      "        t =   -2500.00 ...    2500.00 ms\n",
      "        0 CTF compensation matrices available\n",
      "Not setting metadata\n",
      "110 matching events found\n",
      "No baseline correction applied\n",
      "0 projection items activated\n",
      "<EpochsFIF |  110 events (all good), -2.5 – 2.5 s, baseline -2.5 – 0 s, ~107.6 MB, data loaded,\n",
      " 'Hand HS': 17\n",
      " 'Hand LS': 20\n",
      " 'Hand NS': 18\n",
      " 'Back HS': 20\n",
      " 'Back LS': 17\n",
      " 'Back NS': 18>\n"
     ]
    },
    {
     "name": "stderr",
     "output_type": "stream",
     "text": [
      "/home/wanglab/Documents/George_Kenefati_6.20.24-Present/High-Pain-Cross-Study-EEG/src/preprocessing/classes.py:69: FutureWarning: The current default of copy=False will change to copy=True in 1.7. Set the value of copy explicitly to avoid this warning\n",
      "  self.epochs.data = self.epochs.get_data()\n"
     ]
    },
    {
     "name": "stdout",
     "output_type": "stream",
     "text": [
      "Reading /home/wanglab/Documents/George_Kenefati_6.20.24-Present/High-Pain-Cross-Study-EEG/notebooks/Preprocessing/../../../../George Kenefati/Chronic Low Back Pain Study/Data/Processed Data/023_preprocessed-epo.fif ...\n",
      "    Found the data of interest:\n",
      "        t =   -2500.00 ...    2500.00 ms\n",
      "        0 CTF compensation matrices available\n",
      "Not setting metadata\n",
      "55 matching events found\n",
      "No baseline correction applied\n",
      "0 projection items activated\n",
      "<EpochsFIF |  55 events (all good), -2.5 – 2.5 s, baseline -2.5 – 0 s, ~53.8 MB, data loaded,\n",
      " 'Hand HS': 10\n",
      " 'Hand LS': 10\n",
      " 'Hand NS': 9\n",
      " 'Back HS': 9\n",
      " 'Back LS': 9\n",
      " 'Back NS': 8>\n"
     ]
    },
    {
     "name": "stderr",
     "output_type": "stream",
     "text": [
      "/home/wanglab/Documents/George_Kenefati_6.20.24-Present/High-Pain-Cross-Study-EEG/src/preprocessing/classes.py:69: FutureWarning: The current default of copy=False will change to copy=True in 1.7. Set the value of copy explicitly to avoid this warning\n",
      "  self.epochs.data = self.epochs.get_data()\n"
     ]
    },
    {
     "name": "stdout",
     "output_type": "stream",
     "text": [
      "Reading /home/wanglab/Documents/George_Kenefati_6.20.24-Present/High-Pain-Cross-Study-EEG/notebooks/Preprocessing/../../../../George Kenefati/Chronic Low Back Pain Study/Data/Processed Data/029_preprocessed-epo.fif ...\n",
      "    Found the data of interest:\n",
      "        t =   -2500.00 ...    2500.00 ms\n",
      "        0 CTF compensation matrices available\n",
      "Not setting metadata\n",
      "48 matching events found\n",
      "No baseline correction applied\n",
      "0 projection items activated\n",
      "<EpochsFIF |  48 events (all good), -2.5 – 2.5 s, baseline -2.5 – 0 s, ~47.0 MB, data loaded,\n",
      " 'Hand HS': 10\n",
      " 'Hand LS': 9\n",
      " 'Hand NS': 9\n",
      " 'Back HS': 7\n",
      " 'Back LS': 6\n",
      " 'Back NS': 7>\n"
     ]
    },
    {
     "name": "stderr",
     "output_type": "stream",
     "text": [
      "/home/wanglab/Documents/George_Kenefati_6.20.24-Present/High-Pain-Cross-Study-EEG/src/preprocessing/classes.py:69: FutureWarning: The current default of copy=False will change to copy=True in 1.7. Set the value of copy explicitly to avoid this warning\n",
      "  self.epochs.data = self.epochs.get_data()\n"
     ]
    },
    {
     "name": "stdout",
     "output_type": "stream",
     "text": [
      "Reading /home/wanglab/Documents/George_Kenefati_6.20.24-Present/High-Pain-Cross-Study-EEG/notebooks/Preprocessing/../../../../George Kenefati/Chronic Low Back Pain Study/Data/Processed Data/037_preprocessed-epo.fif ...\n",
      "    Found the data of interest:\n",
      "        t =   -2500.00 ...    2500.00 ms\n",
      "        0 CTF compensation matrices available\n",
      "Not setting metadata\n",
      "43 matching events found\n",
      "No baseline correction applied\n",
      "0 projection items activated\n",
      "<EpochsFIF |  43 events (all good), -2.5 – 2.5 s, baseline -2.5 – 0 s, ~42.1 MB, data loaded,\n",
      " 'Hand HS': 6\n",
      " 'Hand LS': 7\n",
      " 'Hand NS': 9\n",
      " 'Back HS': 6\n",
      " 'Back LS': 7\n",
      " 'Back NS': 8>\n"
     ]
    },
    {
     "name": "stderr",
     "output_type": "stream",
     "text": [
      "/home/wanglab/Documents/George_Kenefati_6.20.24-Present/High-Pain-Cross-Study-EEG/src/preprocessing/classes.py:69: FutureWarning: The current default of copy=False will change to copy=True in 1.7. Set the value of copy explicitly to avoid this warning\n",
      "  self.epochs.data = self.epochs.get_data()\n"
     ]
    },
    {
     "name": "stdout",
     "output_type": "stream",
     "text": [
      "Reading /home/wanglab/Documents/George_Kenefati_6.20.24-Present/High-Pain-Cross-Study-EEG/notebooks/Preprocessing/../../../../George Kenefati/Chronic Low Back Pain Study/Data/Processed Data/041_preprocessed-epo.fif ...\n",
      "    Found the data of interest:\n",
      "        t =   -2500.00 ...    2500.00 ms\n",
      "        0 CTF compensation matrices available\n",
      "Not setting metadata\n",
      "59 matching events found\n",
      "No baseline correction applied\n",
      "0 projection items activated\n",
      "<EpochsFIF |  59 events (all good), -2.5 – 2.5 s, baseline -2.5 – 0 s, ~57.7 MB, data loaded,\n",
      " 'Hand HS': 9\n",
      " 'Hand LS': 10\n",
      " 'Hand NS': 10\n",
      " 'Back HS': 10\n",
      " 'Back LS': 10\n",
      " 'Back NS': 10>\n"
     ]
    },
    {
     "name": "stderr",
     "output_type": "stream",
     "text": [
      "/home/wanglab/Documents/George_Kenefati_6.20.24-Present/High-Pain-Cross-Study-EEG/src/preprocessing/classes.py:69: FutureWarning: The current default of copy=False will change to copy=True in 1.7. Set the value of copy explicitly to avoid this warning\n",
      "  self.epochs.data = self.epochs.get_data()\n"
     ]
    },
    {
     "name": "stdout",
     "output_type": "stream",
     "text": [
      "Reading /home/wanglab/Documents/George_Kenefati_6.20.24-Present/High-Pain-Cross-Study-EEG/notebooks/Preprocessing/../../../../George Kenefati/Chronic Low Back Pain Study/Data/Processed Data/042_preprocessed-epo.fif ...\n",
      "    Found the data of interest:\n",
      "        t =   -2500.00 ...    2500.00 ms\n",
      "        0 CTF compensation matrices available\n",
      "Not setting metadata\n",
      "68 matching events found\n",
      "No baseline correction applied\n",
      "0 projection items activated\n",
      "<EpochsFIF |  68 events (all good), -2.5 – 2.5 s, baseline -2.5 – 0 s, ~66.5 MB, data loaded,\n",
      " 'Hand HS': 15\n",
      " 'Hand LS': 15\n",
      " 'Hand NS': 10\n",
      " 'Back HS': 9\n",
      " 'Back LS': 10\n",
      " 'Back NS': 9>\n"
     ]
    },
    {
     "name": "stderr",
     "output_type": "stream",
     "text": [
      "/home/wanglab/Documents/George_Kenefati_6.20.24-Present/High-Pain-Cross-Study-EEG/src/preprocessing/classes.py:69: FutureWarning: The current default of copy=False will change to copy=True in 1.7. Set the value of copy explicitly to avoid this warning\n",
      "  self.epochs.data = self.epochs.get_data()\n"
     ]
    },
    {
     "name": "stdout",
     "output_type": "stream",
     "text": [
      "Reading /home/wanglab/Documents/George_Kenefati_6.20.24-Present/High-Pain-Cross-Study-EEG/notebooks/Preprocessing/../../../../George Kenefati/Chronic Low Back Pain Study/Data/Processed Data/044_preprocessed-epo.fif ...\n",
      "    Found the data of interest:\n",
      "        t =   -2500.00 ...    2500.00 ms\n",
      "        0 CTF compensation matrices available\n",
      "Not setting metadata\n",
      "35 matching events found\n",
      "No baseline correction applied\n",
      "0 projection items activated\n",
      "<EpochsFIF |  35 events (all good), -2.5 – 2.5 s, baseline -2.5 – 0 s, ~34.3 MB, data loaded,\n",
      " 'Hand HS': 5\n",
      " 'Hand LS': 6\n",
      " 'Hand NS': 5\n",
      " 'Back HS': 7\n",
      " 'Back LS': 5\n",
      " 'Back NS': 7>\n"
     ]
    },
    {
     "name": "stderr",
     "output_type": "stream",
     "text": [
      "/home/wanglab/Documents/George_Kenefati_6.20.24-Present/High-Pain-Cross-Study-EEG/src/preprocessing/classes.py:69: FutureWarning: The current default of copy=False will change to copy=True in 1.7. Set the value of copy explicitly to avoid this warning\n",
      "  self.epochs.data = self.epochs.get_data()\n"
     ]
    },
    {
     "name": "stdout",
     "output_type": "stream",
     "text": [
      "Reading /home/wanglab/Documents/George_Kenefati_6.20.24-Present/High-Pain-Cross-Study-EEG/notebooks/Preprocessing/../../../../George Kenefati/Chronic Low Back Pain Study/Data/Processed Data/048_preprocessed-epo.fif ...\n",
      "    Found the data of interest:\n",
      "        t =   -2500.00 ...    2500.00 ms\n",
      "        0 CTF compensation matrices available\n",
      "Not setting metadata\n",
      "60 matching events found\n",
      "No baseline correction applied\n",
      "0 projection items activated\n",
      "<EpochsFIF |  60 events (all good), -2.5 – 2.5 s, baseline -2.5 – 0 s, ~58.7 MB, data loaded,\n",
      " 'Hand HS': 10\n",
      " 'Hand LS': 10\n",
      " 'Hand NS': 10\n",
      " 'Back HS': 10\n",
      " 'Back LS': 10\n",
      " 'Back NS': 10>\n"
     ]
    },
    {
     "name": "stderr",
     "output_type": "stream",
     "text": [
      "/home/wanglab/Documents/George_Kenefati_6.20.24-Present/High-Pain-Cross-Study-EEG/src/preprocessing/classes.py:69: FutureWarning: The current default of copy=False will change to copy=True in 1.7. Set the value of copy explicitly to avoid this warning\n",
      "  self.epochs.data = self.epochs.get_data()\n"
     ]
    },
    {
     "name": "stdout",
     "output_type": "stream",
     "text": [
      "Reading /home/wanglab/Documents/George_Kenefati_6.20.24-Present/High-Pain-Cross-Study-EEG/notebooks/Preprocessing/../../../../George Kenefati/Chronic Low Back Pain Study/Data/Processed Data/049_preprocessed-epo.fif ...\n",
      "    Found the data of interest:\n",
      "        t =   -2500.00 ...    2500.00 ms\n",
      "        0 CTF compensation matrices available\n",
      "Not setting metadata\n",
      "54 matching events found\n",
      "No baseline correction applied\n",
      "0 projection items activated\n",
      "<EpochsFIF |  54 events (all good), -2.5 – 2.5 s, baseline -2.5 – 0 s, ~52.8 MB, data loaded,\n",
      " 'Hand HS': 10\n",
      " 'Hand LS': 10\n",
      " 'Hand NS': 10\n",
      " 'Back HS': 7\n",
      " 'Back LS': 8\n",
      " 'Back NS': 9>\n"
     ]
    },
    {
     "name": "stderr",
     "output_type": "stream",
     "text": [
      "/home/wanglab/Documents/George_Kenefati_6.20.24-Present/High-Pain-Cross-Study-EEG/src/preprocessing/classes.py:69: FutureWarning: The current default of copy=False will change to copy=True in 1.7. Set the value of copy explicitly to avoid this warning\n",
      "  self.epochs.data = self.epochs.get_data()\n"
     ]
    },
    {
     "name": "stdout",
     "output_type": "stream",
     "text": [
      "Reading /home/wanglab/Documents/George_Kenefati_6.20.24-Present/High-Pain-Cross-Study-EEG/notebooks/Preprocessing/../../../../George Kenefati/Chronic Low Back Pain Study/Data/Processed Data/050_preprocessed-epo.fif ...\n",
      "    Found the data of interest:\n",
      "        t =   -2500.00 ...    2500.00 ms\n",
      "        0 CTF compensation matrices available\n",
      "Not setting metadata\n",
      "58 matching events found\n",
      "No baseline correction applied\n",
      "0 projection items activated\n",
      "<EpochsFIF |  58 events (all good), -2.5 – 2.5 s, baseline -2.5 – 0 s, ~56.7 MB, data loaded,\n",
      " 'Hand HS': 10\n",
      " 'Hand LS': 10\n",
      " 'Hand NS': 10\n",
      " 'Back HS': 10\n",
      " 'Back LS': 8\n",
      " 'Back NS': 10>\n"
     ]
    },
    {
     "name": "stderr",
     "output_type": "stream",
     "text": [
      "/home/wanglab/Documents/George_Kenefati_6.20.24-Present/High-Pain-Cross-Study-EEG/src/preprocessing/classes.py:69: FutureWarning: The current default of copy=False will change to copy=True in 1.7. Set the value of copy explicitly to avoid this warning\n",
      "  self.epochs.data = self.epochs.get_data()\n"
     ]
    },
    {
     "name": "stdout",
     "output_type": "stream",
     "text": [
      "Reading /home/wanglab/Documents/George_Kenefati_6.20.24-Present/High-Pain-Cross-Study-EEG/notebooks/Preprocessing/../../../../George Kenefati/Chronic Low Back Pain Study/Data/Processed Data/056_preprocessed-epo.fif ...\n",
      "    Found the data of interest:\n",
      "        t =   -2500.00 ...    2500.00 ms\n",
      "        0 CTF compensation matrices available\n",
      "Not setting metadata\n",
      "58 matching events found\n",
      "No baseline correction applied\n",
      "0 projection items activated\n",
      "<EpochsFIF |  58 events (all good), -2.5 – 2.5 s, baseline -2.5 – 0 s, ~53.2 MB, data loaded,\n",
      " '1000001': 29\n",
      " '1100001': 28\n",
      " 'Med Pain Back': 1>\n"
     ]
    },
    {
     "name": "stderr",
     "output_type": "stream",
     "text": [
      "/home/wanglab/Documents/George_Kenefati_6.20.24-Present/High-Pain-Cross-Study-EEG/src/preprocessing/classes.py:69: FutureWarning: The current default of copy=False will change to copy=True in 1.7. Set the value of copy explicitly to avoid this warning\n",
      "  self.epochs.data = self.epochs.get_data()\n"
     ]
    },
    {
     "name": "stdout",
     "output_type": "stream",
     "text": [
      "Reading /home/wanglab/Documents/George_Kenefati_6.20.24-Present/High-Pain-Cross-Study-EEG/notebooks/Preprocessing/../../../../George Kenefati/Chronic Low Back Pain Study/Data/Processed Data/C10_preprocessed-epo.fif ...\n",
      "    Found the data of interest:\n",
      "        t =   -2500.00 ...    2500.00 ms\n",
      "        0 CTF compensation matrices available\n",
      "Not setting metadata\n",
      "57 matching events found\n",
      "No baseline correction applied\n",
      "0 projection items activated\n",
      "<EpochsFIF |  57 events (all good), -2.5 – 2.5 s, baseline -2.5 – 0 s, ~55.8 MB, data loaded,\n",
      " 'Hand HS': 10\n",
      " 'Hand LS': 9\n",
      " 'Hand NS': 10\n",
      " 'Back HS': 9\n",
      " 'Back LS': 9\n",
      " 'Back NS': 10>\n"
     ]
    },
    {
     "name": "stderr",
     "output_type": "stream",
     "text": [
      "/home/wanglab/Documents/George_Kenefati_6.20.24-Present/High-Pain-Cross-Study-EEG/src/preprocessing/classes.py:69: FutureWarning: The current default of copy=False will change to copy=True in 1.7. Set the value of copy explicitly to avoid this warning\n",
      "  self.epochs.data = self.epochs.get_data()\n"
     ]
    },
    {
     "name": "stdout",
     "output_type": "stream",
     "text": [
      "Reading /home/wanglab/Documents/George_Kenefati_6.20.24-Present/High-Pain-Cross-Study-EEG/notebooks/Preprocessing/../../../../George Kenefati/Chronic Low Back Pain Study/Data/Processed Data/C11_preprocessed-epo.fif ...\n",
      "    Found the data of interest:\n",
      "        t =   -2500.00 ...    2500.00 ms\n",
      "        0 CTF compensation matrices available\n",
      "Not setting metadata\n",
      "59 matching events found\n",
      "No baseline correction applied\n",
      "0 projection items activated\n",
      "<EpochsFIF |  59 events (all good), -2.5 – 2.5 s, baseline -2.5 – 0 s, ~57.7 MB, data loaded,\n",
      " 'Hand HS': 9\n",
      " 'Hand LS': 10\n",
      " 'Hand NS': 10\n",
      " 'Back HS': 10\n",
      " 'Back LS': 10\n",
      " 'Back NS': 10>\n"
     ]
    },
    {
     "name": "stderr",
     "output_type": "stream",
     "text": [
      "/home/wanglab/Documents/George_Kenefati_6.20.24-Present/High-Pain-Cross-Study-EEG/src/preprocessing/classes.py:69: FutureWarning: The current default of copy=False will change to copy=True in 1.7. Set the value of copy explicitly to avoid this warning\n",
      "  self.epochs.data = self.epochs.get_data()\n"
     ]
    },
    {
     "name": "stdout",
     "output_type": "stream",
     "text": [
      "Reading /home/wanglab/Documents/George_Kenefati_6.20.24-Present/High-Pain-Cross-Study-EEG/notebooks/Preprocessing/../../../../George Kenefati/Chronic Low Back Pain Study/Data/Processed Data/C12_preprocessed-epo.fif ...\n",
      "    Found the data of interest:\n",
      "        t =   -2500.00 ...    2500.00 ms\n",
      "        0 CTF compensation matrices available\n",
      "Not setting metadata\n",
      "60 matching events found\n",
      "No baseline correction applied\n",
      "0 projection items activated\n",
      "<EpochsFIF |  60 events (all good), -2.5 – 2.5 s, baseline -2.5 – 0 s, ~58.7 MB, data loaded,\n",
      " 'Hand HS': 10\n",
      " 'Hand LS': 10\n",
      " 'Hand NS': 10\n",
      " 'Back HS': 10\n",
      " 'Back LS': 10\n",
      " 'Back NS': 10>\n"
     ]
    },
    {
     "name": "stderr",
     "output_type": "stream",
     "text": [
      "/home/wanglab/Documents/George_Kenefati_6.20.24-Present/High-Pain-Cross-Study-EEG/src/preprocessing/classes.py:69: FutureWarning: The current default of copy=False will change to copy=True in 1.7. Set the value of copy explicitly to avoid this warning\n",
      "  self.epochs.data = self.epochs.get_data()\n"
     ]
    },
    {
     "name": "stdout",
     "output_type": "stream",
     "text": [
      "Reading /home/wanglab/Documents/George_Kenefati_6.20.24-Present/High-Pain-Cross-Study-EEG/notebooks/Preprocessing/../../../../George Kenefati/Chronic Low Back Pain Study/Data/Processed Data/C13_preprocessed-epo.fif ...\n",
      "    Found the data of interest:\n",
      "        t =   -2500.00 ...    2500.00 ms\n",
      "        0 CTF compensation matrices available\n",
      "Not setting metadata\n",
      "60 matching events found\n",
      "No baseline correction applied\n",
      "0 projection items activated\n",
      "<EpochsFIF |  60 events (all good), -2.5 – 2.5 s, baseline -2.5 – 0 s, ~58.7 MB, data loaded,\n",
      " 'Hand HS': 10\n",
      " 'Hand LS': 10\n",
      " 'Hand NS': 10\n",
      " 'Back HS': 10\n",
      " 'Back LS': 10\n",
      " 'Back NS': 10>\n"
     ]
    },
    {
     "name": "stderr",
     "output_type": "stream",
     "text": [
      "/home/wanglab/Documents/George_Kenefati_6.20.24-Present/High-Pain-Cross-Study-EEG/src/preprocessing/classes.py:69: FutureWarning: The current default of copy=False will change to copy=True in 1.7. Set the value of copy explicitly to avoid this warning\n",
      "  self.epochs.data = self.epochs.get_data()\n"
     ]
    },
    {
     "name": "stdout",
     "output_type": "stream",
     "text": [
      "Reading /home/wanglab/Documents/George_Kenefati_6.20.24-Present/High-Pain-Cross-Study-EEG/notebooks/Preprocessing/../../../../George Kenefati/Chronic Low Back Pain Study/Data/Processed Data/C14_preprocessed-epo.fif ...\n",
      "    Found the data of interest:\n",
      "        t =   -2500.00 ...    2500.00 ms\n",
      "        0 CTF compensation matrices available\n",
      "Not setting metadata\n",
      "60 matching events found\n",
      "No baseline correction applied\n",
      "0 projection items activated\n",
      "<EpochsFIF |  60 events (all good), -2.5 – 2.5 s, baseline -2.5 – 0 s, ~58.7 MB, data loaded,\n",
      " 'Hand HS': 10\n",
      " 'Hand LS': 10\n",
      " 'Hand NS': 10\n",
      " 'Back HS': 10\n",
      " 'Back LS': 10\n",
      " 'Back NS': 10>\n"
     ]
    },
    {
     "name": "stderr",
     "output_type": "stream",
     "text": [
      "/home/wanglab/Documents/George_Kenefati_6.20.24-Present/High-Pain-Cross-Study-EEG/src/preprocessing/classes.py:69: FutureWarning: The current default of copy=False will change to copy=True in 1.7. Set the value of copy explicitly to avoid this warning\n",
      "  self.epochs.data = self.epochs.get_data()\n"
     ]
    },
    {
     "name": "stdout",
     "output_type": "stream",
     "text": [
      "Reading /home/wanglab/Documents/George_Kenefati_6.20.24-Present/High-Pain-Cross-Study-EEG/notebooks/Preprocessing/../../../../George Kenefati/Chronic Low Back Pain Study/Data/Processed Data/C15_preprocessed-epo.fif ...\n",
      "    Found the data of interest:\n",
      "        t =   -2500.00 ...    2500.00 ms\n",
      "        0 CTF compensation matrices available\n",
      "Not setting metadata\n",
      "57 matching events found\n",
      "No baseline correction applied\n",
      "0 projection items activated\n",
      "<EpochsFIF |  57 events (all good), -2.5 – 2.5 s, baseline -2.5 – 0 s, ~55.8 MB, data loaded,\n",
      " 'Hand HS': 10\n",
      " 'Hand LS': 8\n",
      " 'Hand NS': 10\n",
      " 'Back HS': 10\n",
      " 'Back LS': 10\n",
      " 'Back NS': 9>\n"
     ]
    },
    {
     "name": "stderr",
     "output_type": "stream",
     "text": [
      "/home/wanglab/Documents/George_Kenefati_6.20.24-Present/High-Pain-Cross-Study-EEG/src/preprocessing/classes.py:69: FutureWarning: The current default of copy=False will change to copy=True in 1.7. Set the value of copy explicitly to avoid this warning\n",
      "  self.epochs.data = self.epochs.get_data()\n"
     ]
    },
    {
     "name": "stdout",
     "output_type": "stream",
     "text": [
      "Reading /home/wanglab/Documents/George_Kenefati_6.20.24-Present/High-Pain-Cross-Study-EEG/notebooks/Preprocessing/../../../../George Kenefati/Chronic Low Back Pain Study/Data/Processed Data/C16_preprocessed-epo.fif ...\n",
      "    Found the data of interest:\n",
      "        t =   -2500.00 ...    2500.00 ms\n",
      "        0 CTF compensation matrices available\n",
      "Not setting metadata\n",
      "57 matching events found\n",
      "No baseline correction applied\n",
      "0 projection items activated\n",
      "<EpochsFIF |  57 events (all good), -2.5 – 2.5 s, baseline -2.5 – 0 s, ~55.8 MB, data loaded,\n",
      " 'Hand HS': 9\n",
      " 'Hand LS': 10\n",
      " 'Hand NS': 10\n",
      " 'Back HS': 9\n",
      " 'Back LS': 10\n",
      " 'Back NS': 9>\n"
     ]
    },
    {
     "name": "stderr",
     "output_type": "stream",
     "text": [
      "/home/wanglab/Documents/George_Kenefati_6.20.24-Present/High-Pain-Cross-Study-EEG/src/preprocessing/classes.py:69: FutureWarning: The current default of copy=False will change to copy=True in 1.7. Set the value of copy explicitly to avoid this warning\n",
      "  self.epochs.data = self.epochs.get_data()\n"
     ]
    },
    {
     "name": "stdout",
     "output_type": "stream",
     "text": [
      "Reading /home/wanglab/Documents/George_Kenefati_6.20.24-Present/High-Pain-Cross-Study-EEG/notebooks/Preprocessing/../../../../George Kenefati/Chronic Low Back Pain Study/Data/Processed Data/C17_preprocessed-epo.fif ...\n",
      "    Found the data of interest:\n",
      "        t =   -2500.00 ...    2500.00 ms\n",
      "        0 CTF compensation matrices available\n",
      "Not setting metadata\n",
      "59 matching events found\n",
      "No baseline correction applied\n",
      "0 projection items activated\n",
      "<EpochsFIF |  59 events (all good), -2.5 – 2.5 s, baseline -2.5 – 0 s, ~57.7 MB, data loaded,\n",
      " 'Hand HS': 10\n",
      " 'Hand LS': 10\n",
      " 'Hand NS': 10\n",
      " 'Back HS': 10\n",
      " 'Back LS': 9\n",
      " 'Back NS': 10>\n"
     ]
    },
    {
     "name": "stderr",
     "output_type": "stream",
     "text": [
      "/home/wanglab/Documents/George_Kenefati_6.20.24-Present/High-Pain-Cross-Study-EEG/src/preprocessing/classes.py:69: FutureWarning: The current default of copy=False will change to copy=True in 1.7. Set the value of copy explicitly to avoid this warning\n",
      "  self.epochs.data = self.epochs.get_data()\n"
     ]
    },
    {
     "name": "stdout",
     "output_type": "stream",
     "text": [
      "Reading /home/wanglab/Documents/George_Kenefati_6.20.24-Present/High-Pain-Cross-Study-EEG/notebooks/Preprocessing/../../../../George Kenefati/Chronic Low Back Pain Study/Data/Processed Data/C18_preprocessed-epo.fif ...\n",
      "    Found the data of interest:\n",
      "        t =   -2500.00 ...    2500.00 ms\n",
      "        0 CTF compensation matrices available\n",
      "Not setting metadata\n",
      "60 matching events found\n",
      "No baseline correction applied\n",
      "0 projection items activated\n",
      "<EpochsFIF |  60 events (all good), -2.5 – 2.5 s, baseline -2.5 – 0 s, ~58.7 MB, data loaded,\n",
      " 'Hand HS': 10\n",
      " 'Hand LS': 10\n",
      " 'Hand NS': 10\n",
      " 'Back HS': 10\n",
      " 'Back LS': 10\n",
      " 'Back NS': 10>\n"
     ]
    },
    {
     "name": "stderr",
     "output_type": "stream",
     "text": [
      "/home/wanglab/Documents/George_Kenefati_6.20.24-Present/High-Pain-Cross-Study-EEG/src/preprocessing/classes.py:69: FutureWarning: The current default of copy=False will change to copy=True in 1.7. Set the value of copy explicitly to avoid this warning\n",
      "  self.epochs.data = self.epochs.get_data()\n"
     ]
    },
    {
     "name": "stdout",
     "output_type": "stream",
     "text": [
      "Reading /home/wanglab/Documents/George_Kenefati_6.20.24-Present/High-Pain-Cross-Study-EEG/notebooks/Preprocessing/../../../../George Kenefati/Chronic Low Back Pain Study/Data/Processed Data/C19_preprocessed-epo.fif ...\n",
      "    Found the data of interest:\n",
      "        t =   -2500.00 ...    2500.00 ms\n",
      "        0 CTF compensation matrices available\n",
      "Not setting metadata\n",
      "56 matching events found\n",
      "No baseline correction applied\n",
      "0 projection items activated\n",
      "<EpochsFIF |  56 events (all good), -2.5 – 2.5 s, baseline -2.5 – 0 s, ~54.8 MB, data loaded,\n",
      " 'Hand HS': 10\n",
      " 'Hand LS': 9\n",
      " 'Hand NS': 9\n",
      " 'Back HS': 10\n",
      " 'Back LS': 9\n",
      " 'Back NS': 9>\n"
     ]
    },
    {
     "name": "stderr",
     "output_type": "stream",
     "text": [
      "/home/wanglab/Documents/George_Kenefati_6.20.24-Present/High-Pain-Cross-Study-EEG/src/preprocessing/classes.py:69: FutureWarning: The current default of copy=False will change to copy=True in 1.7. Set the value of copy explicitly to avoid this warning\n",
      "  self.epochs.data = self.epochs.get_data()\n"
     ]
    },
    {
     "name": "stdout",
     "output_type": "stream",
     "text": [
      "Reading /home/wanglab/Documents/George_Kenefati_6.20.24-Present/High-Pain-Cross-Study-EEG/notebooks/Preprocessing/../../../../George Kenefati/Chronic Low Back Pain Study/Data/Processed Data/C2._preprocessed-epo.fif ...\n",
      "    Found the data of interest:\n",
      "        t =   -2500.00 ...    2500.00 ms\n",
      "        0 CTF compensation matrices available\n",
      "Not setting metadata\n",
      "74 matching events found\n",
      "No baseline correction applied\n",
      "0 projection items activated\n",
      "<EpochsFIF |  74 events (all good), -2.5 – 2.5 s, baseline -2.5 – 0 s, ~72.4 MB, data loaded,\n",
      " 'Hand HS': 16\n",
      " 'Hand NS': 19\n",
      " 'Back HS': 19\n",
      " 'Back NS': 20>\n"
     ]
    },
    {
     "name": "stderr",
     "output_type": "stream",
     "text": [
      "/home/wanglab/Documents/George_Kenefati_6.20.24-Present/High-Pain-Cross-Study-EEG/src/preprocessing/classes.py:69: FutureWarning: The current default of copy=False will change to copy=True in 1.7. Set the value of copy explicitly to avoid this warning\n",
      "  self.epochs.data = self.epochs.get_data()\n"
     ]
    },
    {
     "name": "stdout",
     "output_type": "stream",
     "text": [
      "Reading /home/wanglab/Documents/George_Kenefati_6.20.24-Present/High-Pain-Cross-Study-EEG/notebooks/Preprocessing/../../../../George Kenefati/Chronic Low Back Pain Study/Data/Processed Data/C24_preprocessed-epo.fif ...\n",
      "    Found the data of interest:\n",
      "        t =   -2500.00 ...    2500.00 ms\n",
      "        0 CTF compensation matrices available\n",
      "Not setting metadata\n",
      "55 matching events found\n",
      "No baseline correction applied\n",
      "0 projection items activated\n",
      "<EpochsFIF |  55 events (all good), -2.5 – 2.5 s, baseline -2.5 – 0 s, ~50.5 MB, data loaded,\n",
      " 'Hand HS': 10\n",
      " 'Hand LS': 10\n",
      " 'Hand NS': 10\n",
      " 'Back HS': 6\n",
      " 'Back LS': 10\n",
      " 'Back NS': 9>\n"
     ]
    },
    {
     "name": "stderr",
     "output_type": "stream",
     "text": [
      "/home/wanglab/Documents/George_Kenefati_6.20.24-Present/High-Pain-Cross-Study-EEG/src/preprocessing/classes.py:69: FutureWarning: The current default of copy=False will change to copy=True in 1.7. Set the value of copy explicitly to avoid this warning\n",
      "  self.epochs.data = self.epochs.get_data()\n"
     ]
    },
    {
     "name": "stdout",
     "output_type": "stream",
     "text": [
      "Reading /home/wanglab/Documents/George_Kenefati_6.20.24-Present/High-Pain-Cross-Study-EEG/notebooks/Preprocessing/../../../../George Kenefati/Chronic Low Back Pain Study/Data/Processed Data/C25_preprocessed-epo.fif ...\n",
      "    Found the data of interest:\n",
      "        t =   -2500.00 ...    2500.00 ms\n",
      "        0 CTF compensation matrices available\n",
      "Not setting metadata\n",
      "56 matching events found\n",
      "No baseline correction applied\n",
      "0 projection items activated\n",
      "<EpochsFIF |  56 events (all good), -2.5 – 2.5 s, baseline -2.5 – 0 s, ~54.8 MB, data loaded,\n",
      " 'Hand HS': 9\n",
      " 'Hand LS': 9\n",
      " 'Hand NS': 9\n",
      " 'Back HS': 9\n",
      " 'Back LS': 10\n",
      " 'Back NS': 10>\n"
     ]
    },
    {
     "name": "stderr",
     "output_type": "stream",
     "text": [
      "/home/wanglab/Documents/George_Kenefati_6.20.24-Present/High-Pain-Cross-Study-EEG/src/preprocessing/classes.py:69: FutureWarning: The current default of copy=False will change to copy=True in 1.7. Set the value of copy explicitly to avoid this warning\n",
      "  self.epochs.data = self.epochs.get_data()\n"
     ]
    },
    {
     "name": "stdout",
     "output_type": "stream",
     "text": [
      "Reading /home/wanglab/Documents/George_Kenefati_6.20.24-Present/High-Pain-Cross-Study-EEG/notebooks/Preprocessing/../../../../George Kenefati/Chronic Low Back Pain Study/Data/Processed Data/C26_preprocessed-epo.fif ...\n",
      "    Found the data of interest:\n",
      "        t =   -2500.00 ...    2500.00 ms\n",
      "        0 CTF compensation matrices available\n",
      "Not setting metadata\n",
      "118 matching events found\n",
      "No baseline correction applied\n",
      "0 projection items activated\n",
      "<EpochsFIF |  118 events (all good), -2.5 – 2.5 s, baseline 0 – 0 s, ~115.4 MB, data loaded,\n",
      " '1000001': 58\n",
      " '1100001': 60>\n"
     ]
    },
    {
     "name": "stderr",
     "output_type": "stream",
     "text": [
      "/home/wanglab/Documents/George_Kenefati_6.20.24-Present/High-Pain-Cross-Study-EEG/src/preprocessing/classes.py:69: FutureWarning: The current default of copy=False will change to copy=True in 1.7. Set the value of copy explicitly to avoid this warning\n",
      "  self.epochs.data = self.epochs.get_data()\n"
     ]
    },
    {
     "name": "stdout",
     "output_type": "stream",
     "text": [
      "Reading /home/wanglab/Documents/George_Kenefati_6.20.24-Present/High-Pain-Cross-Study-EEG/notebooks/Preprocessing/../../../../George Kenefati/Chronic Low Back Pain Study/Data/Processed Data/C27_preprocessed-epo.fif ...\n",
      "    Found the data of interest:\n",
      "        t =   -2500.00 ...    2500.00 ms\n",
      "        0 CTF compensation matrices available\n",
      "Not setting metadata\n",
      "52 matching events found\n",
      "No baseline correction applied\n",
      "0 projection items activated\n",
      "<EpochsFIF |  52 events (all good), -2.5 – 2.5 s, baseline -2.5 – 0 s, ~50.9 MB, data loaded,\n",
      " 'Hand HS': 10\n",
      " 'Hand LS': 9\n",
      " 'Hand NS': 8\n",
      " 'Back HS': 10\n",
      " 'Back LS': 6\n",
      " 'Back NS': 9>\n"
     ]
    },
    {
     "name": "stderr",
     "output_type": "stream",
     "text": [
      "/home/wanglab/Documents/George_Kenefati_6.20.24-Present/High-Pain-Cross-Study-EEG/src/preprocessing/classes.py:69: FutureWarning: The current default of copy=False will change to copy=True in 1.7. Set the value of copy explicitly to avoid this warning\n",
      "  self.epochs.data = self.epochs.get_data()\n"
     ]
    },
    {
     "name": "stdout",
     "output_type": "stream",
     "text": [
      "Reading /home/wanglab/Documents/George_Kenefati_6.20.24-Present/High-Pain-Cross-Study-EEG/notebooks/Preprocessing/../../../../George Kenefati/Chronic Low Back Pain Study/Data/Processed Data/C3._preprocessed-epo.fif ...\n",
      "    Found the data of interest:\n",
      "        t =   -2500.00 ...    2500.00 ms\n",
      "        0 CTF compensation matrices available\n",
      "Not setting metadata\n",
      "76 matching events found\n",
      "No baseline correction applied\n",
      "0 projection items activated\n",
      "<EpochsFIF |  76 events (all good), -2.5 – 2.5 s, baseline -2.5 – 0 s, ~74.3 MB, data loaded,\n",
      " 'Hand HS': 20\n",
      " 'Hand NS': 18\n",
      " 'Back HS': 18\n",
      " 'Back NS': 20>\n"
     ]
    },
    {
     "name": "stderr",
     "output_type": "stream",
     "text": [
      "/home/wanglab/Documents/George_Kenefati_6.20.24-Present/High-Pain-Cross-Study-EEG/src/preprocessing/classes.py:69: FutureWarning: The current default of copy=False will change to copy=True in 1.7. Set the value of copy explicitly to avoid this warning\n",
      "  self.epochs.data = self.epochs.get_data()\n"
     ]
    },
    {
     "name": "stdout",
     "output_type": "stream",
     "text": [
      "Reading /home/wanglab/Documents/George_Kenefati_6.20.24-Present/High-Pain-Cross-Study-EEG/notebooks/Preprocessing/../../../../George Kenefati/Chronic Low Back Pain Study/Data/Processed Data/C6._preprocessed-epo.fif ...\n",
      "    Found the data of interest:\n",
      "        t =   -2500.00 ...    2500.00 ms\n",
      "        0 CTF compensation matrices available\n",
      "Not setting metadata\n",
      "52 matching events found\n",
      "No baseline correction applied\n",
      "0 projection items activated\n",
      "<EpochsFIF |  52 events (all good), -2.5 – 2.5 s, baseline -2.5 – 0 s, ~50.9 MB, data loaded,\n",
      " 'Hand HS': 10\n",
      " 'Hand LS': 8\n",
      " 'Hand NS': 10\n",
      " 'Back HS': 9\n",
      " 'Back LS': 6\n",
      " 'Back NS': 9>\n"
     ]
    },
    {
     "name": "stderr",
     "output_type": "stream",
     "text": [
      "/home/wanglab/Documents/George_Kenefati_6.20.24-Present/High-Pain-Cross-Study-EEG/src/preprocessing/classes.py:69: FutureWarning: The current default of copy=False will change to copy=True in 1.7. Set the value of copy explicitly to avoid this warning\n",
      "  self.epochs.data = self.epochs.get_data()\n"
     ]
    },
    {
     "name": "stdout",
     "output_type": "stream",
     "text": [
      "Reading /home/wanglab/Documents/George_Kenefati_6.20.24-Present/High-Pain-Cross-Study-EEG/notebooks/Preprocessing/../../../../George Kenefati/Chronic Low Back Pain Study/Data/Processed Data/C7._preprocessed-epo.fif ...\n",
      "    Found the data of interest:\n",
      "        t =   -2500.00 ...    2500.00 ms\n",
      "        0 CTF compensation matrices available\n",
      "Not setting metadata\n",
      "60 matching events found\n",
      "No baseline correction applied\n",
      "0 projection items activated\n",
      "<EpochsFIF |  60 events (all good), -2.5 – 2.5 s, baseline -2.5 – 0 s, ~58.7 MB, data loaded,\n",
      " 'Hand HS': 10\n",
      " 'Hand LS': 10\n",
      " 'Hand NS': 10\n",
      " 'Back HS': 10\n",
      " 'Back LS': 10\n",
      " 'Back NS': 10>\n"
     ]
    },
    {
     "name": "stderr",
     "output_type": "stream",
     "text": [
      "/home/wanglab/Documents/George_Kenefati_6.20.24-Present/High-Pain-Cross-Study-EEG/src/preprocessing/classes.py:69: FutureWarning: The current default of copy=False will change to copy=True in 1.7. Set the value of copy explicitly to avoid this warning\n",
      "  self.epochs.data = self.epochs.get_data()\n"
     ]
    },
    {
     "name": "stdout",
     "output_type": "stream",
     "text": [
      "Reading /home/wanglab/Documents/George_Kenefati_6.20.24-Present/High-Pain-Cross-Study-EEG/notebooks/Preprocessing/../../../../George Kenefati/Chronic Low Back Pain Study/Data/Processed Data/C9._preprocessed-epo.fif ...\n",
      "    Found the data of interest:\n",
      "        t =   -2500.00 ...    2500.00 ms\n",
      "        0 CTF compensation matrices available\n",
      "Not setting metadata\n",
      "60 matching events found\n",
      "No baseline correction applied\n",
      "0 projection items activated\n",
      "<EpochsFIF |  60 events (all good), -2.5 – 2.5 s, baseline -2.5 – 0 s, ~58.7 MB, data loaded,\n",
      " 'Hand HS': 10\n",
      " 'Hand LS': 10\n",
      " 'Hand NS': 10\n",
      " 'Back HS': 10\n",
      " 'Back LS': 10\n",
      " 'Back NS': 10>\n"
     ]
    },
    {
     "name": "stderr",
     "output_type": "stream",
     "text": [
      "/home/wanglab/Documents/George_Kenefati_6.20.24-Present/High-Pain-Cross-Study-EEG/src/preprocessing/classes.py:69: FutureWarning: The current default of copy=False will change to copy=True in 1.7. Set the value of copy explicitly to avoid this warning\n",
      "  self.epochs.data = self.epochs.get_data()\n"
     ]
    }
   ],
   "source": [
    "import sys\n",
    "import os\n",
    "from pathlib import Path\n",
    "src_path = os.path.dirname(os.path.abspath(\"../../src\"))\n",
    "sys.path.append(src_path)\n",
    "from src.preprocessing.classes import Subject, Group\n",
    "from src.utils.config import Config\n",
    "import src.configs.config as configs\n",
    "import src.preprocessing.utils as pre_utils \n",
    "\n",
    "# Define preprocessing parameters\n",
    "TIME_RANGE = (-2.5, 2.5)\n",
    "PERISTIM_TIME_WIN = abs(TIME_RANGE[0]) + abs(TIME_RANGE[1])\n",
    "# BASELINE = (-0.2, 0)\n",
    "\n",
    "# Load in subject IDs and paths from CFGLog\n",
    "config = Config.from_json(configs.CFGLog)\n",
    "\n",
    "CLBP_CP_subject_ids = config.data.chronic_low_back_pain.subject_ids.CP\n",
    "CLBP_HC_subject_ids = config.data.chronic_low_back_pain.subject_ids.HC\n",
    "times_tup, time_win_path = pre_utils.get_time_window(PERISTIM_TIME_WIN)\n",
    "\n",
    "# Combine all subject IDs into dict\n",
    "sub_ids = {\n",
    "    \"chronic_low_back_pain\": CLBP_CP_subject_ids + CLBP_HC_subject_ids}\n",
    "print(f\"Total subjects: {len(sub_ids['chronic_low_back_pain']) }\")\n",
    "print(sub_ids)\n",
    "\n",
    "# Convert CLBP data to MAT\n",
    "group = \"chronic_low_back_pain\"\n",
    "clbp_processed_path = config.data.chronic_low_back_pain.processed_path\n",
    "\n",
    "for sub_id in sub_ids[group]:\n",
    "    subject = Subject(sub_id, group)\n",
    "    subject.load_epochs(clbp_processed_path)\n",
    "    print(subject.epochs)\n",
    "    subject.save(subject.epochs.data, \"epochs\", as_mat=True)\n"
   ]
  },
  {
   "cell_type": "code",
   "execution_count": null,
   "metadata": {},
   "outputs": [],
   "source": []
  }
 ],
 "metadata": {
  "kernelspec": {
   "display_name": "Python 3",
   "language": "python",
   "name": "python3"
  },
  "language_info": {
   "codemirror_mode": {
    "name": "ipython",
    "version": 3
   },
   "file_extension": ".py",
   "mimetype": "text/x-python",
   "name": "python",
   "nbconvert_exporter": "python",
   "pygments_lexer": "ipython3",
   "version": "3.11.9"
  }
 },
 "nbformat": 4,
 "nbformat_minor": 2
}

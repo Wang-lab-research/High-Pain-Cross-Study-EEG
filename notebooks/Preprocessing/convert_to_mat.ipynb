{
 "cells": [
  {
   "cell_type": "markdown",
   "metadata": {},
   "source": [
    "# Convert CLBP data to MAT"
   ]
  },
  {
   "cell_type": "code",
   "execution_count": 1,
   "metadata": {},
   "outputs": [
    {
     "name": "stdout",
     "output_type": "stream",
     "text": [
      "imported src module\n",
      "imported preprocessing module\n",
      "imported utils module\n",
      "imported configs module\n",
      "0 files missing from root.txt in /home/wanglab/mne_data/MNE-fsaverage-data\n",
      "0 files missing from bem.txt in /home/wanglab/mne_data/MNE-fsaverage-data/fsaverage\n",
      "Total subjects: 43\n",
      "{'chronic_low_back_pain': ['018', '022', '024', '031', '032', '034', '036', '039', '040', '045', '046', '052', '020', '021', '023', '029', '037', '041', '042', '044', '048', '049', '050', '056', 'C10', 'C11', 'C12', 'C13', 'C14', 'C15', 'C16', 'C17', 'C18', 'C19', 'C2.', 'C24', 'C25', 'C26', 'C27', 'C3.', 'C6.', 'C7.', 'C9.']}\n"
     ]
    }
   ],
   "source": [
    "import sys\n",
    "import os\n",
    "from pathlib import Path\n",
    "src_path = os.path.dirname(os.path.abspath(\"../../src\"))\n",
    "sys.path.append(src_path)\n",
    "from src.preprocessing.classes import Subject, Group\n",
    "from src.utils.config import Config\n",
    "import src.configs.config as configs\n",
    "import src.preprocessing.utils as pre_utils \n",
    "\n",
    "# Load in subject IDs and paths from CFGLog\n",
    "config = Config.from_json(configs.CFGLog)\n",
    "\n",
    "CLBP_CP_subject_ids = config.data.chronic_low_back_pain.subject_ids.CP\n",
    "CLBP_HC_subject_ids = config.data.chronic_low_back_pain.subject_ids.HC\n",
    "\n",
    "# Combine all subject IDs into dict\n",
    "sub_ids = {\n",
    "    \"chronic_low_back_pain\": CLBP_CP_subject_ids + CLBP_HC_subject_ids}\n",
    "print(f\"Total subjects: {len(sub_ids['chronic_low_back_pain']) }\")\n",
    "print(sub_ids)\n",
    "\n",
    "# Convert CLBP data to MAT\n",
    "group = \"chronic_low_back_pain\"\n",
    "clbp_processed_path = config.data.chronic_low_back_pain.processed_path"
   ]
  },
  {
   "cell_type": "code",
   "execution_count": 2,
   "metadata": {},
   "outputs": [],
   "source": [
    "sub_ids = {\n",
    "    \"chronic_low_back_pain\": ['039']}\n"
   ]
  },
  {
   "cell_type": "code",
   "execution_count": 8,
   "metadata": {},
   "outputs": [
    {
     "name": "stdout",
     "output_type": "stream",
     "text": [
      "Loaded epochs for subject 039\n",
      "len(subject.epochs) = 48, len(subject.events) = 48, len(subject.pain_ratings) = 48, len(subject.stimulus_labels) = 48\n",
      "All same length: True\n",
      "Done!\n"
     ]
    }
   ],
   "source": [
    "for sub_id in sub_ids[group]:\n",
    "    subject = Subject(sub_id, group)\n",
    "    subject.load_epochs()\n",
    "    subject.load_epochs_info()\n",
    "    \n",
    "    print(f\"len(subject.epochs) = {len(subject.epochs)}, len(subject.events) = {len(subject.events)}, len(subject.pain_ratings) = {len(subject.pain_ratings)}, len(subject.stimulus_labels) = {len(subject.stimulus_labels)}\")\n",
    "    print(f\"All same length: {len(subject.epochs) == len(subject.events) == len(subject.pain_ratings) == len(subject.stimulus_labels)}\")\n",
    "    \n",
    "    data_objects = {\n",
    "        \"epochs\": subject.epochs.data,\n",
    "        \"events\": subject.events,\n",
    "        \"pain_ratings\": subject.pain_ratings,\n",
    "        \"stimulus_labels\": subject.stimulus_labels\n",
    "    }\n",
    "\n",
    "    for object_name, data_object in data_objects.items():\n",
    "        file_path = os.path.join(subject.preprocessed_data_path, f\"{sub_id}_{object_name}.mat\")\n",
    "        sio.savemat(file_path, {\"data\": data_object})\n",
    "\n",
    "    print(\"Done!\")\n"
   ]
  },
  {
   "cell_type": "code",
   "execution_count": 9,
   "metadata": {},
   "outputs": [
    {
     "data": {
      "text/plain": [
       "{'__header__': b'MATLAB 5.0 MAT-file Platform: posix, Created on: Tue Jul 23 14:14:14 2024',\n",
       " '__version__': '1.0',\n",
       " '__globals__': [],\n",
       " 'data': array([[[-0.38509477, -0.76321793, -1.13000036, ...,  0.49388716,\n",
       "           0.60759844,  0.79651964],\n",
       "         [-0.20315377, -0.60116625, -0.85916242, ...,  0.352212  ,\n",
       "          -0.15949916, -0.32706231],\n",
       "         [-0.55746473, -0.53904411, -0.54503973, ...,  0.66403402,\n",
       "           0.7305404 ,  0.60201974],\n",
       "         ...,\n",
       "         [ 1.01246018,  0.59392777,  0.14367202, ..., -0.67176396,\n",
       "          -0.95029829, -0.72807674],\n",
       "         [ 1.94494943,  1.93639417,  1.939392  , ...,  2.0959855 ,\n",
       "           2.10751362,  2.12367567],\n",
       "         [-1.86802168, -1.86801682, -1.87229408, ..., -1.83841175,\n",
       "          -1.82796163, -1.83384257]],\n",
       " \n",
       "        [[-0.07537964, -0.12942374, -0.10198235, ..., -1.24988789,\n",
       "          -1.16139137, -0.86939881],\n",
       "         [-0.13239989,  0.10588939,  0.22450635, ..., -1.29737261,\n",
       "          -1.20208333, -0.78957025],\n",
       "         [-1.3330807 , -1.25642255, -1.09161149, ..., -0.72714598,\n",
       "          -0.62723826, -0.35719127],\n",
       "         ...,\n",
       "         [ 0.40157466,  0.86976152,  0.70341693, ..., -0.61625794,\n",
       "           0.61068897,  1.91789573],\n",
       "         [ 2.00651817,  2.00265837,  2.01771579, ...,  1.97926791,\n",
       "           2.00657432,  2.01132524],\n",
       "         [-1.61605192, -1.59495323, -1.60948122, ..., -1.66153524,\n",
       "          -1.64941305, -1.63850867]],\n",
       " \n",
       "        [[-0.1825656 ,  0.00588012,  0.62650489, ..., -2.01872262,\n",
       "          -1.74461017, -1.42879032],\n",
       "         [ 0.50888851,  0.61067658,  0.96306042, ..., -1.24253644,\n",
       "          -1.41444495, -1.71090066],\n",
       "         [ 0.75810896,  0.9001525 ,  1.46613647, ..., -0.96441355,\n",
       "          -0.9254204 , -0.79551904],\n",
       "         ...,\n",
       "         [ 0.12272402,  0.26432597, -0.20900587, ...,  2.46921251,\n",
       "           1.549196  , -0.505625  ],\n",
       "         [ 1.7731708 ,  1.77335481,  1.77228626, ...,  1.78034646,\n",
       "           1.78081558,  1.76051998],\n",
       "         [-1.51973707, -1.51277728, -1.50013798, ..., -1.48274126,\n",
       "          -1.4803457 , -1.48026882]],\n",
       " \n",
       "        ...,\n",
       " \n",
       "        [[-1.29696561, -0.41468722,  0.56293751, ...,  0.88830527,\n",
       "           1.08921822,  1.42211557],\n",
       "         [-1.85670822, -0.93003015,  0.17457022, ...,  1.01971294,\n",
       "           1.49519224,  1.74446633],\n",
       "         [-1.15001085, -0.1444473 ,  0.84525569, ...,  0.17036149,\n",
       "           0.44321899,  0.66419232],\n",
       "         ...,\n",
       "         [ 1.89843876,  0.81972051, -0.05904364, ...,  0.41836207,\n",
       "           0.83580333,  1.15958506],\n",
       "         [-1.19258989, -1.19791988, -1.19941217, ..., -1.15188257,\n",
       "          -1.18387014, -1.15428963],\n",
       "         [ 1.42776033,  1.43810248,  1.4392911 , ...,  1.37465773,\n",
       "           1.32667091,  1.34671062]],\n",
       " \n",
       "        [[-2.07787126, -2.47867464, -2.61823761, ...,  1.50209886,\n",
       "           1.27761067,  0.43969235],\n",
       "         [-1.76099255, -2.01880069, -2.0356429 , ...,  0.1503721 ,\n",
       "          -0.02846002, -0.6463145 ],\n",
       "         [-1.84061018, -2.02796877, -1.96406824, ..., -0.20709103,\n",
       "          -0.66202791, -1.30200089],\n",
       "         ...,\n",
       "         [ 2.39835817,  3.89683702,  4.44448185, ..., -0.12953195,\n",
       "           0.18666573,  0.28858073],\n",
       "         [-1.29783126, -1.31913891, -1.31167563, ..., -1.24715901,\n",
       "          -1.24155017, -1.23601485],\n",
       "         [ 1.53694639,  1.51891671,  1.50893837, ...,  1.46486063,\n",
       "           1.46946682,  1.47109425]],\n",
       " \n",
       "        [[ 0.01369073,  0.08230093,  0.0480249 , ...,  0.08122655,\n",
       "           0.08871353,  0.21958781],\n",
       "         [-0.03925395,  0.10491378,  0.25817566, ..., -0.73713459,\n",
       "          -0.7522657 , -0.46620721],\n",
       "         [ 0.18061326,  0.44081309,  0.59829714, ..., -1.086058  ,\n",
       "          -0.93606796, -0.59689073],\n",
       "         ...,\n",
       "         [-1.57322275, -0.72699383,  0.00522931, ...,  0.45644713,\n",
       "          -0.27045425, -0.36156139],\n",
       "         [-1.40821772, -1.39150102, -1.38773454, ..., -1.45351985,\n",
       "          -1.42639295, -1.4346758 ],\n",
       "         [ 1.08295705,  1.08603177,  1.0807155 , ...,  1.24904697,\n",
       "           1.23355875,  1.24296488]]])}"
      ]
     },
     "execution_count": 9,
     "metadata": {},
     "output_type": "execute_result"
    }
   ],
   "source": [
    "import scipy.io as sio\n",
    "\n",
    "sio.loadmat(os.path.join(subject.preprocessed_data_path, f\"{sub_id}_pain_ratings.mat\"))\n",
    "sio.loadmat(os.path.join(subject.preprocessed_data_path, f\"{sub_id}_stimulus_labels.mat\"))\n",
    "sio.loadmat(os.path.join(subject.preprocessed_data_path, f\"{sub_id}_events.mat\"))\n",
    "sio.loadmat(os.path.join(subject.preprocessed_data_path, f\"{sub_id}_epochs.mat\"))"
   ]
  },
  {
   "cell_type": "code",
   "execution_count": null,
   "metadata": {},
   "outputs": [],
   "source": []
  }
 ],
 "metadata": {
  "kernelspec": {
   "display_name": "Python 3",
   "language": "python",
   "name": "python3"
  },
  "language_info": {
   "codemirror_mode": {
    "name": "ipython",
    "version": 3
   },
   "file_extension": ".py",
   "mimetype": "text/x-python",
   "name": "python",
   "nbconvert_exporter": "python",
   "pygments_lexer": "ipython3",
   "version": "3.11.9"
  }
 },
 "nbformat": 4,
 "nbformat_minor": 2
}
